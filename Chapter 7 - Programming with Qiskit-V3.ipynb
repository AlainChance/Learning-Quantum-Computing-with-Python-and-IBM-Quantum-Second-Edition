{
 "cells": [
  {
   "cell_type": "markdown",
   "metadata": {},
   "source": [
    "# Chapter 7 - Programming with Qiskit\n",
    "This Jupyter notebook has been updated to work with Python 3.12 and the following Qiskit versions:\n",
    "* Qiskit v1.3, Qiskit runtime version: 0.34\n",
    "* Qiskit v 2.0, Qiskit runtime version: 0.37\n",
    "|||\n",
    "|-|-|\n",
    "|**Author:** |Robert Loredo|\n",
    "|**Reviewer:** |Alain Chancé|\n",
    "|**Date:** |April 12, 2025|\n",
    "|**Version:** |**1.00**<br/>*Details see at the end of this notebook*|\n",
    "|**References:**|\n",
    "[Robert Loredo, Learn Quantum Computing with Python and IBM Quantum: Write your own practical quantum programs with Python, Second Edition, Packt, Feb 25, 2025](https://www.packtpub.com/en-us/product/learn-quantum-computing-with-python-and-ibm-quantum-9781803240923)\n",
    "[Learning-Quantum-Computing-with-Python-and-IBM-Quantum-Second-Edition/Chapter 7 - Programming with Qiskit.ipynb](https://github.com/PacktPublishing/Learning-Quantum-Computing-with-Python-and-IBM-Quantum-Second-Edition/blob/main/Chapter%207%20-%20Programming%20with%20Qiskit.ipynb)\n",
    "[Packt's code repository for the book](https://github.com/PacktPublishing/Learning-Quantum-Computing-with-Python-and-IBM-Quantum-Second-Edition)\n",
    "[LICENSE](https://github.com/PacktPublishing/Learning-Quantum-Computing-with-Python-and-IBM-Quantum-Second-Edition/blob/main/LICENSE)\n",
    "[qiskit-community/qiskit-dynamics](https://github.com/qiskit-community/qiskit-dynamics)\n",
    "<br/>"
   ]
  },
  {
   "cell_type": "code",
   "execution_count": 1,
   "metadata": {},
   "outputs": [
    {
     "name": "stdout",
     "output_type": "stream",
     "text": [
      "Token read from file:  Token.txt\n",
      "Qiskit version: 2.0.0\n",
      "Qiskit runtime version: 0.37.0\n",
      "/home/alain/miniconda3/bin/python\n",
      "Python 3.12.9\n"
     ]
    }
   ],
   "source": [
    "# Load helper file\n",
    "%run helper_file_1.0.ipynb\n",
    "\n",
    "qc = QuantumCircuit(2,2)"
   ]
  },
  {
   "cell_type": "code",
   "execution_count": 2,
   "metadata": {},
   "outputs": [
    {
     "name": "stdout",
     "output_type": "stream",
     "text": [
      "Requirement already satisfied: qiskit-dynamics in /home/alain/miniconda3/lib/python3.12/site-packages (0.5.1)\n",
      "Requirement already satisfied: numpy>=1.17 in /home/alain/miniconda3/lib/python3.12/site-packages (from qiskit-dynamics) (2.0.1)\n",
      "Requirement already satisfied: scipy>=1.4 in /home/alain/miniconda3/lib/python3.12/site-packages (from qiskit-dynamics) (1.15.2)\n",
      "Requirement already satisfied: matplotlib>=3.0 in /home/alain/miniconda3/lib/python3.12/site-packages (from qiskit-dynamics) (3.10.1)\n",
      "Requirement already satisfied: qiskit in /home/alain/miniconda3/lib/python3.12/site-packages (from qiskit-dynamics) (2.0.0)\n",
      "Requirement already satisfied: multiset>=3.0.1 in /home/alain/miniconda3/lib/python3.12/site-packages (from qiskit-dynamics) (3.2.0)\n",
      "Requirement already satisfied: sympy>=1.12 in /home/alain/miniconda3/lib/python3.12/site-packages (from qiskit-dynamics) (1.13.3)\n",
      "Requirement already satisfied: arraylias in /home/alain/miniconda3/lib/python3.12/site-packages (from qiskit-dynamics) (0.1.1)\n",
      "Requirement already satisfied: contourpy>=1.0.1 in /home/alain/miniconda3/lib/python3.12/site-packages (from matplotlib>=3.0->qiskit-dynamics) (1.3.1)\n",
      "Requirement already satisfied: cycler>=0.10 in /home/alain/miniconda3/lib/python3.12/site-packages (from matplotlib>=3.0->qiskit-dynamics) (0.12.1)\n",
      "Requirement already satisfied: fonttools>=4.22.0 in /home/alain/miniconda3/lib/python3.12/site-packages (from matplotlib>=3.0->qiskit-dynamics) (4.57.0)\n",
      "Requirement already satisfied: kiwisolver>=1.3.1 in /home/alain/miniconda3/lib/python3.12/site-packages (from matplotlib>=3.0->qiskit-dynamics) (1.4.8)\n",
      "Requirement already satisfied: packaging>=20.0 in /home/alain/miniconda3/lib/python3.12/site-packages (from matplotlib>=3.0->qiskit-dynamics) (24.2)\n",
      "Requirement already satisfied: pillow>=8 in /home/alain/miniconda3/lib/python3.12/site-packages (from matplotlib>=3.0->qiskit-dynamics) (11.1.0)\n",
      "Requirement already satisfied: pyparsing>=2.3.1 in /home/alain/miniconda3/lib/python3.12/site-packages (from matplotlib>=3.0->qiskit-dynamics) (3.2.3)\n",
      "Requirement already satisfied: python-dateutil>=2.7 in /home/alain/miniconda3/lib/python3.12/site-packages (from matplotlib>=3.0->qiskit-dynamics) (2.9.0.post0)\n",
      "Requirement already satisfied: mpmath<1.4,>=1.1.0 in /home/alain/miniconda3/lib/python3.12/site-packages (from sympy>=1.12->qiskit-dynamics) (1.3.0)\n",
      "Requirement already satisfied: rustworkx>=0.15.0 in /home/alain/miniconda3/lib/python3.12/site-packages (from qiskit->qiskit-dynamics) (0.16.0)\n",
      "Requirement already satisfied: dill>=0.3 in /home/alain/miniconda3/lib/python3.12/site-packages (from qiskit->qiskit-dynamics) (0.3.9)\n",
      "Requirement already satisfied: stevedore>=3.0.0 in /home/alain/miniconda3/lib/python3.12/site-packages (from qiskit->qiskit-dynamics) (5.4.1)\n",
      "Requirement already satisfied: typing-extensions in /home/alain/miniconda3/lib/python3.12/site-packages (from qiskit->qiskit-dynamics) (4.12.2)\n",
      "Requirement already satisfied: symengine<0.14,>=0.11 in /home/alain/miniconda3/lib/python3.12/site-packages (from qiskit->qiskit-dynamics) (0.13.0)\n",
      "Requirement already satisfied: six>=1.5 in /home/alain/miniconda3/lib/python3.12/site-packages (from python-dateutil>=2.7->matplotlib>=3.0->qiskit-dynamics) (1.17.0)\n",
      "Requirement already satisfied: pbr>=2.0.0 in /home/alain/miniconda3/lib/python3.12/site-packages (from stevedore>=3.0.0->qiskit->qiskit-dynamics) (6.1.1)\n",
      "Requirement already satisfied: setuptools in /home/alain/miniconda3/lib/python3.12/site-packages (from pbr>=2.0.0->stevedore>=3.0.0->qiskit->qiskit-dynamics) (75.8.0)\n",
      "\n",
      "qiskit-dynamics installed\n"
     ]
    }
   ],
   "source": [
    "# Added by Alain Chancé\n",
    "# The entire Qiskit Pulse package is deprecated as of Qiskit 1.3, it is removed in Qiskit 2.0 \n",
    "# and moved to the Qiskit Dynamics repository: https://github.com/qiskit-community/qiskit-dynamics/\n",
    "qiskit_dynamics_installed = False\n",
    "\n",
    "# If Qiskit version >= 2\n",
    "if int(qiskit.__version__[0]) >= 2:\n",
    "    #Install qiskit-dynamics\n",
    "    !pip install qiskit-dynamics\n",
    "    qiskit_dynamics_installed = True\n",
    "    print(\"\\nqiskit-dynamics installed\")\n",
    "else:\n",
    "    # Use Qiskit Pulse\n",
    "    print(\"\\nUsing Qiskit Pulse\")"
   ]
  },
  {
   "cell_type": "markdown",
   "metadata": {},
   "source": [
    "# Customizing and optimizing quantum circuits"
   ]
  },
  {
   "cell_type": "markdown",
   "metadata": {},
   "source": [
    "## Components of a quantum circuit"
   ]
  },
  {
   "cell_type": "code",
   "execution_count": 3,
   "metadata": {
    "scrolled": true
   },
   "outputs": [
    {
     "data": {
      "image/png": "[encoded data removed]",
      "text/plain": [
       "<Figure size 246.011x284.278 with 1 Axes>"
      ]
     },
     "execution_count": 3,
     "metadata": {},
     "output_type": "execute_result"
    }
   ],
   "source": [
    "# Import registers\n",
    "from qiskit import QuantumRegister, ClassicalRegister\n",
    "\n",
    "qr = QuantumRegister(2, 'my_QR')\n",
    "cr = ClassicalRegister(2, 'my_CR')\n",
    "qc = QuantumCircuit(qr,cr)\n",
    "qc.draw(output='mpl')\n"
   ]
  },
  {
   "cell_type": "markdown",
   "metadata": {},
   "source": [
    "Figure 8.1: Customized quantum and classical register labels"
   ]
  },
  {
   "cell_type": "code",
   "execution_count": 4,
   "metadata": {},
   "outputs": [],
   "source": [
    "qc = QuantumCircuit(QuantumRegister(2, 'my_QR'), ClassicalRegister(2, 'my_CR'))"
   ]
  },
  {
   "cell_type": "code",
   "execution_count": 5,
   "metadata": {},
   "outputs": [
    {
     "data": {
      "image/png": "[encoded data removed]",
      "text/plain": [
       "<Figure size 192.127x284.278 with 1 Axes>"
      ]
     },
     "execution_count": 5,
     "metadata": {},
     "output_type": "execute_result"
    }
   ],
   "source": [
    "#Create the quantum and classical registers, each with labels\n",
    "qr1 = QuantumRegister(2, name='qr1')\n",
    "cr1 = ClassicalRegister(2, name='cr1')\n",
    "#Create the quantum circuit using the registers\n",
    "qc1 = QuantumCircuit(qr1, cr1)\n",
    "#Draw the circuit\n",
    "qc1.draw(output='mpl')\n"
   ]
  },
  {
   "cell_type": "markdown",
   "metadata": {},
   "source": [
    "Figure 8.2: The first of the two quantum circuits we will join"
   ]
  },
  {
   "cell_type": "code",
   "execution_count": 6,
   "metadata": {},
   "outputs": [
    {
     "data": {
      "image/png": "[encoded data removed]",
      "text/plain": [
       "<Figure size 192.329x284.278 with 1 Axes>"
      ]
     },
     "execution_count": 6,
     "metadata": {},
     "output_type": "execute_result"
    }
   ],
   "source": [
    "#Create two Quantum and Classical registers\n",
    "qr2 = QuantumRegister(2, name='qr2')\n",
    "cr2 = ClassicalRegister(2, name='cr2')\n",
    "#Create a second circuit using the registers created above\n",
    "qc2 = QuantumCircuit(qr2, cr2)\n",
    "#Draw the second quantum circuit\n",
    "qc2.draw(output='mpl')\n"
   ]
  },
  {
   "cell_type": "markdown",
   "metadata": {},
   "source": [
    "Figure 8.3: The second of the two quantum circuits we will join"
   ]
  },
  {
   "cell_type": "code",
   "execution_count": 7,
   "metadata": {},
   "outputs": [
    {
     "data": {
      "image/png": "[encoded data removed]",
      "text/plain": [
       "<Figure size 192.329x535.111 with 1 Axes>"
      ]
     },
     "execution_count": 7,
     "metadata": {},
     "output_type": "execute_result"
    }
   ],
   "source": [
    "#Concatenate the two previous circuits to create a new circuit\n",
    "#Create an empty quantum circuit\n",
    "qc_combined = QuantumCircuit()\n",
    "#Add the two previous quantum and classical registers to the empty quantum circuit\n",
    "qc_combined.add_register(qr1, qr2, cr1, cr2)\n",
    "#Draw the concatenated circuit\n",
    "qc_combined.draw(output='mpl')\n"
   ]
  },
  {
   "cell_type": "markdown",
   "metadata": {},
   "source": [
    "Figure 8.4: Concatenation of two quantum circuits"
   ]
  },
  {
   "cell_type": "code",
   "execution_count": 8,
   "metadata": {
    "scrolled": true
   },
   "outputs": [
    {
     "data": {
      "image/png": "[encoded data removed]",
      "text/plain": [
       "<Figure size 621.941x367.889 with 1 Axes>"
      ]
     },
     "execution_count": 8,
     "metadata": {},
     "output_type": "execute_result"
    }
   ],
   "source": [
    "#Import the random_circuit class\n",
    "from qiskit.circuit.random import random_circuit\n",
    "#Construct the random circuit with the number of qubits = 3\n",
    "#with a depth = 2, and include the measurement operator for each qubit\n",
    "qc = random_circuit(3, 2, measure=True)\n",
    "#Draw the circuit\n",
    "qc.draw(output='mpl')\n"
   ]
  },
  {
   "cell_type": "markdown",
   "metadata": {},
   "source": [
    "Figure 8.5: Random circuit generated with number of qubits = 3 and depth = 2"
   ]
  },
  {
   "cell_type": "markdown",
   "metadata": {},
   "source": [
    "## Obtaining circuit properties and analysis"
   ]
  },
  {
   "cell_type": "code",
   "execution_count": 9,
   "metadata": {
    "scrolled": true
   },
   "outputs": [
    {
     "data": {
      "image/png": "[encoded data removed]",
      "text/plain": [
       "<Figure size 705.35x200.667 with 1 Axes>"
      ]
     },
     "execution_count": 9,
     "metadata": {},
     "output_type": "execute_result"
    }
   ],
   "source": [
    "# Import the random circuit class\n",
    "from qiskit.circuit.random import random_circuit\n",
    "#Create two random circuits, each with 2 qubit registers and random #gate operator counts.\n",
    "qc1 = random_circuit(2,2)\n",
    "qc2 = random_circuit(2,4)\n",
    "#Concatenate the two random circuits\n",
    "qc = qc1.compose(qc2, [0,1])\n",
    "#Draw the circuit\n",
    "qc.draw(output='mpl')\n"
   ]
  },
  {
   "cell_type": "markdown",
   "metadata": {},
   "source": [
    "Figure 8.6: Randomly generated two-qubit circuits with a depth of 6"
   ]
  },
  {
   "cell_type": "code",
   "execution_count": 10,
   "metadata": {},
   "outputs": [],
   "source": [
    "#Define function to print circuit properties:\n",
    "def print_circuit_props(qc):\n",
    "    width = qc.width()\n",
    "    depth = qc.depth()\n",
    "    num_operators = qc.count_ops()\n",
    "    circuit_size = qc.size()\n",
    "    print('Width = ', width) \n",
    "    print('Depth = ', depth)\n",
    "    print('Circuit size = ', circuit_size)\n",
    "    print('Number of operators = ', num_operators)\n"
   ]
  },
  {
   "cell_type": "code",
   "execution_count": 11,
   "metadata": {},
   "outputs": [
    {
     "name": "stdout",
     "output_type": "stream",
     "text": [
      "Width =  2\n",
      "Depth =  6\n",
      "Circuit size =  9\n",
      "Number of operators =  OrderedDict({'swap': 1, 'rzz': 1, 'u1': 1, 'h': 1, 'rx': 1, 'r': 1, 't': 1, 'tdg': 1, 'crx': 1})\n"
     ]
    }
   ],
   "source": [
    "#Pass our quantum circuit to print out the circuit properties\n",
    "print_circuit_props(qc)\n"
   ]
  },
  {
   "cell_type": "code",
   "execution_count": 12,
   "metadata": {
    "scrolled": true
   },
   "outputs": [
    {
     "data": {
      "image/png": "[encoded data removed]",
      "text/plain": [
       "<Figure size 998.442x284.278 with 1 Axes>"
      ]
     },
     "execution_count": 12,
     "metadata": {},
     "output_type": "execute_result"
    }
   ],
   "source": [
    "#Use measure_all() to automatically add the barrier, measurement, and #classical register to our existing circuit.\n",
    "qc.measure_all()\n",
    "#Draw the circuit\n",
    "qc.draw(output='mpl')\n"
   ]
  },
  {
   "cell_type": "markdown",
   "metadata": {},
   "source": [
    "Figure 8.7: Random circuit with classical components added"
   ]
  },
  {
   "cell_type": "code",
   "execution_count": 13,
   "metadata": {},
   "outputs": [
    {
     "name": "stdout",
     "output_type": "stream",
     "text": [
      "Width =  4\n",
      "Depth =  7\n",
      "Circuit size =  11\n",
      "Number of operators =  OrderedDict({'measure': 2, 'swap': 1, 'rzz': 1, 'u1': 1, 'h': 1, 'rx': 1, 'r': 1, 't': 1, 'tdg': 1, 'crx': 1, 'barrier': 1})\n"
     ]
    }
   ],
   "source": [
    "#Print out the circuit properties\n",
    "print_circuit_props(qc)"
   ]
  },
  {
   "cell_type": "code",
   "execution_count": 14,
   "metadata": {
    "scrolled": true
   },
   "outputs": [
    {
     "data": {
      "image/png": "[encoded data removed]",
      "text/plain": [
       "<Figure size 203.885x284.278 with 1 Axes>"
      ]
     },
     "execution_count": 14,
     "metadata": {},
     "output_type": "execute_result"
    }
   ],
   "source": [
    "qc = QuantumCircuit(3)\n",
    "qc.ccx(0,1,2)\n",
    "qc.draw(output='mpl')\n"
   ]
  },
  {
   "cell_type": "markdown",
   "metadata": {},
   "source": [
    "Figure 8.8: The Toffoli gate on a quantum circuit"
   ]
  },
  {
   "cell_type": "code",
   "execution_count": 15,
   "metadata": {},
   "outputs": [
    {
     "name": "stdout",
     "output_type": "stream",
     "text": [
      "Width =  3\n",
      "Depth =  1\n",
      "Circuit size =  1\n",
      "Number of operators =  OrderedDict({'ccx': 1})\n"
     ]
    }
   ],
   "source": [
    "#Print out the circuit properties\n",
    "print_circuit_props(qc)\n"
   ]
  },
  {
   "cell_type": "code",
   "execution_count": 16,
   "metadata": {
    "scrolled": true
   },
   "outputs": [
    {
     "name": "stdout",
     "output_type": "stream",
     "text": [
      "Width =  3\n",
      "Depth =  11\n",
      "Circuit size =  15\n",
      "Number of operators =  OrderedDict({'cx': 6, 't': 4, 'tdg': 3, 'h': 2})\n"
     ]
    },
    {
     "data": {
      "image/png": "[encoded data removed]",
      "text/plain": [
       "<Figure size 1040x284.278 with 1 Axes>"
      ]
     },
     "execution_count": 16,
     "metadata": {},
     "output_type": "execute_result"
    }
   ],
   "source": [
    "#Print out the circuit properties\n",
    "print_circuit_props(qc.decompose())\n",
    "qc.decompose().draw(output='mpl')"
   ]
  },
  {
   "cell_type": "markdown",
   "metadata": {},
   "source": [
    "Decomposed random circuit with classical components added"
   ]
  },
  {
   "cell_type": "markdown",
   "metadata": {},
   "source": [
    "# Customization and Parameterization of circuits"
   ]
  },
  {
   "cell_type": "code",
   "execution_count": 17,
   "metadata": {
    "scrolled": true
   },
   "outputs": [
    {
     "data": {
      "image/png": "[encoded data removed]",
      "text/plain": [
       "<Figure size 329.765x200.667 with 1 Axes>"
      ]
     },
     "execution_count": 17,
     "metadata": {},
     "output_type": "execute_result"
    }
   ],
   "source": [
    "#Create a custom two-qubit composite gate\n",
    "#Create the quantum register\n",
    "qr = QuantumRegister(2, name='qr_c')\n",
    "#Generate quantum circuit which will make up the composite gate\n",
    "comp_qc = QuantumCircuit(qr, name='My-composite')\n",
    "#Add any gates you wish to your composite gate\n",
    "comp_qc.h(0)\n",
    "comp_qc.cx(0, 1)\n",
    "#Create the composite instructions by converting \n",
    "#the QuantumCircuit to a list of Instructions\n",
    "composite_inst = comp_qc.to_instruction()\n",
    "#Draw the circuit which will represent the composite gate\n",
    "comp_qc.draw(output='mpl')\n"
   ]
  },
  {
   "cell_type": "markdown",
   "metadata": {},
   "source": [
    "Figure 8.9: The quantum circuit that will represent the composite gate"
   ]
  },
  {
   "cell_type": "code",
   "execution_count": 18,
   "metadata": {},
   "outputs": [
    {
     "data": {
      "image/png": "[encoded data removed]",
      "text/plain": [
       "<Figure size 383.127x284.278 with 1 Axes>"
      ]
     },
     "execution_count": 18,
     "metadata": {},
     "output_type": "execute_result"
    }
   ],
   "source": [
    "#Create your 2-qubit circuit to generate your composite gate\n",
    "qr2 = QuantumRegister(3, 'qr')\n",
    "#Create a quantum circuit using the quantum register\n",
    "qc = QuantumCircuit(qr2)\n",
    "#Add any arbitrary gates that would represent the function \n",
    "#of the composite gate \n",
    "qc.h(0)\n",
    "qc.cx(0,1)\n",
    "qc.cx(0,2)\n",
    "#Draw the composite circuit\n",
    "qc.draw(output='mpl')\n"
   ]
  },
  {
   "cell_type": "markdown",
   "metadata": {},
   "source": [
    "Figure 8.10: The quantum circuit that we will append to the composite gate"
   ]
  },
  {
   "cell_type": "code",
   "execution_count": 19,
   "metadata": {
    "scrolled": true
   },
   "outputs": [
    {
     "data": {
      "image/png": "[encoded data removed]",
      "text/plain": [
       "<Figure size 633.96x284.278 with 1 Axes>"
      ]
     },
     "execution_count": 19,
     "metadata": {},
     "output_type": "execute_result"
    }
   ],
   "source": [
    "#Append your composite gate to the specified qubits. \n",
    "qc.append(composite_inst, [qr2[0], qr2[1]])\n",
    "#Draw the complete circuit\n",
    "qc.draw(output='mpl')\n"
   ]
  },
  {
   "cell_type": "markdown",
   "metadata": {},
   "source": [
    "Figure 8.11: The quantum circuit with a composite gate representation of a predefined circuit"
   ]
  },
  {
   "cell_type": "code",
   "execution_count": 20,
   "metadata": {
    "scrolled": true
   },
   "outputs": [
    {
     "data": {
      "image/png": "[encoded data removed]",
      "text/plain": [
       "<Figure size 370.906x200.667 with 1 Axes>"
      ]
     },
     "execution_count": 20,
     "metadata": {},
     "output_type": "execute_result"
    }
   ],
   "source": [
    "#Import the Parameter object\n",
    "from qiskit.circuit import Parameter\n",
    "#Construct the Parameter set to Theta\n",
    "param_theta = Parameter('θ')\n",
    "#Create a two-qubit quantum circuit and add some gates\n",
    "qc = QuantumCircuit(2)\n",
    "qc.h(0)\n",
    "qc.cx(0, 1)\n",
    "#Include a rotation gate which we wish to apply \n",
    "#the Parameter value \n",
    "qc.rz(param_theta,0)\n",
    "qc.rz(param_theta,1)\n",
    "#Draw the circuit\n",
    "qc.draw(output='mpl')\n"
   ]
  },
  {
   "cell_type": "markdown",
   "metadata": {},
   "source": [
    "Figure 8.12: Set the parameter of the $Rz$ gate to $\\theta$"
   ]
  },
  {
   "cell_type": "code",
   "execution_count": 21,
   "metadata": {
    "scrolled": true
   },
   "outputs": [
    {
     "data": {
      "image/png": "[encoded data removed]",
      "text/plain": [
       "<Figure size 370.906x200.667 with 1 Axes>"
      ]
     },
     "execution_count": 21,
     "metadata": {},
     "output_type": "execute_result"
    }
   ],
   "source": [
    "import numpy as np\n",
    "#Bind the parameters with a value, in this case 2π\n",
    "qc = qc.assign_parameters(parameters={param_theta: 2*np.pi})\n",
    "#Draw the circuit with the set parameter values\n",
    "qc.draw(output='mpl')\n"
   ]
  },
  {
   "cell_type": "markdown",
   "metadata": {},
   "source": [
    "Figure 8.13: Rotation gates $Rz$ now have the Parameter value $\\theta$ set to $2\\pi$"
   ]
  },
  {
   "cell_type": "markdown",
   "metadata": {},
   "source": [
    "# Generating Pulse schedules on quantum hardware"
   ]
  },
  {
   "cell_type": "code",
   "execution_count": 22,
   "metadata": {},
   "outputs": [
    {
     "name": "stdout",
     "output_type": "stream",
     "text": [
      "(<class 'ModuleNotFoundError'>, ModuleNotFoundError(\"No module named 'qiskit.pulse'\"), <traceback object at 0x7fab290b9500>)\n"
     ]
    }
   ],
   "source": [
    "# Import pulse classes\n",
    "Waveform_imported = False\n",
    "if qiskit_dynamics_installed:\n",
    "    try:\n",
    "        from qiskit_dynamics import Waveform, DriveChannel, Play, Schedule\n",
    "        Waveform_imported = True\n",
    "    except:\n",
    "        print(sys.exc_info())\n",
    "else:\n",
    "    try:\n",
    "        from qiskit.pulse import Waveform, DriveChannel, Play, Schedule\n",
    "        Waveform_imported = True\n",
    "    except:\n",
    "        print(sys.exc_info())"
   ]
  },
  {
   "cell_type": "code",
   "execution_count": 23,
   "metadata": {
    "scrolled": true
   },
   "outputs": [],
   "source": [
    "# Modified by Alain Chancé\n",
    "#Import numpy and generate the sin sample values\n",
    "if Waveform_imported:\n",
    "    import numpy as np\n",
    "    x = np.linspace(0,2*np.pi,64)\n",
    "    data = np.sin(x)\n",
    "    #Generate our sample waveform \n",
    "    waveform = Waveform(data, name=\"sin_64_pulse\")\n",
    "    #Draw the generated sample waveform\n",
    "    waveform.draw()"
   ]
  },
  {
   "cell_type": "markdown",
   "metadata": {},
   "source": [
    "Figure 8.14: Sample pulse of a sine waveform"
   ]
  },
  {
   "cell_type": "code",
   "execution_count": 24,
   "metadata": {
    "scrolled": true
   },
   "outputs": [
    {
     "name": "stdout",
     "output_type": "stream",
     "text": [
      "(<class 'ModuleNotFoundError'>, ModuleNotFoundError(\"No module named 'qiskit.pulse'\"), <traceback object at 0x7fab2854ee40>)\n"
     ]
    }
   ],
   "source": [
    "# Modified by Alain Chancé\n",
    "GaussianSquare_imported = False\n",
    "if qiskit_dynamics_installed:\n",
    "    try:\n",
    "        from qiskit_dynamics import GaussianSquare\n",
    "        GaussianSquare_imported = True\n",
    "    except:\n",
    "        print(sys.exc_info())\n",
    "else:  \n",
    "    #Import the Gaussian Square pulse from Pulse Library\n",
    "    try:\n",
    "        from qiskit.pulse.library import GaussianSquare\n",
    "        GaussianSquare_imported = True\n",
    "    except:\n",
    "        print(sys.exc_info())\n",
    "\n",
    "if GaussianSquare_imported:\n",
    "    #Create a Gaussian Square pulse: \n",
    "    #Args: duration, amp, sigma, width, name\n",
    "    gaussian_square_pulse = GaussianSquare(128,1,2,112, name=\"gaussian square\")\n",
    "    gaussian_square_pulse.draw()"
   ]
  },
  {
   "cell_type": "markdown",
   "metadata": {},
   "source": [
    "Figure 8.15: Gaussian square pulse"
   ]
  },
  {
   "cell_type": "markdown",
   "metadata": {},
   "source": [
    "# Generating and executing Schedules"
   ]
  },
  {
   "cell_type": "code",
   "execution_count": 25,
   "metadata": {
    "scrolled": true
   },
   "outputs": [],
   "source": [
    "# Modified by Alain Chancé\n",
    "if GaussianSquare_imported:\n",
    "    #Create the first schedule with our Gaussian Square pulse\n",
    "    schedule_1 = Schedule(name='Schedule 1')\n",
    "    schedule_1 = schedule_1.insert(0, Play(gaussian_square_pulse, DriveChannel(0)))\n",
    "\n",
    "    #Draw the schedule\n",
    "    display(schedule_1.draw())"
   ]
  },
  {
   "cell_type": "markdown",
   "metadata": {},
   "source": [
    "Figure 8.16: Schedule 1: Gaussian square pulse"
   ]
  },
  {
   "cell_type": "code",
   "execution_count": 26,
   "metadata": {
    "scrolled": true
   },
   "outputs": [],
   "source": [
    "# Modified by Alain Chancé\n",
    "if GaussianSquare_imported:\n",
    "    #Create a second schedule with our sample waveform\n",
    "    schedule_2 = Schedule(name='Schedule 2')\n",
    "    schedule_2 = schedule_2.insert(0, Play(waveform, DriveChannel(0)))\n",
    "\n",
    "    #Draw the schedule\n",
    "    display(schedule_2.draw())"
   ]
  },
  {
   "cell_type": "markdown",
   "metadata": {},
   "source": [
    "Figure 8.17: Schedule 2: sample (sine waveform) pulse"
   ]
  },
  {
   "cell_type": "code",
   "execution_count": 27,
   "metadata": {
    "scrolled": true
   },
   "outputs": [],
   "source": [
    "# Modified by Alain Chancé\n",
    "if GaussianSquare_imported:\n",
    "    #Let's create a third schedule \n",
    "    #Where we add the first schedule and second schedules\n",
    "    #And shift the second to the right by a time of 5 after the first\n",
    "    schedule_3 = schedule_1.insert(schedule_1.duration+5, schedule_2)\n",
    "    \n",
    "    display(schedule_3.draw())"
   ]
  },
  {
   "cell_type": "markdown",
   "metadata": {},
   "source": [
    "Figure 8.18: Schedule 3, combining schedules 1 and 2 with a 5 time unit difference in between"
   ]
  },
  {
   "cell_type": "code",
   "execution_count": 28,
   "metadata": {
    "scrolled": true
   },
   "outputs": [],
   "source": [
    "# Modified by Alain Chancé\n",
    "if GaussianSquare_imported:\n",
    "    #We could have also combined the two using the append operator\n",
    "    #The two schedules are appended immediately after one another\n",
    "    schedule_3_append = schedule_1.append(schedule_2)\n",
    "    \n",
    "    display(schedule_3_append.draw())"
   ]
  },
  {
   "cell_type": "markdown",
   "metadata": {},
   "source": [
    "Figure 8.19: Schedule 3, appending two schedules without a time gap in between"
   ]
  },
  {
   "cell_type": "markdown",
   "metadata": {},
   "source": [
    "# Understanding the Job component"
   ]
  },
  {
   "cell_type": "code",
   "execution_count": 29,
   "metadata": {},
   "outputs": [
    {
     "name": "stdout",
     "output_type": "stream",
     "text": [
      "JobStatus.RUNNING\n"
     ]
    }
   ],
   "source": [
    "# Run the simple quantum circuit on local Sampler\n",
    "# Modified by Alain Chancé\n",
    "#from qiskit.primitives import Sampler\n",
    "from qiskit.primitives import StatevectorSampler\n",
    "\n",
    "#sampler = Sampler()\n",
    "sampler = StatevectorSampler()\n",
    "\n",
    "# Create a simple circuit\n",
    "qc = QuantumCircuit(1,1)\n",
    "qc.h(0)\n",
    "#qc.measure([0],[0])\n",
    "qc.measure_all()\n",
    "\n",
    "# Run the qc circuit\n",
    "#job = sampler.run(qc, shots=1024)\n",
    "job = sampler.run([qc], shots=1024)\n",
    "\n",
    "print(job.status())"
   ]
  },
  {
   "cell_type": "code",
   "execution_count": 30,
   "metadata": {},
   "outputs": [
    {
     "name": "stdout",
     "output_type": "stream",
     "text": [
      "Print Job ID:  1a2c9b79-b98e-4829-8a89-45ef6e8987b8\n",
      "Print Job Status:  JobStatus.DONE\n",
      "Print Job Result:  PrimitiveResult([SamplerPubResult(data=DataBin(c=BitArray(<shape=(), num_shots=1024, num_bits=1>), meas=BitArray(<shape=(), num_shots=1024, num_bits=1>)), metadata={'shots': 1024, 'circuit_metadata': {}})], metadata={'version': 2})\n"
     ]
    }
   ],
   "source": [
    "#From the previous output of executed jobs, obtain the job id \n",
    "#and print out information about the Job.\n",
    "print('Print Job ID: ', job.job_id())\n",
    "print('Print Job Status: ', job.status())\n",
    "print('Print Job Result: ', job.result())"
   ]
  },
  {
   "cell_type": "code",
   "execution_count": 31,
   "metadata": {},
   "outputs": [],
   "source": [
    "# Modified by Alain Chancé\n",
    "#job_result = job.result()\n",
    "\n",
    "#quasi_dists = job_result.quasi_dists\n",
    "\n",
    "#Get the result counts \n",
    "#co#unts = quasi_dists[0].binary_probabilities()\n",
    "\n",
    "#print(counts)\n",
    "#plot_distribution(counts)\n",
    "\n",
    "# Execute the circuit and capture all the results\n",
    "result, img, histogram = execute_circuit_returns(qc)"
   ]
  },
  {
   "cell_type": "code",
   "execution_count": 32,
   "metadata": {},
   "outputs": [
    {
     "data": {
      "text/plain": [
       "{'0': 526, '1': 498}"
      ]
     },
     "execution_count": 32,
     "metadata": {},
     "output_type": "execute_result"
    }
   ],
   "source": [
    "result"
   ]
  },
  {
   "cell_type": "code",
   "execution_count": 33,
   "metadata": {},
   "outputs": [
    {
     "data": {
      "image/png": "[encoded data removed]",
      "text/plain": [
       "<Figure size 413.165x284.278 with 1 Axes>"
      ]
     },
     "execution_count": 33,
     "metadata": {},
     "output_type": "execute_result"
    }
   ],
   "source": [
    "img"
   ]
  },
  {
   "cell_type": "code",
   "execution_count": 34,
   "metadata": {},
   "outputs": [
    {
     "data": {
      "image/png": "[encoded data removed]",
      "text/plain": [
       "<Figure size 700x500 with 1 Axes>"
      ]
     },
     "execution_count": 34,
     "metadata": {},
     "output_type": "execute_result"
    }
   ],
   "source": [
    "histogram"
   ]
  },
  {
   "cell_type": "markdown",
   "metadata": {},
   "source": [
    "Figure 8.20: The probability results as a histogram"
   ]
  },
  {
   "cell_type": "markdown",
   "metadata": {},
   "source": [
    "## Print Qiskit version"
   ]
  },
  {
   "cell_type": "code",
   "execution_count": 35,
   "metadata": {},
   "outputs": [
    {
     "name": "stdout",
     "output_type": "stream",
     "text": [
      "Qiskit version: 2.0.0\n"
     ]
    }
   ],
   "source": [
    "import qiskit\n",
    "print(f\"Qiskit version: {qiskit.__version__}\")"
   ]
  },
  {
   "cell_type": "markdown",
   "metadata": {},
   "source": [
    "## Print Qiskit runtime version"
   ]
  },
  {
   "cell_type": "code",
   "execution_count": 36,
   "metadata": {},
   "outputs": [
    {
     "name": "stdout",
     "output_type": "stream",
     "text": [
      "Qiskit runtime version: 0.37.0\n"
     ]
    }
   ],
   "source": [
    "import qiskit_ibm_runtime\n",
    "print(f\"Qiskit runtime version: {qiskit_ibm_runtime.__version__}\")"
   ]
  },
  {
   "cell_type": "markdown",
   "metadata": {},
   "source": [
    "## Show Python version"
   ]
  },
  {
   "cell_type": "code",
   "execution_count": 37,
   "metadata": {},
   "outputs": [
    {
     "name": "stdout",
     "output_type": "stream",
     "text": [
      "/home/alain/miniconda3/bin/python\n",
      "Python 3.12.9\n"
     ]
    }
   ],
   "source": [
    "%%bash\n",
    "which python\n",
    "python --version"
   ]
  }
 ],
 "metadata": {
  "kernelspec": {
   "display_name": "Python 3 (ipykernel)",
   "language": "python",
   "name": "python3"
  },
  "language_info": {
   "codemirror_mode": {
    "name": "ipython",
    "version": 3
   },
   "file_extension": ".py",
   "mimetype": "text/x-python",
   "name": "python",
   "nbconvert_exporter": "python",
   "pygments_lexer": "ipython3",
   "version": "3.12.9"
  },
  "widgets": {
   "application/vnd.jupyter.widget-state+json": {
    "state": {},
    "version_major": 2,
    "version_minor": 0
   }
  }
 },
 "nbformat": 4,
 "nbformat_minor": 4
}
