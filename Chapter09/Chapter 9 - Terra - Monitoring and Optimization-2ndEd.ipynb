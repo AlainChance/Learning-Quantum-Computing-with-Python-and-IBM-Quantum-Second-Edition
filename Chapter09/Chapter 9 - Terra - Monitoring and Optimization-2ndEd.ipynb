{
 "cells": [
  {
   "cell_type": "code",
   "execution_count": 1,
   "metadata": {},
   "outputs": [],
   "source": [
    "%matplotlib inline\n",
    "# Importing standard Qiskit libraries and configuring account\n",
    "from qiskit import QuantumCircuit, execute, Aer, IBMQ\n",
    "from qiskit.compiler import transpile, assemble\n",
    "from qiskit.tools.jupyter import *\n",
    "from qiskit.visualization import *\n",
    "# Loading your IBM Q account(s)\n",
    "provider = IBMQ.load_account()"
   ]
  },
  {
   "cell_type": "code",
   "execution_count": 2,
   "metadata": {},
   "outputs": [],
   "source": [
    "# Import the Qiskit Jupyter tools \n",
    "from qiskit.tools import jupyter"
   ]
  },
  {
   "cell_type": "code",
   "execution_count": 3,
   "metadata": {},
   "outputs": [
    {
     "data": {
      "application/vnd.jupyter.widget-view+json": {
       "model_id": "",
       "version_major": 2,
       "version_minor": 0
      },
      "text/plain": [
       "Accordion(children=(VBox(layout=Layout(max_width='710px', min_width='710px')),), layout=Layout(max_height='500…"
      ]
     },
     "metadata": {},
     "output_type": "display_data"
    },
    {
     "data": {
      "application/javascript": [
       "\n",
       "        const isLab = window['Jupyter'] === undefined;\n",
       "        const notebook = document.querySelector( isLab ? 'div.jp-Notebook' : '#site');\n",
       "        const jobWidget = document.querySelector('div.job_widget');\n",
       "        notebook.prepend(jobWidget);\n",
       "        jobWidget.style.zIndex = '999';\n",
       "        jobWidget.style.position = isLab ? 'sticky' : 'fixed';\n",
       "        jobWidget.style.boxShadow = '5px 5px 5px -3px black';\n",
       "        jobWidget.style.opacity = '0.95';\n",
       "        if (isLab) {\n",
       "            jobWidget.style.top = '0';\n",
       "            jobWidget.style.left = '0';\n",
       "        }\n",
       "        "
      ],
      "text/plain": [
       "<IPython.core.display.Javascript object>"
      ]
     },
     "metadata": {},
     "output_type": "display_data"
    }
   ],
   "source": [
    "# Initialize the job tracker to automatically track all jobs\n",
    "%qiskit_job_watcher"
   ]
  },
  {
   "cell_type": "code",
   "execution_count": 4,
   "metadata": {},
   "outputs": [],
   "source": [
    "# Let's run a simple circuit on the least busy quantum device \n",
    "# and check the job watcher widget.\n",
    "from qiskit.providers.ibmq import least_busy\n",
    "\n",
    "backend = least_busy(provider.backends(filters=lambda \n",
    "x: x.configuration().n_qubits >= (2) and                                   \n",
    "not x.configuration().simulator and\n",
    "x.status().operational==True))\n",
    "\n",
    "#Create a simple circuit\n",
    "qc = QuantumCircuit(1)\n",
    "qc.h(0)\n",
    "qc.measure_all()\n",
    "#Execute the circuit on the backend\n",
    "job = execute(qc, backend)"
   ]
  },
  {
   "cell_type": "code",
   "execution_count": 5,
   "metadata": {},
   "outputs": [],
   "source": [
    "#Disable the job watcher\n",
    "%qiskit_disable_job_watcher"
   ]
  },
  {
   "cell_type": "code",
   "execution_count": 6,
   "metadata": {},
   "outputs": [
    {
     "data": {
      "application/vnd.jupyter.widget-view+json": {
       "model_id": "08880760a29845039377d693a1a04ac7",
       "version_major": 2,
       "version_minor": 0
      },
      "text/plain": [
       "VBox(children=(HTML(value=\"<h2 style ='color:#ffffff; background-color:#000000;padding-top: 1%; padding-bottom…"
      ]
     },
     "metadata": {},
     "output_type": "display_data"
    }
   ],
   "source": [
    "#Display the list of all available backends and provide \n",
    "#a brief overview of each \n",
    "%qiskit_backend_overview"
   ]
  },
  {
   "cell_type": "code",
   "execution_count": 7,
   "metadata": {},
   "outputs": [
    {
     "name": "stdout",
     "output_type": "stream",
     "text": [
      "['ALAPSchedule', 'ASAPSchedule', 'AlignMeasures', 'ApplyLayout', 'BIPMapping', 'BarrierBeforeFinalMeasurements', 'BasicSwap', 'BasisTranslator', 'CSPLayout', 'CXCancellation', 'CXDirection', 'CheckCXDirection', 'CheckGateDirection', 'CheckMap', 'Collect1qRuns', 'Collect2qBlocks', 'CollectMultiQBlocks', 'CommutationAnalysis', 'CommutativeCancellation', 'ConsolidateBlocks', 'ContainsInstruction', 'CountOps', 'CountOpsLongestPath', 'CrosstalkAdaptiveSchedule', 'DAGFixedPoint', 'DAGLongestPath', 'Decompose', 'DenseLayout', 'Depth', 'DynamicalDecoupling', 'EchoRZXWeylDecomposition', 'EnlargeWithAncilla', 'Error', 'FixedPoint', 'FullAncillaAllocation', 'GateDirection', 'GatesInBasis', 'HoareOptimizer', 'InverseCancellation', 'Layout2qDistance', 'LayoutTransformation', 'LookaheadSwap', 'MergeAdjacentBarriers', 'NoiseAdaptiveLayout', 'NumTensorFactors', 'Optimize1qGates', 'Optimize1qGatesDecomposition', 'Optimize1qGatesSimpleCommutation', 'OptimizeSwapBeforeMeasure', 'PulseGates', 'RZXCalibrationBuilder', 'RZXCalibrationBuilderNoEcho', 'RemoveBarriers', 'RemoveDiagonalGatesBeforeMeasure', 'RemoveFinalMeasurements', 'RemoveResetInZeroState', 'ResourceEstimation', 'SabreLayout', 'SabreSwap', 'SetLayout', 'Size', 'StochasticSwap', 'TemplateOptimization', 'TimeUnitConversion', 'TrivialLayout', 'UnitarySynthesis', 'Unroll3qOrMore', 'UnrollCustomDefinitions', 'Unroller', 'VF2Layout', 'ValidatePulseGates', 'Width', '__builtins__', '__cached__', '__doc__', '__file__', '__loader__', '__name__', '__package__', '__path__', '__spec__', 'analysis', 'basis', 'calibration', 'layout', 'optimization', 'routing', 'scheduling', 'synthesis', 'unitary_synthesis_plugin_names', 'utils']\n"
     ]
    }
   ],
   "source": [
    "# Import the transpiler passes object\n",
    "from qiskit.transpiler import passes\n",
    "# List out all the passes available\n",
    "print(dir(passes))\n"
   ]
  },
  {
   "cell_type": "code",
   "execution_count": 8,
   "metadata": {},
   "outputs": [
    {
     "data": {
      "image/png": "[encoded data removed]",
      "text/plain": [
       "<Figure size 146.797x204.68 with 1 Axes>"
      ]
     },
     "execution_count": 8,
     "metadata": {},
     "output_type": "execute_result"
    }
   ],
   "source": [
    "#Basic Toffoli gate,\n",
    "qc = QuantumCircuit(3)\n",
    "qc.ccx(0,1,2)\n",
    "qc.draw()\n"
   ]
  },
  {
   "cell_type": "code",
   "execution_count": 9,
   "metadata": {},
   "outputs": [
    {
     "data": {
      "image/png": "[encoded data removed]",
      "text/plain": [
       "<Figure size 748.797x204.68 with 1 Axes>"
      ]
     },
     "execution_count": 9,
     "metadata": {},
     "output_type": "execute_result"
    }
   ],
   "source": [
    "qc_decomposed = qc.decompose()\n",
    "qc_decomposed.draw()\n"
   ]
  },
  {
   "cell_type": "code",
   "execution_count": 10,
   "metadata": {},
   "outputs": [
    {
     "data": {
      "image/png": "[encoded data removed]",
      "text/plain": [
       "<Figure size 327.397x264.88 with 1 Axes>"
      ]
     },
     "execution_count": 10,
     "metadata": {},
     "output_type": "execute_result"
    }
   ],
   "source": [
    "#Basic circuit with a single and multi-qubit gates\n",
    "qc = QuantumCircuit(4)\n",
    "qc.h(0)\n",
    "qc.cx(0,1)\n",
    "qc.cx(0,2)\n",
    "qc.cx(0,3)\n",
    "qc.draw()\n"
   ]
  },
  {
   "cell_type": "code",
   "execution_count": 11,
   "metadata": {},
   "outputs": [
    {
     "name": "stdout",
     "output_type": "stream",
     "text": [
      "Initial circuit depth:  4\n",
      "Decomposed circuit depth:  11\n",
      "Initial circuit operation count:  OrderedDict([('cx', 3), ('h', 1)])\n",
      "Decomposed circuit operation count:  OrderedDict([('cx', 6), ('t', 4), ('tdg', 3), ('h', 2)])\n"
     ]
    }
   ],
   "source": [
    "#Print the depth of both inital and decomposed circuit\n",
    "print('Initial circuit depth: ', qc.depth())\n",
    "print('Decomposed circuit depth: ', qc_decomposed.depth())\n",
    "#Get the number of operators in initial circuit\n",
    "print('Initial circuit operation count: ', qc.count_ops())\n",
    "#Get the number of operators in decomposed circuit\n",
    "print('Decomposed circuit operation count: ', qc_decomposed.count_ops())\n"
   ]
  },
  {
   "cell_type": "code",
   "execution_count": 12,
   "metadata": {},
   "outputs": [
    {
     "data": {
      "image/png": "[encoded data removed]",
      "text/plain": [
       "<Figure size 327.397x264.88 with 1 Axes>"
      ]
     },
     "execution_count": 12,
     "metadata": {},
     "output_type": "execute_result"
    }
   ],
   "source": [
    "qc_decomposed = qc.decompose()\n",
    "qc_decomposed.draw()"
   ]
  },
  {
   "cell_type": "code",
   "execution_count": 13,
   "metadata": {},
   "outputs": [
    {
     "data": {
      "application/vnd.jupyter.widget-view+json": {
       "model_id": "ecef059d2b3842fa822da9409c828f53",
       "version_major": 2,
       "version_minor": 0
      },
      "text/plain": [
       "VBox(children=(HTML(value=\"<h1 style='color:#ffffff;background-color:#000000;padding-top: 1%;padding-bottom: 1…"
      ]
     },
     "metadata": {},
     "output_type": "display_data"
    },
    {
     "data": {
      "text/plain": [
       "<IBMQBackend('ibmq_santiago') from IBMQ(hub='ibm-q', group='open', project='main')>"
      ]
     },
     "execution_count": 13,
     "metadata": {},
     "output_type": "execute_result"
    }
   ],
   "source": [
    "# Get the backend device: ibmq_santiago \n",
    "backend_santiago = provider.get_backend('ibmq_santiago')\n",
    "# Launch backend viewer of ibmq_santiago\n",
    "backend_santiago\n"
   ]
  },
  {
   "cell_type": "code",
   "execution_count": 14,
   "metadata": {},
   "outputs": [
    {
     "data": {
      "application/vnd.jupyter.widget-view+json": {
       "model_id": "670d21ec09c147148a4f119f367d1084",
       "version_major": 2,
       "version_minor": 0
      },
      "text/plain": [
       "VBox(children=(HTML(value=\"<h1 style='color:#ffffff;background-color:#000000;padding-top: 1%;padding-bottom: 1…"
      ]
     },
     "metadata": {},
     "output_type": "display_data"
    },
    {
     "data": {
      "text/plain": [
       "<IBMQBackend('ibmq_lima') from IBMQ(hub='ibm-q', group='open', project='main')>"
      ]
     },
     "execution_count": 14,
     "metadata": {},
     "output_type": "execute_result"
    }
   ],
   "source": [
    "# Get the backend device: ibmq_16_lima\n",
    "backend_lima = provider.get_backend('ibmq_lima')\n",
    "# Launch backend viewer of ibmq_lima\n",
    "backend_lima\n"
   ]
  },
  {
   "cell_type": "code",
   "execution_count": 15,
   "metadata": {},
   "outputs": [
    {
     "data": {
      "image/png": "[encoded data removed]",
      "text/plain": [
       "<Figure size 360x360 with 1 Axes>"
      ]
     },
     "execution_count": 15,
     "metadata": {},
     "output_type": "execute_result"
    }
   ],
   "source": [
    "# Visualize the coupling directional map between the qubits \n",
    "plot_gate_map(backend_santiago, plot_directed=True)\n"
   ]
  },
  {
   "cell_type": "code",
   "execution_count": 16,
   "metadata": {},
   "outputs": [
    {
     "data": {
      "image/png": "[encoded data removed]",
      "text/plain": [
       "<Figure size 360x360 with 1 Axes>"
      ]
     },
     "execution_count": 16,
     "metadata": {},
     "output_type": "execute_result"
    }
   ],
   "source": [
    "# Visualize the coupling directional map between the qubits \n",
    "plot_gate_map(backend_lima, plot_directed=True)\n"
   ]
  },
  {
   "cell_type": "code",
   "execution_count": 17,
   "metadata": {},
   "outputs": [
    {
     "data": {
      "image/png": "[encoded data removed]",
      "text/plain": [
       "<Figure size 327.397x264.88 with 1 Axes>"
      ]
     },
     "execution_count": 17,
     "metadata": {},
     "output_type": "execute_result"
    }
   ],
   "source": [
    "# Quantum circuit with a single and multi-qubit gates\n",
    "qc = QuantumCircuit(4)\n",
    "qc.h(0)\n",
    "qc.cx(0,1)\n",
    "qc.cx(0,2)\n",
    "qc.cx(0,3)\n",
    "qc.draw()\n"
   ]
  },
  {
   "cell_type": "code",
   "execution_count": 18,
   "metadata": {},
   "outputs": [
    {
     "name": "stdout",
     "output_type": "stream",
     "text": [
      "Depth: 12\n"
     ]
    },
    {
     "data": {
      "image/png": "[encoded data removed]",
      "text/plain": [
       "<Figure size 360x360 with 1 Axes>"
      ]
     },
     "execution_count": 18,
     "metadata": {},
     "output_type": "execute_result"
    }
   ],
   "source": [
    "# Transpile the circuit with an optimization level = 0\n",
    "qc_santiago_0 = transpile(qc, backend_santiago, seed_transpiler=10258, optimization_level=0)\n",
    "# Print out the depth of the circuit\n",
    "print('Depth:', qc_santiago_0.depth())\n",
    "# Plot the resulting layout of the quantum circuit after Layout\n",
    "plot_circuit_layout(qc_santiago_0, backend_santiago)\n"
   ]
  },
  {
   "cell_type": "code",
   "execution_count": 19,
   "metadata": {},
   "outputs": [
    {
     "data": {
      "image/png": "[encoded data removed]",
      "text/plain": [
       "<Figure size 901.44x325.08 with 1 Axes>"
      ]
     },
     "execution_count": 19,
     "metadata": {},
     "output_type": "execute_result"
    }
   ],
   "source": [
    "qc_santiago_0.draw()"
   ]
  },
  {
   "cell_type": "code",
   "execution_count": 20,
   "metadata": {},
   "outputs": [
    {
     "name": "stdout",
     "output_type": "stream",
     "text": [
      "Depth: 12\n"
     ]
    },
    {
     "data": {
      "image/png": "[encoded data removed]",
      "text/plain": [
       "<Figure size 360x360 with 1 Axes>"
      ]
     },
     "execution_count": 20,
     "metadata": {},
     "output_type": "execute_result"
    }
   ],
   "source": [
    "# View the transpiled circuit with an optimization level = 0\n",
    "qc_lima_0 = transpile(qc, backend_lima, seed_transpiler=10258, optimization_level=0)\n",
    "print('Depth:', qc_lima_0.depth())\n",
    "plot_circuit_layout(qc_lima_0, backend_lima)\n"
   ]
  },
  {
   "cell_type": "code",
   "execution_count": 21,
   "metadata": {},
   "outputs": [
    {
     "data": {
      "image/png": "[encoded data removed]",
      "text/plain": [
       "<Figure size 901.44x325.08 with 1 Axes>"
      ]
     },
     "execution_count": 21,
     "metadata": {},
     "output_type": "execute_result"
    }
   ],
   "source": [
    "qc_lima_0.draw()"
   ]
  },
  {
   "cell_type": "code",
   "execution_count": 22,
   "metadata": {},
   "outputs": [
    {
     "name": "stdout",
     "output_type": "stream",
     "text": [
      "Depth: 7\n",
      "Ops count:  OrderedDict([('cx', 4), ('rz', 2), ('sx', 1)])\n"
     ]
    },
    {
     "data": {
      "image/png": "[encoded data removed]",
      "text/plain": [
       "<Figure size 360x360 with 1 Axes>"
      ]
     },
     "execution_count": 22,
     "metadata": {},
     "output_type": "execute_result"
    }
   ],
   "source": [
    "# Transpile the quantum circuit with the optimization level = 3\n",
    "qc_transpiled_santiago = transpile(qc, backend_santiago, optimization_level=3)\n",
    "# Get the depth and operation count of the transpiled circuit. \n",
    "print('Depth:', qc_transpiled_santiago.depth())\n",
    "print('Ops count: ', qc_transpiled_santiago.count_ops())\n",
    "# Print the circuit layout\n",
    "plot_circuit_layout(qc_transpiled_santiago, backend_santiago)\n"
   ]
  },
  {
   "cell_type": "code",
   "execution_count": 23,
   "metadata": {},
   "outputs": [
    {
     "data": {
      "image/png": "[encoded data removed]",
      "text/plain": [
       "<Figure size 600.149x325.08 with 1 Axes>"
      ]
     },
     "execution_count": 23,
     "metadata": {},
     "output_type": "execute_result"
    }
   ],
   "source": [
    "# Redraw the transpiled circuit at new level\n",
    "qc_transpiled_santiago.draw()\n"
   ]
  },
  {
   "cell_type": "code",
   "execution_count": 24,
   "metadata": {},
   "outputs": [
    {
     "name": "stdout",
     "output_type": "stream",
     "text": [
      "Depth: 6\n",
      "Ops count:  OrderedDict([('cx', 3), ('rz', 2), ('sx', 1)])\n"
     ]
    },
    {
     "data": {
      "image/png": "[encoded data removed]",
      "text/plain": [
       "<Figure size 360x360 with 1 Axes>"
      ]
     },
     "execution_count": 24,
     "metadata": {},
     "output_type": "execute_result"
    }
   ],
   "source": [
    "# Transpile the quantum circuit with the optimization level = 3\n",
    "qc_transpiled_lima = transpile(qc, backend_lima, optimization_level=3)\n",
    "# Get the depth and operation count of the transpiled circuit. \n",
    "print('Depth:', qc_transpiled_lima.depth())\n",
    "print('Ops count: ', qc_transpiled_lima.count_ops())\n",
    "# Print the circuit layout\n",
    "plot_circuit_layout(qc_transpiled_lima, backend_lima)\n"
   ]
  },
  {
   "cell_type": "code",
   "execution_count": 25,
   "metadata": {},
   "outputs": [
    {
     "data": {
      "image/png": "[encoded data removed]",
      "text/plain": [
       "<Figure size 540.24x325.08 with 1 Axes>"
      ]
     },
     "execution_count": 25,
     "metadata": {},
     "output_type": "execute_result"
    }
   ],
   "source": [
    "qc_transpiled_lima.draw()"
   ]
  },
  {
   "cell_type": "code",
   "execution_count": 26,
   "metadata": {},
   "outputs": [
    {
     "data": {
      "application/vnd.jupyter.widget-view+json": {
       "model_id": "16eab4949c85471d953e0fc84a57202f",
       "version_major": 2,
       "version_minor": 0
      },
      "text/plain": [
       "VBox(children=(HTML(value=\"<h1 style='color:#ffffff;background-color:#000000;padding-top: 1%;padding-bottom: 1…"
      ]
     },
     "metadata": {},
     "output_type": "display_data"
    },
    {
     "data": {
      "text/plain": [
       "<IBMQBackend('ibmq_lima') from IBMQ(hub='ibm-q', group='open', project='main')>"
      ]
     },
     "execution_count": 26,
     "metadata": {},
     "output_type": "execute_result"
    }
   ],
   "source": [
    "# View the ibmqx2 backend device configuraiton and properties\n",
    "backend = provider.get_backend('ibmq_lima')\n",
    "backend\n"
   ]
  },
  {
   "cell_type": "code",
   "execution_count": 27,
   "metadata": {},
   "outputs": [
    {
     "data": {
      "text/plain": [
       "[[0, 1], [1, 0], [1, 2], [1, 3], [2, 1], [3, 1], [3, 4], [4, 3]]"
      ]
     },
     "execution_count": 27,
     "metadata": {},
     "output_type": "execute_result"
    }
   ],
   "source": [
    "# View the backend coupling map, displayed as CNOTs (Control-Target)\n",
    "backend = provider.get_backend('ibmq_lima')\n",
    "# Extract the coupling map from the backend\n",
    "ibmq_lima_coupling_map = backend.configuration().coupling_map\n",
    "# List out the extracted coupling map\n",
    "ibmq_lima_coupling_map\n"
   ]
  },
  {
   "cell_type": "code",
   "execution_count": 28,
   "metadata": {},
   "outputs": [
    {
     "data": {
      "image/png": "[encoded data removed]",
      "text/plain": [
       "<Figure size 480.04x325.08 with 1 Axes>"
      ]
     },
     "execution_count": 28,
     "metadata": {},
     "output_type": "execute_result"
    }
   ],
   "source": [
    "# Transpile the a custom circuit using only the coupling map. \n",
    "# Set the backend to None so it will force using the coupling map provided.\n",
    "qc_custom = transpile(qc, backend=None, coupling_map=ibmq_lima_coupling_map)\n",
    "# Draw the resulting custom topology circuit.\n",
    "qc_custom.draw()\n"
   ]
  },
  {
   "cell_type": "code",
   "execution_count": 29,
   "metadata": {},
   "outputs": [
    {
     "data": {
      "image/png": "[encoded data removed]",
      "text/plain": [
       "<Figure size 901.44x325.08 with 1 Axes>"
      ]
     },
     "execution_count": 29,
     "metadata": {},
     "output_type": "execute_result"
    }
   ],
   "source": [
    "# Create our own coupling map (custom topology)\n",
    "custom_linear_topology = [[0,1],[1,2],[2,3],[3,4]]\n",
    "# Set the coupling map to our custom linear topology\n",
    "qc_custom = transpile(qc, backend=None, coupling_map=custom_linear_topology)\n",
    "# Draw the resulting circuit.\n",
    "qc_custom.draw()\n"
   ]
  },
  {
   "cell_type": "code",
   "execution_count": 30,
   "metadata": {},
   "outputs": [
    {
     "data": {
      "image/png": "[encoded data removed]",
      "text/plain": [
       "<Figure size 365.329x264.88 with 1 Axes>"
      ]
     },
     "execution_count": 30,
     "metadata": {},
     "output_type": "execute_result"
    }
   ],
   "source": [
    "# Import the PassManager and a few Passes\n",
    "from qiskit.transpiler import PassManager, CouplingMap\n",
    "from qiskit.transpiler.passes import TrivialLayout, BasicSwap\n",
    "pm = PassManager()\n",
    "\n",
    "# Create a TrivialLayout based on the ibmq_lima coupling map\n",
    "trivial = TrivialLayout(CouplingMap(ibmq_lima_coupling_map))\n",
    "# Append the TrivialLayout to the PassManager\n",
    "pm.append(trivial)\n",
    "# Run the PassManager and draw the resulting circuit\n",
    "tv_qc = pm.run(qc)\n",
    "tv_qc.draw()\n"
   ]
  },
  {
   "cell_type": "code",
   "execution_count": 31,
   "metadata": {},
   "outputs": [
    {
     "data": {
      "image/png": "[encoded data removed]",
      "text/plain": [
       "<Figure size 387.597x264.88 with 1 Axes>"
      ]
     },
     "execution_count": 31,
     "metadata": {},
     "output_type": "execute_result"
    }
   ],
   "source": [
    "# Create a BasicSwap based on the ibmq_lima coupling map we used earlier\n",
    "basic_swap = BasicSwap(CouplingMap(ibmq_lima_coupling_map))\n",
    "#Add the BasicSwap to the PassManager\n",
    "pm = PassManager(basic_swap)\n",
    "# Run the PassManager and draw the results\n",
    "new_qc = pm.run(qc)\n",
    "new_qc.draw()\n"
   ]
  },
  {
   "cell_type": "code",
   "execution_count": 32,
   "metadata": {},
   "outputs": [
    {
     "data": {
      "image/png": "[encoded data removed]",
      "text/plain": [
       "<Figure size 899.479x325.08 with 1 Axes>"
      ]
     },
     "execution_count": 32,
     "metadata": {},
     "output_type": "execute_result"
    }
   ],
   "source": [
    "# Sample quantum circuit \n",
    "qc = QuantumCircuit(4)\n",
    "qc.h(0)\n",
    "qc.cx(0,1)\n",
    "qc.barrier()\n",
    "qc.cx(0,2)\n",
    "qc.cx(0,3)\n",
    "qc.barrier()\n",
    "qc.cz(3,0)\n",
    "qc.h(0)\n",
    "qc.measure_all()\n",
    "# Draw the circuit using the default renderer\n",
    "qc.draw()\n"
   ]
  },
  {
   "cell_type": "code",
   "execution_count": 33,
   "metadata": {},
   "outputs": [
    {
     "data": {
      "image/png": "[encoded data removed]",
      "text/plain": [
       "<PIL.Image.Image image mode=RGB size=640x171 at 0x7FCE4DF53490>"
      ]
     },
     "execution_count": 33,
     "metadata": {},
     "output_type": "execute_result"
    }
   ],
   "source": [
    "qc.draw('latex')"
   ]
  },
  {
   "cell_type": "code",
   "execution_count": 34,
   "metadata": {},
   "outputs": [
    {
     "data": {
      "image/png": "[encoded data removed]",
      "text/plain": [
       "<Figure size 899.479x325.08 with 1 Axes>"
      ]
     },
     "execution_count": 34,
     "metadata": {},
     "output_type": "execute_result"
    }
   ],
   "source": [
    "# Define the style to render the circuit and components\n",
    "style = {'backgroundcolor': 'lightblue','gatefacecolor': 'white', 'gatetextcolor': 'black', 'fontsize': 9}\n",
    "# Draw the mpl with the specified style\n",
    "qc.draw(style=style)\n"
   ]
  },
  {
   "cell_type": "code",
   "execution_count": 35,
   "metadata": {},
   "outputs": [
    {
     "data": {
      "image/png": "[encoded data removed]",
      "text/plain": [
       "<PIL.Image.Image image mode=RGBA size=751x973 at 0x7FCE868C28B0>"
      ]
     },
     "execution_count": 35,
     "metadata": {},
     "output_type": "execute_result"
    }
   ],
   "source": [
    "# Import the Circuit to DAG converter\n",
    "from qiskit.converters import circuit_to_dag\n",
    "# Import the DAG drawer\n",
    "from qiskit.tools.visualization import dag_drawer\n",
    "# Convert the circuit into a DAG\n",
    "dag = circuit_to_dag(qc)\n",
    "# Draw the DAG of the circuit\n",
    "dag_drawer(dag)\n"
   ]
  },
  {
   "cell_type": "code",
   "execution_count": 36,
   "metadata": {},
   "outputs": [
    {
     "data": {
      "text/html": [
       "<h3>Version Information</h3><table><tr><th>Qiskit Software</th><th>Version</th></tr><tr><td><code>qiskit-terra</code></td><td>0.19.1</td></tr><tr><td><code>qiskit-aer</code></td><td>0.10.2</td></tr><tr><td><code>qiskit-ignis</code></td><td>0.7.0</td></tr><tr><td><code>qiskit-ibmq-provider</code></td><td>0.18.3</td></tr><tr><td><code>qiskit</code></td><td>0.34.1</td></tr><tr><td><code>qiskit-nature</code></td><td>0.3.0</td></tr><tr><td><code>qiskit-finance</code></td><td>0.3.0</td></tr><tr><td><code>qiskit-optimization</code></td><td>0.3.0</td></tr><tr><td><code>qiskit-machine-learning</code></td><td>0.3.0</td></tr><tr><th>System information</th></tr><tr><td>Python version</td><td>3.8.12</td></tr><tr><td>Python compiler</td><td>GCC 9.4.0</td></tr><tr><td>Python build</td><td>default, Oct 12 2021 21:59:51</td></tr><tr><td>OS</td><td>Linux</td></tr><tr><td>CPUs</td><td>8</td></tr><tr><td>Memory (Gb)</td><td>31.408958435058594</td></tr><tr><td colspan='2'>Tue Feb 08 06:22:41 2022 UTC</td></tr></table>"
      ],
      "text/plain": [
       "<IPython.core.display.HTML object>"
      ]
     },
     "metadata": {},
     "output_type": "display_data"
    }
   ],
   "source": [
    "import qiskit.tools.jupyter\n",
    "%qiskit_version_table"
   ]
  },
  {
   "cell_type": "code",
   "execution_count": null,
   "metadata": {},
   "outputs": [],
   "source": []
  }
 ],
 "metadata": {
  "kernelspec": {
   "display_name": "Qiskit v0.34.1 (ipykernel)",
   "language": "python",
   "name": "python3"
  },
  "language_info": {
   "codemirror_mode": {
    "name": "ipython",
    "version": 3
   },
   "file_extension": ".py",
   "mimetype": "text/x-python",
   "name": "python",
   "nbconvert_exporter": "python",
   "pygments_lexer": "ipython3",
   "version": "3.8.12"
  },
  "widgets": {
   "application/vnd.jupyter.widget-state+json": {
    "state": {
     "0109d78296844054a2511d7603bbd9b0": {
      "model_module": "@jupyter-widgets/controls",
      "model_module_version": "1.5.0",
      "model_name": "DescriptionStyleModel",
      "state": {
       "description_width": ""
      }
     },
     "014a706cc33d4a739597102e7a76cc0a": {
      "model_module": "@jupyter-widgets/controls",
      "model_module_version": "1.5.0",
      "model_name": "DescriptionStyleModel",
      "state": {
       "description_width": ""
      }
     },
     "01d8a67cf9a14c338c75f595c9a58e39": {
      "model_module": "@jupyter-widgets/controls",
      "model_module_version": "1.5.0",
      "model_name": "HTMLModel",
      "state": {
       "layout": "IPY_MODEL_57b234c5242c41d7a6ecedd852ba43f6",
       "style": "IPY_MODEL_3c777da3d20a4357a2822810fa7295cc",
       "value": "<h5>32</h5>"
      }
     },
     "02ab563cbab947fea4b237bc528fb124": {
      "model_module": "@jupyter-widgets/output",
      "model_module_version": "1.0.0",
      "model_name": "OutputModel",
      "state": {
       "layout": "IPY_MODEL_0462a931df2d484e820506ea4d8245d7",
       "outputs": [
        {
         "data": {
          "image/png": "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\n",
          "text/plain": "<Figure size 792x648 with 5 Axes>"
         },
         "metadata": {},
         "output_type": "display_data"
        }
       ]
      }
     },
     "03e70e4e09c54f1d87b276e82c8b8a3f": {
      "model_module": "@jupyter-widgets/controls",
      "model_module_version": "1.5.0",
      "model_name": "DescriptionStyleModel",
      "state": {
       "description_width": ""
      }
     },
     "0462a931df2d484e820506ea4d8245d7": {
      "model_module": "@jupyter-widgets/base",
      "model_module_version": "1.2.0",
      "model_name": "LayoutModel",
      "state": {
       "align_items": "center",
       "display": "flex-inline"
      }
     },
     "05574ef0503c45b1a349d1c20f9bdbff": {
      "model_module": "@jupyter-widgets/controls",
      "model_module_version": "1.5.0",
      "model_name": "DescriptionStyleModel",
      "state": {
       "description_width": ""
      }
     },
     "05cc4f5034f8463f9d8f29cea34f5ef1": {
      "model_module": "@jupyter-widgets/controls",
      "model_module_version": "1.5.0",
      "model_name": "DescriptionStyleModel",
      "state": {
       "description_width": ""
      }
     },
     "061dff2e234d49aeb0e670e3409ddea1": {
      "model_module": "@jupyter-widgets/controls",
      "model_module_version": "1.5.0",
      "model_name": "HTMLModel",
      "state": {
       "layout": "IPY_MODEL_2cf4e756bb5842f391f413799191ecf3",
       "style": "IPY_MODEL_69641081444a46308685d0145d59fcf6",
       "value": "<h5 style='color:#34bc6e'>True</h5>"
      }
     },
     "066a4644136743d1abf46da6a756ae57": {
      "model_module": "@jupyter-widgets/controls",
      "model_module_version": "1.5.0",
      "model_name": "DescriptionStyleModel",
      "state": {
       "description_width": ""
      }
     },
     "06cf72ade1d64b24aaea10d8c3f6be2d": {
      "model_module": "@jupyter-widgets/controls",
      "model_module_version": "1.5.0",
      "model_name": "HTMLModel",
      "state": {
       "layout": "IPY_MODEL_4231ed4337af4ed590befc152dc70c33",
       "style": "IPY_MODEL_2596d99eec6f454781c68184f4318ac8",
       "value": "<h4>ibmq_armonk</h4>"
      }
     },
     "08443a59b4d54e3f8c9d8e41d3ba1d5d": {
      "model_module": "@jupyter-widgets/controls",
      "model_module_version": "1.5.0",
      "model_name": "VBoxModel",
      "state": {
       "children": [
        "IPY_MODEL_98a81a9d21214c3e84657f5cab4468fb",
        "IPY_MODEL_b51815bdc3d44a8796454743ec9bc529"
       ],
       "layout": "IPY_MODEL_2af61bcfad874fc686fc0cb22d4928f0"
      }
     },
     "087475a1188840b78220802e65aa71f7": {
      "model_module": "@jupyter-widgets/base",
      "model_module_version": "1.2.0",
      "model_name": "LayoutModel",
      "state": {
       "margin": "0px 0px 0px 0px"
      }
     },
     "087bd697c33d44c9b28d17d038748a8b": {
      "model_module": "@jupyter-widgets/controls",
      "model_module_version": "1.5.0",
      "model_name": "DescriptionStyleModel",
      "state": {
       "description_width": ""
      }
     },
     "08880760a29845039377d693a1a04ac7": {
      "model_module": "@jupyter-widgets/controls",
      "model_module_version": "1.5.0",
      "model_name": "VBoxModel",
      "state": {
       "children": [
        "IPY_MODEL_8545eca14dc44370bd99d9c9bc402a6c",
        "IPY_MODEL_8d7e1596b82648abaa6ffc1baec68ffd"
       ],
       "layout": "IPY_MODEL_e181fe156b0e485a9c0dddae6d6272d9"
      }
     },
     "0967b9a9566a498386f05f4d478f7081": {
      "model_module": "@jupyter-widgets/controls",
      "model_module_version": "1.5.0",
      "model_name": "DescriptionStyleModel",
      "state": {
       "description_width": ""
      }
     },
     "09999d1616c14dd395ba21f7c75a2c2a": {
      "model_module": "@jupyter-widgets/controls",
      "model_module_version": "1.5.0",
      "model_name": "DescriptionStyleModel",
      "state": {
       "description_width": ""
      }
     },
     "09a3990e5aac4f00a1f2e0edf769c209": {
      "model_module": "@jupyter-widgets/controls",
      "model_module_version": "1.5.0",
      "model_name": "DescriptionStyleModel",
      "state": {
       "description_width": ""
      }
     },
     "0b3f735108b54c2181ed7319435c2290": {
      "model_module": "@jupyter-widgets/base",
      "model_module_version": "1.2.0",
      "model_name": "LayoutModel",
      "state": {
       "grid_area": "right",
       "padding": "0px 0px 0px 0px",
       "width": "70px"
      }
     },
     "0ba9410d4ce6473a9e85ef5f71640e87": {
      "model_module": "@jupyter-widgets/controls",
      "model_module_version": "1.5.0",
      "model_name": "DescriptionStyleModel",
      "state": {
       "description_width": ""
      }
     },
     "0c557c3ed3e84935a2c5b4342c7e05d3": {
      "model_module": "@jupyter-widgets/output",
      "model_module_version": "1.0.0",
      "model_name": "OutputModel",
      "state": {
       "layout": "IPY_MODEL_eb01ac0df0ea41448218ed876a9a8e12",
       "outputs": [
        {
         "data": {
          "image/png": "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\n",
          "text/plain": "<Figure size 360x360 with 1 Axes>"
         },
         "metadata": {},
         "output_type": "display_data"
        }
       ]
      }
     },
     "0d264a4d2f014318be3ed6d0399714e2": {
      "model_module": "@jupyter-widgets/base",
      "model_module_version": "1.2.0",
      "model_name": "LayoutModel",
      "state": {
       "min_width": "auto"
      }
     },
     "0d7e61c1c53a40a89a56d586cde37204": {
      "model_module": "@jupyter-widgets/controls",
      "model_module_version": "1.5.0",
      "model_name": "HTMLModel",
      "state": {
       "layout": "IPY_MODEL_61713d138a0643f59c1f05ffb3884533",
       "style": "IPY_MODEL_66e6b96a6914422bb730fdbb3be0c9e3",
       "value": "<h5><b>5</b></h5>"
      }
     },
     "0dbb4e862c674533a057a938a5233fb0": {
      "model_module": "@jupyter-widgets/controls",
      "model_module_version": "1.5.0",
      "model_name": "DescriptionStyleModel",
      "state": {
       "description_width": ""
      }
     },
     "0f6a988fc8d341589dcd8ccd011cc071": {
      "model_module": "@jupyter-widgets/controls",
      "model_module_version": "1.5.0",
      "model_name": "DescriptionStyleModel",
      "state": {
       "description_width": ""
      }
     },
     "103d93c0eb6b4067b4317b21e8761618": {
      "model_module": "@jupyter-widgets/controls",
      "model_module_version": "1.5.0",
      "model_name": "HTMLModel",
      "state": {
       "layout": "IPY_MODEL_53f5e95463c846be882f7293e3e58d02",
       "style": "IPY_MODEL_bd0b80b8c352438d8403193ec94cdf97",
       "value": "<h5>0.0276</h5>"
      }
     },
     "10b84a7d8685435e858e64b43b8dc61d": {
      "model_module": "@jupyter-widgets/controls",
      "model_module_version": "1.5.0",
      "model_name": "HTMLMathModel",
      "state": {
       "layout": "IPY_MODEL_2d4c206a3d804b699d72d99b846ee4a0",
       "style": "IPY_MODEL_8b150cd7e1e740d6805c4717793e206e",
       "value": "<table><style>\ntable {\n    border-collapse: collapse;\n    width: auto;\n}\n\nth, td {\n    text-align: left;\n    padding: 8px;\n}\n\ntr:nth-child(even) {background-color: #f6f6f6;}\n</style><tr><th></th><th></th></tr><tr><td>rep_delay_range</td><td>[0.0, 500.0]</td></tr><tr><td>url</td><td>None</td></tr><tr><td>supported_features</td><td>['qobj']</td></tr><tr><td>measure_esp_enabled</td><td>False</td></tr><tr><td>uchannels_enabled</td><td>True</td></tr><tr><td>processor_type</td><td>{'family': 'Falcon', 'revision': 4, 'segment': 'T'}</td></tr><tr><td>backend_name</td><td>ibmq_lima</td></tr><tr><td>dynamic_reprate_enabled</td><td>True</td></tr><tr><td>parametric_pulses</td><td>['gaussian', 'gaussian_square', 'drag', 'constant']</td></tr><tr><td>allow_q_object</td><td>True</td></tr><tr><td>pulse_num_channels</td><td>9</td></tr><tr><td>u_channel_lo</td><td>[[{'q': 1, 'scale': (1+0j)}], [{'q': 0, 'scale': (1+0j)}], [{'q': 2, 'scale': (1+0j)}], [{'q': 3, 'scale': (1+0j)}], [{'q': 1, 'scale': (1+0j)}], [{'q': 1, 'scale': (1+0j)}], [{'q': 4, 'scale': (1+0j)}], [{'q': 3, 'scale': (1+0j)}]]</td></tr><tr><td>meas_levels</td><td>[1, 2]</td></tr><tr><td>pulse_num_qubits</td><td>3</td></tr><tr><td>sample_name</td><td>family: Falcon, revision: 4, segment: T</td></tr><tr><td>credits_required</td><td>True</td></tr><tr><td>meas_lo_range</td><td>[[6.925143125000001, 7.925143125000001], [6.721646720000001, 7.721646720000001], [6.971842939, 7.971842939], [6.865317232000001, 7.865317232000001], [6.919067567000001, 7.919067567000001]]</td></tr><tr><td>simulator</td><td>False</td></tr><tr><td>memory</td><td>True</td></tr><tr><td>multi_meas_enabled</td><td>True</td></tr><tr><td>description</td><td>5 qubit device Lima</td></tr><tr><td>dt</td><td>0.2222222222222222</td></tr><tr><td>allow_object_storage</td><td>True</td></tr><tr><td>n_registers</td><td>1</td></tr><tr><td>qubit_lo_range</td><td>[[4.529757245269171, 5.529757245269171], [4.62768256819176, 5.62768256819176], [4.747358456884291, 5.7473584568842915], [4.802173703667931, 5.802173703667931], [4.592161943428468, 5.592161943428468]]</td></tr><tr><td>meas_kernels</td><td>['hw_boxcar']</td></tr><tr><td>hamiltonian</td><td>$$\\begin{align} \\mathcal{H}/\\hbar = & \\sum_{i=0}^{4}\\left(\\frac{\\omega_{q,i}}{2}(\\mathbb{I}-\\sigma_i^{z})+\\frac{\\Delta_{i}}{2}(O_i^2-O_i)+\\Omega_{d,i}D_i(t)\\sigma_i^{X}\\right) \\\\ & + J_{0,1}(\\sigma_{0}^{+}\\sigma_{1}^{-}+\\sigma_{0}^{-}\\sigma_{1}^{+}) + J_{1,2}(\\sigma_{1}^{+}\\sigma_{2}^{-}+\\sigma_{1}^{-}\\sigma_{2}^{+}) + J_{1,3}(\\sigma_{1}^{+}\\sigma_{3}^{-}+\\sigma_{1}^{-}\\sigma_{3}^{+}) + J_{3,4}(\\sigma_{3}^{+}\\sigma_{4}^{-}+\\sigma_{3}^{-}\\sigma_{4}^{+}) \\\\ & + \\Omega_{d,0}(U_{0}^{(0,1)}(t))\\sigma_{0}^{X} + \\Omega_{d,1}(U_{1}^{(1,0)}(t)+U_{3}^{(1,3)}(t)+U_{2}^{(1,2)}(t))\\sigma_{1}^{X} \\\\ & + \\Omega_{d,2}(U_{4}^{(2,1)}(t))\\sigma_{2}^{X} + \\Omega_{d,3}(U_{6}^{(3,4)}(t)+U_{5}^{(3,1)}(t))\\sigma_{3}^{X} \\\\ & + \\Omega_{d,4}(U_{7}^{(4,3)}(t))\\sigma_{4}^{X} \\\\ \\end{align}$$</td></tr><tr><td>n_uchannels</td><td>8</td></tr><tr><td>discriminators</td><td>['hw_centroid', 'linear_discriminator', 'quadratic_discriminator']</td></tr><tr><td>rep_times</td><td>[1000.0]</td></tr><tr><td>clops</td><td>2673</td></tr><tr><td>conditional_latency</td><td>[]</td></tr><tr><td>timing_constraints</td><td>{'acquire_alignment': 16, 'granularity': 16, 'min_length': 64, 'pulse_alignment': 1}</td></tr><tr><td>online_date</td><td>2021-01-08 05:00:00+00:00</td></tr><tr><td>open_pulse</td><td>False</td></tr><tr><td>local</td><td>False</td></tr><tr><td>channels</td><td>{'acquire0': {'operates': {'qubits': [0]}, 'purpose': 'acquire', 'type': 'acquire'}, 'acquire1': {'operates': {'qubits': [1]}, 'purpose': 'acquire', 'type': 'acquire'}, 'acquire2': {'operates': {'qubits': [2]}, 'purpose': 'acquire', 'type': 'acquire'}, 'acquire3': {'operates': {'qubits': [3]}, 'purpose': 'acquire', 'type': 'acquire'}, 'acquire4': {'operates': {'qubits': [4]}, 'purpose': 'acquire', 'type': 'acquire'}, 'd0': {'operates': {'qubits': [0]}, 'purpose': 'drive', 'type': 'drive'}, 'd1': {'operates': {'qubits': [1]}, 'purpose': 'drive', 'type': 'drive'}, 'd2': {'operates': {'qubits': [2]}, 'purpose': 'drive', 'type': 'drive'}, 'd3': {'operates': {'qubits': [3]}, 'purpose': 'drive', 'type': 'drive'}, 'd4': {'operates': {'qubits': [4]}, 'purpose': 'drive', 'type': 'drive'}, 'm0': {'operates': {'qubits': [0]}, 'purpose': 'measure', 'type': 'measure'}, 'm1': {'operates': {'qubits': [1]}, 'purpose': 'measure', 'type': 'measure'}, 'm2': {'operates': {'qubits': [2]}, 'purpose': 'measure', 'type': 'measure'}, 'm3': {'operates': {'qubits': [3]}, 'purpose': 'measure', 'type': 'measure'}, 'm4': {'operates': {'qubits': [4]}, 'purpose': 'measure', 'type': 'measure'}, 'u0': {'operates': {'qubits': [0, 1]}, 'purpose': 'cross-resonance', 'type': 'control'}, 'u1': {'operates': {'qubits': [1, 0]}, 'purpose': 'cross-resonance', 'type': 'control'}, 'u2': {'operates': {'qubits': [1, 2]}, 'purpose': 'cross-resonance', 'type': 'control'}, 'u3': {'operates': {'qubits': [1, 3]}, 'purpose': 'cross-resonance', 'type': 'control'}, 'u4': {'operates': {'qubits': [2, 1]}, 'purpose': 'cross-resonance', 'type': 'control'}, 'u5': {'operates': {'qubits': [3, 1]}, 'purpose': 'cross-resonance', 'type': 'control'}, 'u6': {'operates': {'qubits': [3, 4]}, 'purpose': 'cross-resonance', 'type': 'control'}, 'u7': {'operates': {'qubits': [4, 3]}, 'purpose': 'cross-resonance', 'type': 'control'}}</td></tr><tr><td>acquisition_latency</td><td>[]</td></tr><tr><td>conditional</td><td>False</td></tr><tr><td>default_rep_delay</td><td>250.0</td></tr><tr><td>dtm</td><td>0.2222222222222222</td></tr><tr><td>meas_map</td><td>[[0, 1, 2, 3, 4]]</td></tr><tr><td>supported_instructions</td><td>['shiftf', 'sx', 'u2', 'u3', 'id', 'delay', 'x', 'reset', 'setf', 'cx', 'play', 'acquire', 'measure', 'rz', 'u1']</td></tr><tr><td>coupling_map</td><td>[[0, 1], [1, 0], [1, 2], [1, 3], [2, 1], [3, 1], [3, 4], [4, 3]]</td></tr><tr><td>input_allowed</td><td>['job', 'runtime']</td></tr><tr><td>qubit_channel_mapping</td><td>[['u0', 'm0', 'd0', 'u1'], ['u0', 'm1', 'u2', 'd1', 'u3', 'u4', 'u5', 'u1'], ['u4', 'd2', 'u2', 'm2'], ['d3', 'u3', 'u6', 'm3', 'u5', 'u7'], ['u6', 'd4', 'u7', 'm4']]</td></tr></table>"
      }
     },
     "10ce3f5da919461296ae783622db68c4": {
      "model_module": "@jupyter-widgets/base",
      "model_module_version": "1.2.0",
      "model_name": "LayoutModel",
      "state": {
       "align_items": "center",
       "display": "flex-inline",
       "grid_area": "right",
       "max_height": "325px",
       "padding": "10px 10px 10px 10px",
       "width": "auto"
      }
     },
     "120629bd03eb41b9831932f5853deada": {
      "model_module": "@jupyter-widgets/controls",
      "model_module_version": "1.5.0",
      "model_name": "VBoxModel",
      "state": {
       "children": [
        "IPY_MODEL_1a09828f8ded4b168f2688d417a41f92",
        "IPY_MODEL_c8349b73800e47ec818e8c487a4b9351",
        "IPY_MODEL_0d7e61c1c53a40a89a56d586cde37204",
        "IPY_MODEL_01d8a67cf9a14c338c75f595c9a58e39",
        "IPY_MODEL_5a953e2fa389459ba0ab38ce03d43ca8",
        "IPY_MODEL_12313b7dfb2846f1b687345c30fc331e",
        "IPY_MODEL_7d327f672e7642c59e34d514a4389f43",
        "IPY_MODEL_eed0a88370b242339960b414c84b9fb8",
        "IPY_MODEL_5e70d40631ff4965ba2c4d8c803dd598",
        "IPY_MODEL_fb7ba77e768a4ae984e9865369fb21af"
       ],
       "layout": "IPY_MODEL_754d9e2969854c3fbecad0dd84510193"
      }
     },
     "121474aa732843e4ba59de6842f37cbc": {
      "model_module": "@jupyter-widgets/controls",
      "model_module_version": "1.5.0",
      "model_name": "LabelModel",
      "state": {
       "layout": "IPY_MODEL_4f95e2fd34944356bb9cf766942ee00e",
       "style": "IPY_MODEL_606040a77a8d474ba39bb4489ee08254",
       "value": "Avg. CX Err."
      }
     },
     "12313b7dfb2846f1b687345c30fc331e": {
      "model_module": "@jupyter-widgets/controls",
      "model_module_version": "1.5.0",
      "model_name": "HTMLModel",
      "state": {
       "layout": "IPY_MODEL_6df2727ef6824f938489611eb822ed80",
       "style": "IPY_MODEL_f3cfc424e9454d01a37230218af449c5",
       "value": "<h5 style='color:#34bc6e'>True</h5>"
      }
     },
     "13c349339ef44b6d936503c932c2ac99": {
      "model_module": "@jupyter-widgets/controls",
      "model_module_version": "1.5.0",
      "model_name": "DescriptionStyleModel",
      "state": {
       "description_width": ""
      }
     },
     "13cce96abcbc4f2190eceddd5618c9a1": {
      "model_module": "@jupyter-widgets/controls",
      "model_module_version": "1.5.0",
      "model_name": "DescriptionStyleModel",
      "state": {
       "description_width": ""
      }
     },
     "14eee0466f004fb0ac47a9ad0ed777d0": {
      "model_module": "@jupyter-widgets/base",
      "model_module_version": "1.2.0",
      "model_name": "LayoutModel",
      "state": {
       "grid_gap": "0px 0px",
       "grid_template_areas": "\n                                                   \"top top top\"\n                                                   \"left middle right\"\n                                                   ",
       "grid_template_columns": "33% 33% 33%",
       "grid_template_rows": "auto auto"
      }
     },
     "154b40ce68fc438da986df4358f76ef4": {
      "model_module": "@jupyter-widgets/base",
      "model_module_version": "1.2.0",
      "model_name": "LayoutModel",
      "state": {
       "width": "145px"
      }
     },
     "16d2f7a1d0cb4d9f9a45a13f2e72111d": {
      "model_module": "@jupyter-widgets/base",
      "model_module_version": "1.2.0",
      "model_name": "LayoutModel",
      "state": {
       "max_width": "700px",
       "min_width": "700px"
      }
     },
     "16eab4949c85471d953e0fc84a57202f": {
      "model_module": "@jupyter-widgets/controls",
      "model_module_version": "1.5.0",
      "model_name": "VBoxModel",
      "state": {
       "children": [
        "IPY_MODEL_e3e743eb90044527aef6e71ff87862e7",
        "IPY_MODEL_1fa7563b73de44a9b44300ee8e0803b8"
       ],
       "layout": "IPY_MODEL_4695e94c42614ff0a766a9ccd8f2c0d4"
      }
     },
     "189e5af5b0214eba8960c0b898cbb89d": {
      "model_module": "@jupyter-widgets/controls",
      "model_module_version": "1.5.0",
      "model_name": "DescriptionStyleModel",
      "state": {
       "description_width": ""
      }
     },
     "19518cb96f3e4598a7559ae9f96611d1": {
      "model_module": "@jupyter-widgets/base",
      "model_module_version": "1.2.0",
      "model_name": "LayoutModel",
      "state": {}
     },
     "1a09828f8ded4b168f2688d417a41f92": {
      "model_module": "@jupyter-widgets/controls",
      "model_module_version": "1.5.0",
      "model_name": "HTMLModel",
      "state": {
       "layout": "IPY_MODEL_9b4611be875e4c4caa944ac4acda6afe",
       "style": "IPY_MODEL_8a31b70abc944a21aeb4a23ca98fe003",
       "value": "<h4>ibmq_bogota</h4>"
      }
     },
     "1a598c6540fb4bed9ffb42265dac3c2a": {
      "model_module": "@jupyter-widgets/base",
      "model_module_version": "1.2.0",
      "model_name": "LayoutModel",
      "state": {
       "max_width": "180px"
      }
     },
     "1a71b1272c6446a38d4a25b70c356941": {
      "model_module": "@jupyter-widgets/base",
      "model_module_version": "1.2.0",
      "model_name": "LayoutModel",
      "state": {
       "align_items": "center",
       "display": "inline-flex",
       "flex_flow": "column"
      }
     },
     "1b5333437c48435e8ea344ef16c5aeda": {
      "model_module": "@jupyter-widgets/controls",
      "model_module_version": "1.5.0",
      "model_name": "HTMLModel",
      "state": {
       "layout": "IPY_MODEL_764f4d2a20d1410bade350a384c1cf71",
       "style": "IPY_MODEL_7bba5c85f1064874b7f5a1b0492de7f1",
       "value": "<h5 style='color:#dc267f'>False</h5>"
      }
     },
     "1c8752b7e74e4b429c1d8f1cc5bcedba": {
      "model_module": "@jupyter-widgets/base",
      "model_module_version": "1.2.0",
      "model_name": "LayoutModel",
      "state": {
       "justify_content": "center",
       "max_width": "250px",
       "min_width": "250px"
      }
     },
     "1cc54774ec7842588688f29ebe2e65c5": {
      "model_module": "@jupyter-widgets/base",
      "model_module_version": "1.2.0",
      "model_name": "LayoutModel",
      "state": {
       "max_width": "180px"
      }
     },
     "1d3a801b2ee84a28a23da1d5d0c30b31": {
      "model_module": "@jupyter-widgets/controls",
      "model_module_version": "1.5.0",
      "model_name": "DescriptionStyleModel",
      "state": {
       "description_width": ""
      }
     },
     "1e1aa54d251640c18c5b45f8c8d9d9d7": {
      "model_module": "@jupyter-widgets/controls",
      "model_module_version": "1.5.0",
      "model_name": "DescriptionStyleModel",
      "state": {
       "description_width": ""
      }
     },
     "1e1f15756c6640099a49d2b1f1fbab05": {
      "model_module": "@jupyter-widgets/base",
      "model_module_version": "1.2.0",
      "model_name": "LayoutModel",
      "state": {
       "grid_area": "left",
       "width": "100%"
      }
     },
     "1e5d19da02e245839cdf744bc40486ac": {
      "model_module": "@jupyter-widgets/base",
      "model_module_version": "1.2.0",
      "model_name": "LayoutModel",
      "state": {
       "justify_content": "center",
       "max_width": "250px",
       "min_width": "250px"
      }
     },
     "1efb70221b4047de8059e25bdbc3ae99": {
      "model_module": "@jupyter-widgets/base",
      "model_module_version": "1.2.0",
      "model_name": "LayoutModel",
      "state": {}
     },
     "1fa7563b73de44a9b44300ee8e0803b8": {
      "model_module": "@jupyter-widgets/controls",
      "model_module_version": "1.5.0",
      "model_name": "TabModel",
      "state": {
       "_titles": {
        "0": "Configuration",
        "1": "Qubit Properties",
        "2": "Multi-Qubit Gates",
        "3": "Error Map",
        "4": "Job History"
       },
       "children": [
        "IPY_MODEL_766ced95006543ea84adca3f047a1575",
        "IPY_MODEL_e95d5cda8f0f437d8a02ec50159b04ba",
        "IPY_MODEL_8fe598bfaa0e49f18c386b0fc8de0e1c",
        "IPY_MODEL_327977f8c6f74c0d8a34d0befe9fbca4",
        "IPY_MODEL_ec433fb133074002809c7802373b8ea7"
       ],
       "layout": "IPY_MODEL_e75db17e2223442aa0bcae6f3eee24b0"
      }
     },
     "208ebbaf332f49539ed9d9b8447e96d1": {
      "model_module": "@jupyter-widgets/controls",
      "model_module_version": "1.5.0",
      "model_name": "ButtonStyleModel",
      "state": {
       "button_color": "white"
      }
     },
     "20b90bd47ea74a2f9e79c00d82a99bfe": {
      "model_module": "@jupyter-widgets/base",
      "model_module_version": "1.2.0",
      "model_name": "LayoutModel",
      "state": {
       "justify_content": "center"
      }
     },
     "22050bb823324140992bcb9e1c147c4a": {
      "model_module": "@jupyter-widgets/base",
      "model_module_version": "1.2.0",
      "model_name": "LayoutModel",
      "state": {
       "border": "4px solid #000000",
       "max_height": "650px",
       "min_height": "650px",
       "overflow_y": "hidden"
      }
     },
     "22af16c4f6e1478bac0f1dcba642b64f": {
      "model_module": "@jupyter-widgets/base",
      "model_module_version": "1.2.0",
      "model_name": "LayoutModel",
      "state": {
       "align_items": "center",
       "justify_content": "center",
       "margin": "0px 0px 0px 0px",
       "max_height": "250px",
       "max_width": "250px",
       "min_height": "250px",
       "min_width": "250px"
      }
     },
     "22df1ab541154388911ce3acf70e9b78": {
      "model_module": "@jupyter-widgets/controls",
      "model_module_version": "1.5.0",
      "model_name": "DescriptionStyleModel",
      "state": {
       "description_width": ""
      }
     },
     "237f9c5fa2684fe6b24775d1e1f30053": {
      "model_module": "@jupyter-widgets/base",
      "model_module_version": "1.2.0",
      "model_name": "LayoutModel",
      "state": {
       "grid_template_areas": "\n                                       \". . . . right \"\n                                        ",
       "grid_template_columns": "20% 20% 20% 20% 20%",
       "width": "100%"
      }
     },
     "23f973dcc1b04f4696a7fd302a1cf38d": {
      "model_module": "@jupyter-widgets/controls",
      "model_module_version": "1.5.0",
      "model_name": "VBoxModel",
      "state": {
       "children": [
        "IPY_MODEL_e2273fb2bdf1416fa42e589225c86d5d",
        "IPY_MODEL_c9be22cf96bd46789d2dc20adee4d768",
        "IPY_MODEL_cbec418d1e334a62ad01890396122120",
        "IPY_MODEL_c3343616fb1b4542b087a21efc914f36",
        "IPY_MODEL_4b1cc6cef14246a4bf0dc2b922931d6a",
        "IPY_MODEL_d14a3817076747c68c40f0f99ec90f7b",
        "IPY_MODEL_2f46c0e8176244c695a1ce38301e4762",
        "IPY_MODEL_a5a895e777e8439ebe001e92cc66b8c9",
        "IPY_MODEL_53a792ce07ed4a33bf09ae7939336453",
        "IPY_MODEL_82ffe9f75f9e4e35b223940c6bb0f7c9"
       ],
       "layout": "IPY_MODEL_b6dd1d91a6e245d0a91116cceb5c7b03"
      }
     },
     "25247f2cf6794aa6a1a6738a593850a2": {
      "model_module": "@jupyter-widgets/controls",
      "model_module_version": "1.5.0",
      "model_name": "HTMLMathModel",
      "state": {
       "layout": "IPY_MODEL_4e240203639841a4bf24a4e33b7a2ddb",
       "style": "IPY_MODEL_8223557f6c29410982386fbcb07c4e75",
       "value": "<table><style>\ntable {\n    border-collapse: collapse;\n    width: auto;\n}\n\nth, td {\n    text-align: left;\n    padding: 8px;\n}\n\ntr:nth-child(even) {background-color: #f6f6f6;}\n</style><tr><th></th><th></th></tr><tr><td>rep_delay_range</td><td>[0.0, 500.0]</td></tr><tr><td>url</td><td>None</td></tr><tr><td>supported_features</td><td>['qobj']</td></tr><tr><td>measure_esp_enabled</td><td>False</td></tr><tr><td>uchannels_enabled</td><td>True</td></tr><tr><td>processor_type</td><td>{'family': 'Falcon', 'revision': 4, 'segment': 'T'}</td></tr><tr><td>backend_name</td><td>ibmq_lima</td></tr><tr><td>dynamic_reprate_enabled</td><td>True</td></tr><tr><td>parametric_pulses</td><td>['gaussian', 'gaussian_square', 'drag', 'constant']</td></tr><tr><td>allow_q_object</td><td>True</td></tr><tr><td>pulse_num_channels</td><td>9</td></tr><tr><td>u_channel_lo</td><td>[[{'q': 1, 'scale': (1+0j)}], [{'q': 0, 'scale': (1+0j)}], [{'q': 2, 'scale': (1+0j)}], [{'q': 3, 'scale': (1+0j)}], [{'q': 1, 'scale': (1+0j)}], [{'q': 1, 'scale': (1+0j)}], [{'q': 4, 'scale': (1+0j)}], [{'q': 3, 'scale': (1+0j)}]]</td></tr><tr><td>meas_levels</td><td>[1, 2]</td></tr><tr><td>pulse_num_qubits</td><td>3</td></tr><tr><td>sample_name</td><td>family: Falcon, revision: 4, segment: T</td></tr><tr><td>credits_required</td><td>True</td></tr><tr><td>meas_lo_range</td><td>[[6.925143125000001, 7.925143125000001], [6.721646720000001, 7.721646720000001], [6.971842939, 7.971842939], [6.865317232000001, 7.865317232000001], [6.919067567000001, 7.919067567000001]]</td></tr><tr><td>simulator</td><td>False</td></tr><tr><td>memory</td><td>True</td></tr><tr><td>multi_meas_enabled</td><td>True</td></tr><tr><td>description</td><td>5 qubit device Lima</td></tr><tr><td>dt</td><td>0.2222222222222222</td></tr><tr><td>allow_object_storage</td><td>True</td></tr><tr><td>n_registers</td><td>1</td></tr><tr><td>qubit_lo_range</td><td>[[4.529757245269171, 5.529757245269171], [4.62768256819176, 5.62768256819176], [4.747358456884291, 5.7473584568842915], [4.802173703667931, 5.802173703667931], [4.592161943428468, 5.592161943428468]]</td></tr><tr><td>meas_kernels</td><td>['hw_boxcar']</td></tr><tr><td>hamiltonian</td><td>$$\\begin{align} \\mathcal{H}/\\hbar = & \\sum_{i=0}^{4}\\left(\\frac{\\omega_{q,i}}{2}(\\mathbb{I}-\\sigma_i^{z})+\\frac{\\Delta_{i}}{2}(O_i^2-O_i)+\\Omega_{d,i}D_i(t)\\sigma_i^{X}\\right) \\\\ & + J_{0,1}(\\sigma_{0}^{+}\\sigma_{1}^{-}+\\sigma_{0}^{-}\\sigma_{1}^{+}) + J_{1,2}(\\sigma_{1}^{+}\\sigma_{2}^{-}+\\sigma_{1}^{-}\\sigma_{2}^{+}) + J_{1,3}(\\sigma_{1}^{+}\\sigma_{3}^{-}+\\sigma_{1}^{-}\\sigma_{3}^{+}) + J_{3,4}(\\sigma_{3}^{+}\\sigma_{4}^{-}+\\sigma_{3}^{-}\\sigma_{4}^{+}) \\\\ & + \\Omega_{d,0}(U_{0}^{(0,1)}(t))\\sigma_{0}^{X} + \\Omega_{d,1}(U_{1}^{(1,0)}(t)+U_{3}^{(1,3)}(t)+U_{2}^{(1,2)}(t))\\sigma_{1}^{X} \\\\ & + \\Omega_{d,2}(U_{4}^{(2,1)}(t))\\sigma_{2}^{X} + \\Omega_{d,3}(U_{6}^{(3,4)}(t)+U_{5}^{(3,1)}(t))\\sigma_{3}^{X} \\\\ & + \\Omega_{d,4}(U_{7}^{(4,3)}(t))\\sigma_{4}^{X} \\\\ \\end{align}$$</td></tr><tr><td>n_uchannels</td><td>8</td></tr><tr><td>discriminators</td><td>['hw_centroid', 'linear_discriminator', 'quadratic_discriminator']</td></tr><tr><td>rep_times</td><td>[1000.0]</td></tr><tr><td>clops</td><td>2673</td></tr><tr><td>conditional_latency</td><td>[]</td></tr><tr><td>timing_constraints</td><td>{'acquire_alignment': 16, 'granularity': 16, 'min_length': 64, 'pulse_alignment': 1}</td></tr><tr><td>online_date</td><td>2021-01-08 05:00:00+00:00</td></tr><tr><td>open_pulse</td><td>False</td></tr><tr><td>local</td><td>False</td></tr><tr><td>channels</td><td>{'acquire0': {'operates': {'qubits': [0]}, 'purpose': 'acquire', 'type': 'acquire'}, 'acquire1': {'operates': {'qubits': [1]}, 'purpose': 'acquire', 'type': 'acquire'}, 'acquire2': {'operates': {'qubits': [2]}, 'purpose': 'acquire', 'type': 'acquire'}, 'acquire3': {'operates': {'qubits': [3]}, 'purpose': 'acquire', 'type': 'acquire'}, 'acquire4': {'operates': {'qubits': [4]}, 'purpose': 'acquire', 'type': 'acquire'}, 'd0': {'operates': {'qubits': [0]}, 'purpose': 'drive', 'type': 'drive'}, 'd1': {'operates': {'qubits': [1]}, 'purpose': 'drive', 'type': 'drive'}, 'd2': {'operates': {'qubits': [2]}, 'purpose': 'drive', 'type': 'drive'}, 'd3': {'operates': {'qubits': [3]}, 'purpose': 'drive', 'type': 'drive'}, 'd4': {'operates': {'qubits': [4]}, 'purpose': 'drive', 'type': 'drive'}, 'm0': {'operates': {'qubits': [0]}, 'purpose': 'measure', 'type': 'measure'}, 'm1': {'operates': {'qubits': [1]}, 'purpose': 'measure', 'type': 'measure'}, 'm2': {'operates': {'qubits': [2]}, 'purpose': 'measure', 'type': 'measure'}, 'm3': {'operates': {'qubits': [3]}, 'purpose': 'measure', 'type': 'measure'}, 'm4': {'operates': {'qubits': [4]}, 'purpose': 'measure', 'type': 'measure'}, 'u0': {'operates': {'qubits': [0, 1]}, 'purpose': 'cross-resonance', 'type': 'control'}, 'u1': {'operates': {'qubits': [1, 0]}, 'purpose': 'cross-resonance', 'type': 'control'}, 'u2': {'operates': {'qubits': [1, 2]}, 'purpose': 'cross-resonance', 'type': 'control'}, 'u3': {'operates': {'qubits': [1, 3]}, 'purpose': 'cross-resonance', 'type': 'control'}, 'u4': {'operates': {'qubits': [2, 1]}, 'purpose': 'cross-resonance', 'type': 'control'}, 'u5': {'operates': {'qubits': [3, 1]}, 'purpose': 'cross-resonance', 'type': 'control'}, 'u6': {'operates': {'qubits': [3, 4]}, 'purpose': 'cross-resonance', 'type': 'control'}, 'u7': {'operates': {'qubits': [4, 3]}, 'purpose': 'cross-resonance', 'type': 'control'}}</td></tr><tr><td>acquisition_latency</td><td>[]</td></tr><tr><td>conditional</td><td>False</td></tr><tr><td>default_rep_delay</td><td>250.0</td></tr><tr><td>dtm</td><td>0.2222222222222222</td></tr><tr><td>meas_map</td><td>[[0, 1, 2, 3, 4]]</td></tr><tr><td>supported_instructions</td><td>['shiftf', 'sx', 'u2', 'u3', 'id', 'delay', 'x', 'reset', 'setf', 'cx', 'play', 'acquire', 'measure', 'rz', 'u1']</td></tr><tr><td>coupling_map</td><td>[[0, 1], [1, 0], [1, 2], [1, 3], [2, 1], [3, 1], [3, 4], [4, 3]]</td></tr><tr><td>input_allowed</td><td>['job', 'runtime']</td></tr><tr><td>qubit_channel_mapping</td><td>[['u0', 'm0', 'd0', 'u1'], ['u0', 'm1', 'u2', 'd1', 'u3', 'u4', 'u5', 'u1'], ['u4', 'd2', 'u2', 'm2'], ['d3', 'u3', 'u6', 'm3', 'u5', 'u7'], ['u6', 'd4', 'u7', 'm4']]</td></tr></table>"
      }
     },
     "2596d99eec6f454781c68184f4318ac8": {
      "model_module": "@jupyter-widgets/controls",
      "model_module_version": "1.5.0",
      "model_name": "DescriptionStyleModel",
      "state": {
       "description_width": ""
      }
     },
     "26f2516e8b0d4fbe8d984cd0c195efa8": {
      "model_module": "@jupyter-widgets/controls",
      "model_module_version": "1.5.0",
      "model_name": "TabModel",
      "state": {
       "layout": "IPY_MODEL_73559dc34ef948b0aee78b1788a65d01"
      }
     },
     "276eb706d255419282fbe20e0335249d": {
      "model_module": "@jupyter-widgets/base",
      "model_module_version": "1.2.0",
      "model_name": "LayoutModel",
      "state": {
       "grid_area": "middle"
      }
     },
     "27f3dc7bb2e942e996424d13d1261fc2": {
      "model_module": "@jupyter-widgets/controls",
      "model_module_version": "1.5.0",
      "model_name": "HTMLModel",
      "state": {
       "layout": "IPY_MODEL_f2b67de7c5c14b86b25301bd0483c868",
       "style": "IPY_MODEL_13c349339ef44b6d936503c932c2ac99",
       "value": "<h5>Backend</h5>"
      }
     },
     "2958c2a44fa646488d4fa525110d51e7": {
      "model_module": "@jupyter-widgets/controls",
      "model_module_version": "1.5.0",
      "model_name": "HTMLModel",
      "state": {
       "layout": "IPY_MODEL_38757c44af7742a69b360f92c3745ba8",
       "style": "IPY_MODEL_7bd09b39f1274c3c931b7a86a28cfc03",
       "value": "<h5>8</h5>"
      }
     },
     "29b91257a2074ea097734aa09eccd258": {
      "model_module": "@jupyter-widgets/controls",
      "model_module_version": "1.5.0",
      "model_name": "ProgressStyleModel",
      "state": {
       "bar_color": "#71cddd",
       "description_width": ""
      }
     },
     "2a154175f21e4ead9ea1c1aa975353e5": {
      "model_module": "@jupyter-widgets/base",
      "model_module_version": "1.2.0",
      "model_name": "LayoutModel",
      "state": {}
     },
     "2ae93c247bca498db9282edfc38ec2d4": {
      "model_module": "@jupyter-widgets/controls",
      "model_module_version": "1.5.0",
      "model_name": "ProgressStyleModel",
      "state": {
       "bar_color": "#71cddd",
       "description_width": ""
      }
     },
     "2af61bcfad874fc686fc0cb22d4928f0": {
      "model_module": "@jupyter-widgets/base",
      "model_module_version": "1.2.0",
      "model_name": "LayoutModel",
      "state": {}
     },
     "2b200f233b134038b3b7fa6b4c7ec2c4": {
      "model_module": "@jupyter-widgets/controls",
      "model_module_version": "1.5.0",
      "model_name": "ProgressStyleModel",
      "state": {
       "bar_color": "#71cddd",
       "description_width": ""
      }
     },
     "2b2d8e736e9a4125817e3a04618c41a2": {
      "model_module": "@jupyter-widgets/base",
      "model_module_version": "1.2.0",
      "model_name": "LayoutModel",
      "state": {
       "justify_content": "center"
      }
     },
     "2cf4e756bb5842f391f413799191ecf3": {
      "model_module": "@jupyter-widgets/base",
      "model_module_version": "1.2.0",
      "model_name": "LayoutModel",
      "state": {
       "justify_content": "center"
      }
     },
     "2d4c206a3d804b699d72d99b846ee4a0": {
      "model_module": "@jupyter-widgets/base",
      "model_module_version": "1.2.0",
      "model_name": "LayoutModel",
      "state": {
       "grid_area": "bottom",
       "width": "auto"
      }
     },
     "2e297fc0536b4aba90ba25569694fbb5": {
      "model_module": "@jupyter-widgets/controls",
      "model_module_version": "1.5.0",
      "model_name": "DescriptionStyleModel",
      "state": {
       "description_width": ""
      }
     },
     "2eef3f223de6464cb3bbe18a6ad9d7ab": {
      "model_module": "@jupyter-widgets/base",
      "model_module_version": "1.2.0",
      "model_name": "LayoutModel",
      "state": {
       "max_width": "180px"
      }
     },
     "2f19b894d3fe468c8dfd981c3166ddc0": {
      "model_module": "@jupyter-widgets/controls",
      "model_module_version": "1.5.0",
      "model_name": "DescriptionStyleModel",
      "state": {
       "description_width": ""
      }
     },
     "2f46c0e8176244c695a1ce38301e4762": {
      "model_module": "@jupyter-widgets/controls",
      "model_module_version": "1.5.0",
      "model_name": "HTMLModel",
      "state": {
       "layout": "IPY_MODEL_387b02b2063b4965941cb84ebeef0770",
       "style": "IPY_MODEL_0f6a988fc8d341589dcd8ccd011cc071",
       "value": "<h5 style='color:#dc267f'>False</h5>"
      }
     },
     "2fdb639564d04bfead559e0d98ee9c87": {
      "model_module": "@jupyter-widgets/controls",
      "model_module_version": "1.5.0",
      "model_name": "HTMLModel",
      "state": {
       "layout": "IPY_MODEL_c14906d37ab140deb8a1f834134d88d1",
       "style": "IPY_MODEL_3c4c61ad173c4d8799046418101b6a62",
       "value": "<div><font style='font-weight:bold'>last_update_date</font>: Tue 08 February 2022 at 05:40 UTC</div>"
      }
     },
     "2fe6f394e6ec49deaaa5fc666ddb1a64": {
      "model_module": "@jupyter-widgets/base",
      "model_module_version": "1.2.0",
      "model_name": "LayoutModel",
      "state": {}
     },
     "300439fbe0e34794a65831a79e80521d": {
      "model_module": "@jupyter-widgets/controls",
      "model_module_version": "1.5.0",
      "model_name": "HTMLModel",
      "state": {
       "layout": "IPY_MODEL_a961c3c9f6c6412699da1ba49fb0a93c",
       "style": "IPY_MODEL_a1e8912a8a1043209322adb8c31bf163",
       "value": "<h5>Message</h5>"
      }
     },
     "318a06a9ccae481f89313d5aeac0c76c": {
      "model_module": "@jupyter-widgets/controls",
      "model_module_version": "1.5.0",
      "model_name": "DescriptionStyleModel",
      "state": {
       "description_width": ""
      }
     },
     "318dde70f13245fdaae4f0072080a8c5": {
      "model_module": "@jupyter-widgets/base",
      "model_module_version": "1.2.0",
      "model_name": "LayoutModel",
      "state": {}
     },
     "32673d69137c4e1fb983ae83a9638359": {
      "model_module": "@jupyter-widgets/controls",
      "model_module_version": "1.5.0",
      "model_name": "DescriptionStyleModel",
      "state": {
       "description_width": ""
      }
     },
     "327977f8c6f74c0d8a34d0befe9fbca4": {
      "model_module": "@jupyter-widgets/output",
      "model_module_version": "1.0.0",
      "model_name": "OutputModel",
      "state": {
       "layout": "IPY_MODEL_6bdc5fa7de7245c9a57bd67a9608e7d4",
       "outputs": [
        {
         "data": {
          "image/png": "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\n",
          "text/plain": "<Figure size 792x648 with 5 Axes>"
         },
         "metadata": {},
         "output_type": "display_data"
        }
       ]
      }
     },
     "32886417111343f2aaecfca57aa8176f": {
      "model_module": "@jupyter-widgets/controls",
      "model_module_version": "1.5.0",
      "model_name": "DescriptionStyleModel",
      "state": {
       "description_width": ""
      }
     },
     "32ba5a893eae4c3899a5332e00b6d786": {
      "model_module": "@jupyter-widgets/base",
      "model_module_version": "1.2.0",
      "model_name": "LayoutModel",
      "state": {
       "justify_content": "center"
      }
     },
     "32efc0ec1d854dd89941f0f7c47aa9c0": {
      "model_module": "@jupyter-widgets/controls",
      "model_module_version": "1.5.0",
      "model_name": "DescriptionStyleModel",
      "state": {
       "description_width": ""
      }
     },
     "32ffe5625498436fac1c5d33900420c1": {
      "model_module": "@jupyter-widgets/controls",
      "model_module_version": "1.5.0",
      "model_name": "HTMLModel",
      "state": {
       "layout": "IPY_MODEL_65f4c983195f469faa80068294d41da6",
       "style": "IPY_MODEL_8374c4ee585b40d3b0cd59823f126bf5",
       "value": "<h5>0.0421</h5>"
      }
     },
     "333b1b544ebb4712bc835a643d174b6a": {
      "model_module": "@jupyter-widgets/base",
      "model_module_version": "1.2.0",
      "model_name": "LayoutModel",
      "state": {}
     },
     "33a3a5e3bd4e43e78d09d2424153fd84": {
      "model_module": "@jupyter-widgets/base",
      "model_module_version": "1.2.0",
      "model_name": "LayoutModel",
      "state": {
       "grid_area": "right"
      }
     },
     "33c573eb0fba4ab7bfd0d90eb6f3c2ff": {
      "model_module": "@jupyter-widgets/base",
      "model_module_version": "1.2.0",
      "model_name": "LayoutModel",
      "state": {
       "grid_area": "top"
      }
     },
     "347cf4fe874a4ae2a77fb5cd11a33716": {
      "model_module": "@jupyter-widgets/controls",
      "model_module_version": "1.5.0",
      "model_name": "DescriptionStyleModel",
      "state": {
       "description_width": ""
      }
     },
     "347f756da9ff48b5b63af10800569517": {
      "model_module": "@jupyter-widgets/controls",
      "model_module_version": "1.5.0",
      "model_name": "DescriptionStyleModel",
      "state": {
       "description_width": ""
      }
     },
     "34d317e573c843a5996660e07a980325": {
      "model_module": "@jupyter-widgets/base",
      "model_module_version": "1.2.0",
      "model_name": "LayoutModel",
      "state": {
       "justify_content": "center",
       "max_width": "250px",
       "min_width": "250px"
      }
     },
     "36b69aa87914449f8bf6ca5f6c067823": {
      "model_module": "@jupyter-widgets/output",
      "model_module_version": "1.0.0",
      "model_name": "OutputModel",
      "state": {
       "layout": "IPY_MODEL_ccdda85816ee41a0b7cff71a63ad3d2d",
       "outputs": [
        {
         "data": {
          "image/png": "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\n",
          "text/plain": "<Figure size 360x360 with 1 Axes>"
         },
         "metadata": {},
         "output_type": "display_data"
        }
       ]
      }
     },
     "36daf2d1d591482bb62570ced9b55073": {
      "model_module": "@jupyter-widgets/controls",
      "model_module_version": "1.5.0",
      "model_name": "ButtonModel",
      "state": {
       "button_style": "primary",
       "description": "Clear",
       "layout": "IPY_MODEL_0b3f735108b54c2181ed7319435c2290",
       "style": "IPY_MODEL_c36b964d7b1b49ac9bd9424cfebd8efd"
      }
     },
     "370bf61af47b4e03abb4a95f7d90a04c": {
      "model_module": "@jupyter-widgets/base",
      "model_module_version": "1.2.0",
      "model_name": "LayoutModel",
      "state": {
       "max_height": "500px",
       "max_width": "750px",
       "overflow_x": "hidden",
       "overflow_y": "scroll",
       "visibility": "visible",
       "width": "auto"
      }
     },
     "37935484aaa94005a6a8b7fe8e92c813": {
      "model_module": "@jupyter-widgets/controls",
      "model_module_version": "1.5.0",
      "model_name": "DescriptionStyleModel",
      "state": {
       "description_width": ""
      }
     },
     "386d46058e23468c89d460284ffee4f6": {
      "model_module": "@jupyter-widgets/controls",
      "model_module_version": "1.5.0",
      "model_name": "IntProgressModel",
      "state": {
       "layout": "IPY_MODEL_1cc54774ec7842588688f29ebe2e65c5",
       "max": 50,
       "style": "IPY_MODEL_833a734e5cca46aba183db8ebe51a42d",
       "value": 11
      }
     },
     "38757c44af7742a69b360f92c3745ba8": {
      "model_module": "@jupyter-widgets/base",
      "model_module_version": "1.2.0",
      "model_name": "LayoutModel",
      "state": {
       "justify_content": "center"
      }
     },
     "387b02b2063b4965941cb84ebeef0770": {
      "model_module": "@jupyter-widgets/base",
      "model_module_version": "1.2.0",
      "model_name": "LayoutModel",
      "state": {
       "justify_content": "center"
      }
     },
     "38cb0c95be7744fa822f04179da15195": {
      "model_module": "@jupyter-widgets/base",
      "model_module_version": "1.2.0",
      "model_name": "LayoutModel",
      "state": {
       "margin": "8px 0px 0px 0px"
      }
     },
     "39655b87a93f493d859f2d4abd174322": {
      "model_module": "@jupyter-widgets/controls",
      "model_module_version": "1.5.0",
      "model_name": "HTMLModel",
      "state": {
       "layout": "IPY_MODEL_9b19b5b091544fd7a83abce77c9df566",
       "style": "IPY_MODEL_51dd950be6fd491ebf7492ad69677dfd",
       "value": "<h5>0.0213</h5>"
      }
     },
     "3a4f3853a9394f0798f37f49572e41ff": {
      "model_module": "@jupyter-widgets/base",
      "model_module_version": "1.2.0",
      "model_name": "LayoutModel",
      "state": {
       "grid_area": "right"
      }
     },
     "3af89cf004b542dabf1eaee06c1dca2f": {
      "model_module": "@jupyter-widgets/controls",
      "model_module_version": "1.5.0",
      "model_name": "HTMLModel",
      "state": {
       "layout": "IPY_MODEL_70f7612ef1a544acb8cf3af5ff0964a1",
       "style": "IPY_MODEL_0ba9410d4ce6473a9e85ef5f71640e87",
       "value": "<h5 style='color:#34bc6e'>True</h5>"
      }
     },
     "3b7d752c7ce34126a5edb3658bcf1fb9": {
      "model_module": "@jupyter-widgets/controls",
      "model_module_version": "1.5.0",
      "model_name": "DescriptionStyleModel",
      "state": {
       "description_width": ""
      }
     },
     "3b8a15b324f84502ae539874b0645477": {
      "model_module": "@jupyter-widgets/base",
      "model_module_version": "1.2.0",
      "model_name": "LayoutModel",
      "state": {
       "align_items": "center",
       "display": "inline-flex",
       "flex_flow": "column"
      }
     },
     "3c4c61ad173c4d8799046418101b6a62": {
      "model_module": "@jupyter-widgets/controls",
      "model_module_version": "1.5.0",
      "model_name": "DescriptionStyleModel",
      "state": {
       "description_width": ""
      }
     },
     "3c777da3d20a4357a2822810fa7295cc": {
      "model_module": "@jupyter-widgets/controls",
      "model_module_version": "1.5.0",
      "model_name": "DescriptionStyleModel",
      "state": {
       "description_width": ""
      }
     },
     "3c83d21051b44c2b9de37851beaa9ad2": {
      "model_module": "@jupyter-widgets/base",
      "model_module_version": "1.2.0",
      "model_name": "LayoutModel",
      "state": {
       "min_width": "auto"
      }
     },
     "3cc51d4a4c614a1caf467ca635af39c1": {
      "model_module": "@jupyter-widgets/base",
      "model_module_version": "1.2.0",
      "model_name": "LayoutModel",
      "state": {
       "grid_area": "left",
       "width": "100%"
      }
     },
     "3d3f1537827c4940af5a38d2795339b8": {
      "model_module": "@jupyter-widgets/controls",
      "model_module_version": "1.5.0",
      "model_name": "GridBoxModel",
      "state": {
       "children": [
        "IPY_MODEL_bcfd710623ec40839b26367efd2a1ae3",
        "IPY_MODEL_d6c78f5c03b747cd8d55b5cc4ca6b0b7",
        "IPY_MODEL_10b84a7d8685435e858e64b43b8dc61d"
       ],
       "layout": "IPY_MODEL_b0ebf8f875024156a90ff61488733515"
      }
     },
     "3ec7c7a2d45e467d94211927569971dc": {
      "model_module": "@jupyter-widgets/base",
      "model_module_version": "1.2.0",
      "model_name": "LayoutModel",
      "state": {
       "justify_content": "center"
      }
     },
     "3ef00df1fce047d7a320e05d0c08e1de": {
      "model_module": "@jupyter-widgets/controls",
      "model_module_version": "1.5.0",
      "model_name": "LabelModel",
      "state": {
       "layout": "IPY_MODEL_67de68a6b7824ddf96652b5db19db430",
       "style": "IPY_MODEL_bd64a85e2acc498aa3e08d56378a8295",
       "value": "Pending Jobs"
      }
     },
     "3f1ec12d90ff48c99276fdca6c884b7f": {
      "model_module": "@jupyter-widgets/controls",
      "model_module_version": "1.5.0",
      "model_name": "LabelModel",
      "state": {
       "layout": "IPY_MODEL_773d2e4aa8754076a7b0e9638f95423f",
       "style": "IPY_MODEL_891e368957b84add8bdc92902215e84d",
       "value": "0"
      }
     },
     "3f47597d130347d7963d72002d237d6c": {
      "model_module": "@jupyter-widgets/controls",
      "model_module_version": "1.5.0",
      "model_name": "HTMLModel",
      "state": {
       "layout": "IPY_MODEL_454820f0116f4200b8b4c409552449f1",
       "style": "IPY_MODEL_632e3c00b6a64571ac0aac7ce060c367",
       "value": "job incurred error"
      }
     },
     "41cea63d6fab48f18c0872db6c97d690": {
      "model_module": "@jupyter-widgets/controls",
      "model_module_version": "1.5.0",
      "model_name": "HTMLModel",
      "state": {
       "layout": "IPY_MODEL_aa34bdd4dae3427fa230d3aee8d25181",
       "style": "IPY_MODEL_32673d69137c4e1fb983ae83a9638359",
       "value": "<h5>32</h5>"
      }
     },
     "41fe09637fbb4d2ab81f1192ac497783": {
      "model_module": "@jupyter-widgets/controls",
      "model_module_version": "1.5.0",
      "model_name": "HTMLModel",
      "state": {
       "layout": "IPY_MODEL_154b40ce68fc438da986df4358f76ef4",
       "style": "IPY_MODEL_cab3eefb0085421393ebba61610f6624",
       "value": "ibmq_belem"
      }
     },
     "42259f21f5754ecc83f3a16e8e21d898": {
      "model_module": "@jupyter-widgets/controls",
      "model_module_version": "1.5.0",
      "model_name": "DescriptionStyleModel",
      "state": {
       "description_width": ""
      }
     },
     "4231ed4337af4ed590befc152dc70c33": {
      "model_module": "@jupyter-widgets/base",
      "model_module_version": "1.2.0",
      "model_name": "LayoutModel",
      "state": {}
     },
     "42c8e941c34d4cdd8b4fb1e1e95f5163": {
      "model_module": "@jupyter-widgets/controls",
      "model_module_version": "1.5.0",
      "model_name": "HTMLModel",
      "state": {
       "layout": "IPY_MODEL_ad551dfa6331473ea9826d473114c827",
       "style": "IPY_MODEL_32886417111343f2aaecfca57aa8176f",
       "value": "<h5 style='color:#dc267f'>False</h5>"
      }
     },
     "42e80b1b6ac64a6faea7f7124c11c620": {
      "model_module": "@jupyter-widgets/base",
      "model_module_version": "1.2.0",
      "model_name": "LayoutModel",
      "state": {
       "min_width": "auto"
      }
     },
     "43b02e48be67460186b4e3eb1f7958a0": {
      "model_module": "@jupyter-widgets/base",
      "model_module_version": "1.2.0",
      "model_name": "LayoutModel",
      "state": {}
     },
     "44217b312ca54e7aafc7c3b705b55ecb": {
      "model_module": "@jupyter-widgets/controls",
      "model_module_version": "1.5.0",
      "model_name": "HTMLModel",
      "state": {
       "layout": "IPY_MODEL_eca3a259691748ff82fe2e88aeead8ad",
       "style": "IPY_MODEL_ec97973233fd48f3afe473dc0765e29a",
       "value": "<table><style>\ntable {\n    border-collapse: collapse;\n    width: auto;\n}\n\nth, td {\n    text-align: left;\n    padding: 8px;\n}\n\ntr:nth-child(even) {background-color: #f6f6f6;};\n</style><tr><th></th><th>Type</th><th>Gate error</th></tr><tr><td><font style='font-weight:bold'>cx1_0</font></td><td>cx</td><td>0.00653</td></tr><tr><td><font style='font-weight:bold'>cx3_1</font></td><td>cx</td><td>0.01345</td></tr><tr><td><font style='font-weight:bold'>cx1_3</font></td><td>cx</td><td>0.01345</td></tr></table>"
      }
     },
     "446c3f23cf4f487ab7dbe978f8496d3b": {
      "model_module": "@jupyter-widgets/controls",
      "model_module_version": "1.5.0",
      "model_name": "DescriptionStyleModel",
      "state": {
       "description_width": ""
      }
     },
     "44aa4b95ef324445b4a8f6e961564590": {
      "model_module": "@jupyter-widgets/base",
      "model_module_version": "1.2.0",
      "model_name": "LayoutModel",
      "state": {
       "justify_content": "center"
      }
     },
     "454820f0116f4200b8b4c409552449f1": {
      "model_module": "@jupyter-widgets/base",
      "model_module_version": "1.2.0",
      "model_name": "LayoutModel",
      "state": {
       "overflow_x": "scroll"
      }
     },
     "455b295699564a4f9edb14c340f181ed": {
      "model_module": "@jupyter-widgets/base",
      "model_module_version": "1.2.0",
      "model_name": "LayoutModel",
      "state": {
       "max_height": "620px"
      }
     },
     "459a2258f75146829ab01a3b7814aff3": {
      "model_module": "@jupyter-widgets/controls",
      "model_module_version": "1.5.0",
      "model_name": "DescriptionStyleModel",
      "state": {
       "description_width": ""
      }
     },
     "45d3961724c845c0b88818df28533a5b": {
      "model_module": "@jupyter-widgets/controls",
      "model_module_version": "1.5.0",
      "model_name": "VBoxModel",
      "state": {
       "children": [
        "IPY_MODEL_8156ab60df9c460293a039a105050b02",
        "IPY_MODEL_5d45df6dc5e641f48bb7838f13e7ca9a",
        "IPY_MODEL_f33c9b63c5054ba982e97c83c70d1e57",
        "IPY_MODEL_5b29fdfe579a4080872d17bd47f3b54b",
        "IPY_MODEL_f147170ed75c472ba8250811586d2095",
        "IPY_MODEL_b3e4f38a19f442cb9e0c7e2994daf5c1",
        "IPY_MODEL_b96766f6dd1b4d36b0878486a1063083",
        "IPY_MODEL_91d334e695a54ec9832df2baab2d8c17",
        "IPY_MODEL_4c38fd6248c14964a3669fa4be6b3463",
        "IPY_MODEL_32ffe5625498436fac1c5d33900420c1"
       ],
       "layout": "IPY_MODEL_6301e1bed7284434a2ad55fb8fd0f791"
      }
     },
     "45dadbdca4b340009853ee01256e547d": {
      "model_module": "@jupyter-widgets/controls",
      "model_module_version": "1.5.0",
      "model_name": "HTMLModel",
      "state": {
       "layout": "IPY_MODEL_a75c5905a8364505b997d19a54f0cc55",
       "style": "IPY_MODEL_67682c61d75840e197d8792d4733d338",
       "value": "<table><style>\ntable {\n    border-collapse: collapse;\n    width: auto;\n}\n\nth, td {\n    text-align: left;\n    padding: 8px;\n}\n\ntr:nth-child(even) {background-color: #f6f6f6;};\n</style><tr><th></th><th>Type</th><th>Gate error</th></tr><tr><td><font style='font-weight:bold'>cx1_0</font></td><td>cx</td><td>0.00631</td></tr><tr><td><font style='font-weight:bold'>cx2_3</font></td><td>cx</td><td>1</td></tr><tr><td><font style='font-weight:bold'>cx3_2</font></td><td>cx</td><td>1</td></tr></table>"
      }
     },
     "462168238d254791833a310b99ed8fc8": {
      "model_module": "@jupyter-widgets/controls",
      "model_module_version": "1.5.0",
      "model_name": "HTMLModel",
      "state": {
       "layout": "IPY_MODEL_fa420d0e4af14271b3c79c9c875f89fa",
       "style": "IPY_MODEL_09a3990e5aac4f00a1f2e0edf769c209",
       "value": "<h5>0.0287</h5>"
      }
     },
     "463478a619af44e3b82c993001046c63": {
      "model_module": "@jupyter-widgets/controls",
      "model_module_version": "1.5.0",
      "model_name": "DescriptionStyleModel",
      "state": {
       "description_width": ""
      }
     },
     "4695e94c42614ff0a766a9ccd8f2c0d4": {
      "model_module": "@jupyter-widgets/base",
      "model_module_version": "1.2.0",
      "model_name": "LayoutModel",
      "state": {
       "border": "4px solid #000000",
       "max_height": "650px",
       "min_height": "650px",
       "overflow_y": "hidden"
      }
     },
     "46cd2593b5224fc9b3a3d44596d4ca59": {
      "model_module": "@jupyter-widgets/controls",
      "model_module_version": "1.5.0",
      "model_name": "LabelModel",
      "state": {
       "layout": "IPY_MODEL_8f2d045db66b4d81afdcc61ad6a23fe5",
       "style": "IPY_MODEL_09999d1616c14dd395ba21f7c75a2c2a",
       "value": "2026"
      }
     },
     "4722c693be214212a701473f8f12b34a": {
      "model_module": "@jupyter-widgets/controls",
      "model_module_version": "1.5.0",
      "model_name": "DescriptionStyleModel",
      "state": {
       "description_width": ""
      }
     },
     "47e3f181540b4bada54b5cb1f0900d86": {
      "model_module": "@jupyter-widgets/controls",
      "model_module_version": "1.5.0",
      "model_name": "TabModel",
      "state": {
       "_titles": {
        "0": "Configuration",
        "1": "Qubit Properties",
        "2": "Multi-Qubit Gates",
        "3": "Error Map",
        "4": "Job History"
       },
       "children": [
        "IPY_MODEL_70e8a078f3d64354896427c2fc0d603d",
        "IPY_MODEL_08443a59b4d54e3f8c9d8e41d3ba1d5d",
        "IPY_MODEL_dc7af5e34c3149e3b1452308765f9d07",
        "IPY_MODEL_02ab563cbab947fea4b237bc528fb124",
        "IPY_MODEL_26f2516e8b0d4fbe8d984cd0c195efa8"
       ],
       "layout": "IPY_MODEL_8337dfbffa4046a19b309d8730c1afcc"
      }
     },
     "480dbaf8ba5446d8be94fc051fb56ef7": {
      "model_module": "@jupyter-widgets/controls",
      "model_module_version": "1.5.0",
      "model_name": "DescriptionStyleModel",
      "state": {
       "description_width": ""
      }
     },
     "4824b9ec525c406b91669b82dc75323b": {
      "model_module": "@jupyter-widgets/controls",
      "model_module_version": "1.5.0",
      "model_name": "HTMLModel",
      "state": {
       "layout": "IPY_MODEL_d15c2349400e4f48849dc86cacfbffb6",
       "style": "IPY_MODEL_05574ef0503c45b1a349d1c20f9bdbff",
       "value": "<h5>Queue</h5>"
      }
     },
     "485b79f0c9d64b7da2527f3f3bcec134": {
      "model_module": "@jupyter-widgets/controls",
      "model_module_version": "1.5.0",
      "model_name": "DescriptionStyleModel",
      "state": {
       "description_width": ""
      }
     },
     "49b1754980ac4b85be471e632c130bf8": {
      "model_module": "@jupyter-widgets/base",
      "model_module_version": "1.2.0",
      "model_name": "LayoutModel",
      "state": {
       "min_width": "auto"
      }
     },
     "4b1cc6cef14246a4bf0dc2b922931d6a": {
      "model_module": "@jupyter-widgets/controls",
      "model_module_version": "1.5.0",
      "model_name": "HBoxModel",
      "state": {
       "children": [
        "IPY_MODEL_c6e112c51d2a4fd7af1cda7602a4288b",
        "IPY_MODEL_386d46058e23468c89d460284ffee4f6",
        "IPY_MODEL_e91e3e6c177d469292f7a89fa7c5725c"
       ],
       "layout": "IPY_MODEL_50911b84eb1b46748c3a7929f6c75c9b"
      }
     },
     "4c38fd6248c14964a3669fa4be6b3463": {
      "model_module": "@jupyter-widgets/controls",
      "model_module_version": "1.5.0",
      "model_name": "HTMLModel",
      "state": {
       "layout": "IPY_MODEL_19518cb96f3e4598a7559ae9f96611d1",
       "style": "IPY_MODEL_1e1aa54d251640c18c5b45f8c8d9d9d7",
       "value": "<h5>0.0125</h5>"
      }
     },
     "4e240203639841a4bf24a4e33b7a2ddb": {
      "model_module": "@jupyter-widgets/base",
      "model_module_version": "1.2.0",
      "model_name": "LayoutModel",
      "state": {
       "grid_area": "bottom",
       "width": "auto"
      }
     },
     "4e32d8f462624d39aca1f8d385fb730a": {
      "model_module": "@jupyter-widgets/controls",
      "model_module_version": "1.5.0",
      "model_name": "VBoxModel",
      "state": {
       "children": [
        "IPY_MODEL_2fdb639564d04bfead559e0d98ee9c87",
        "IPY_MODEL_915e6f7308eb4b6b9591b9503d6c8071"
       ],
       "layout": "IPY_MODEL_5a77d0ca05cb423cb397406b37c63374"
      }
     },
     "4e37869780624984af7d3a9e92ae7dca": {
      "model_module": "@jupyter-widgets/controls",
      "model_module_version": "1.5.0",
      "model_name": "HTMLModel",
      "state": {
       "layout": "IPY_MODEL_7ace8474d1c44c62825c186bdc39c4c8",
       "style": "IPY_MODEL_03e70e4e09c54f1d87b276e82c8b8a3f",
       "value": "<table><style>\ntable {\n    border-collapse: collapse;\n    width: auto;\n}\n\nth, td {\n    text-align: left;\n    padding: 8px;\n}\n\ntr:nth-child(even) {background-color: #f6f6f6;};\n</style><tr><th></th><th>Type</th><th>Gate error</th></tr><tr><td><font style='font-weight:bold'>cx4_3</font></td><td>cx</td><td>0.00552</td></tr><tr><td><font style='font-weight:bold'>cx3_4</font></td><td>cx</td><td>0.00552</td></tr><tr><td><font style='font-weight:bold'>cx0_1</font></td><td>cx</td><td>0.00631</td></tr></table>"
      }
     },
     "4f55b4f147d74c66a7d6d14d1b016079": {
      "model_module": "@jupyter-widgets/base",
      "model_module_version": "1.2.0",
      "model_name": "LayoutModel",
      "state": {}
     },
     "4f95e2fd34944356bb9cf766942ee00e": {
      "model_module": "@jupyter-widgets/base",
      "model_module_version": "1.2.0",
      "model_name": "LayoutModel",
      "state": {
       "margin": "8px 0px 0px 0px"
      }
     },
     "50911b84eb1b46748c3a7929f6c75c9b": {
      "model_module": "@jupyter-widgets/base",
      "model_module_version": "1.2.0",
      "model_name": "LayoutModel",
      "state": {
       "justify_content": "center",
       "max_width": "250px",
       "min_width": "250px"
      }
     },
     "5125f0b39281420dad24d8b1c0964091": {
      "model_module": "@jupyter-widgets/controls",
      "model_module_version": "1.5.0",
      "model_name": "DescriptionStyleModel",
      "state": {
       "description_width": ""
      }
     },
     "51cea6527c1e4b3f8de51d69305c7f13": {
      "model_module": "@jupyter-widgets/controls",
      "model_module_version": "1.5.0",
      "model_name": "HBoxModel",
      "state": {
       "children": [
        "IPY_MODEL_ba5c25dfd54c4e05bf260202496c7243",
        "IPY_MODEL_ea6d85d880284cf8acb4b35756806b71",
        "IPY_MODEL_d7b846fa393c47e8b932a0fcaf9c69f7"
       ],
       "layout": "IPY_MODEL_cc780a6782e14e0580cb67359dee33c5"
      }
     },
     "51dd950be6fd491ebf7492ad69677dfd": {
      "model_module": "@jupyter-widgets/controls",
      "model_module_version": "1.5.0",
      "model_name": "DescriptionStyleModel",
      "state": {
       "description_width": ""
      }
     },
     "52d3f965149b4e768778a1ee7a93049a": {
      "model_module": "@jupyter-widgets/controls",
      "model_module_version": "1.5.0",
      "model_name": "DescriptionStyleModel",
      "state": {
       "description_width": ""
      }
     },
     "537e080b4b934840a81f58e5fa05c176": {
      "model_module": "@jupyter-widgets/base",
      "model_module_version": "1.2.0",
      "model_name": "LayoutModel",
      "state": {
       "justify_content": "center",
       "max_width": "250px",
       "min_width": "250px"
      }
     },
     "53a792ce07ed4a33bf09ae7939336453": {
      "model_module": "@jupyter-widgets/controls",
      "model_module_version": "1.5.0",
      "model_name": "HTMLModel",
      "state": {
       "layout": "IPY_MODEL_6dc3fec03aed43e5a2dcbc81ecd41684",
       "style": "IPY_MODEL_76d27134b4054f4e848b0440373fb2d6",
       "value": "<h5>0.0139</h5>"
      }
     },
     "53f5e95463c846be882f7293e3e58d02": {
      "model_module": "@jupyter-widgets/base",
      "model_module_version": "1.2.0",
      "model_name": "LayoutModel",
      "state": {}
     },
     "5530b04752044ac792faa0a9aa599216": {
      "model_module": "@jupyter-widgets/base",
      "model_module_version": "1.2.0",
      "model_name": "LayoutModel",
      "state": {
       "width": "190px"
      }
     },
     "559daa99bbe94cb999069631e3b2aee6": {
      "model_module": "@jupyter-widgets/controls",
      "model_module_version": "1.5.0",
      "model_name": "DescriptionStyleModel",
      "state": {
       "description_width": ""
      }
     },
     "562b6347398a45bfbb4d568353080029": {
      "model_module": "@jupyter-widgets/controls",
      "model_module_version": "1.5.0",
      "model_name": "HTMLModel",
      "state": {
       "layout": "IPY_MODEL_b00869ff2e5f4590858ac8a06830aed4",
       "style": "IPY_MODEL_480dbaf8ba5446d8be94fc051fb56ef7",
       "value": "<h5 style='color:#dc267f'>False</h5>"
      }
     },
     "5689a4386c44479bbdbcb1a95ed9f47b": {
      "model_module": "@jupyter-widgets/controls",
      "model_module_version": "1.5.0",
      "model_name": "DescriptionStyleModel",
      "state": {
       "description_width": ""
      }
     },
     "569ea9ec42654ecaab83a51d590161d2": {
      "model_module": "@jupyter-widgets/output",
      "model_module_version": "1.0.0",
      "model_name": "OutputModel",
      "state": {
       "layout": "IPY_MODEL_fb2ee7e908c64523972c3f3e491c409e",
       "outputs": [
        {
         "data": {
          "image/png": "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\n",
          "text/plain": "<Figure size 360x360 with 1 Axes>"
         },
         "metadata": {},
         "output_type": "display_data"
        }
       ]
      }
     },
     "56cffd8d6d734d288c6d23b909b5b12b": {
      "model_module": "@jupyter-widgets/base",
      "model_module_version": "1.2.0",
      "model_name": "LayoutModel",
      "state": {
       "width": "95px"
      }
     },
     "57b234c5242c41d7a6ecedd852ba43f6": {
      "model_module": "@jupyter-widgets/base",
      "model_module_version": "1.2.0",
      "model_name": "LayoutModel",
      "state": {
       "justify_content": "center"
      }
     },
     "57df1b2fe5624ad0bde3a2e6d054be44": {
      "model_module": "@jupyter-widgets/base",
      "model_module_version": "1.2.0",
      "model_name": "LayoutModel",
      "state": {
       "justify_content": "center"
      }
     },
     "58bc413f45d04919af3da73893cd2ca6": {
      "model_module": "@jupyter-widgets/controls",
      "model_module_version": "1.5.0",
      "model_name": "LabelModel",
      "state": {
       "layout": "IPY_MODEL_1efb70221b4047de8059e25bdbc3ae99",
       "style": "IPY_MODEL_80f504fdf94c437b9c05227e61f5bc94",
       "value": "Quantum Vol."
      }
     },
     "58fd30cdea1a4940b04c298b17fba7d7": {
      "model_module": "@jupyter-widgets/controls",
      "model_module_version": "1.5.0",
      "model_name": "DescriptionStyleModel",
      "state": {
       "description_width": ""
      }
     },
     "5a77d0ca05cb423cb397406b37c63374": {
      "model_module": "@jupyter-widgets/base",
      "model_module_version": "1.2.0",
      "model_name": "LayoutModel",
      "state": {}
     },
     "5a953e2fa389459ba0ab38ce03d43ca8": {
      "model_module": "@jupyter-widgets/controls",
      "model_module_version": "1.5.0",
      "model_name": "HBoxModel",
      "state": {
       "children": [
        "IPY_MODEL_b5b086ae505a4e99bfbb9c82bfcb4b40",
        "IPY_MODEL_843a2a4335a346c4a76820342c6a52e5",
        "IPY_MODEL_ff8ab4b6926d44e2928a9411dbde024f"
       ],
       "layout": "IPY_MODEL_1e5d19da02e245839cdf744bc40486ac"
      }
     },
     "5b29fdfe579a4080872d17bd47f3b54b": {
      "model_module": "@jupyter-widgets/controls",
      "model_module_version": "1.5.0",
      "model_name": "HTMLModel",
      "state": {
       "layout": "IPY_MODEL_8cb4e1d8fa6c474ca351c69f8522e29d",
       "style": "IPY_MODEL_eab11fb3ada64e8a9388073403b3a8a2",
       "value": "<h5>32</h5>"
      }
     },
     "5b82943d557647df8d68c085e00fb03c": {
      "model_module": "@jupyter-widgets/controls",
      "model_module_version": "1.5.0",
      "model_name": "DescriptionStyleModel",
      "state": {
       "description_width": ""
      }
     },
     "5c3a1724f8e4439eb9750cf845337357": {
      "model_module": "@jupyter-widgets/controls",
      "model_module_version": "1.5.0",
      "model_name": "DescriptionStyleModel",
      "state": {
       "description_width": ""
      }
     },
     "5c85887a73aa4d6d970d52e091ac37d2": {
      "model_module": "@jupyter-widgets/base",
      "model_module_version": "1.2.0",
      "model_name": "LayoutModel",
      "state": {
       "justify_content": "center"
      }
     },
     "5d17da3b4a2c4f0da0f6c8516234ff79": {
      "model_module": "@jupyter-widgets/base",
      "model_module_version": "1.2.0",
      "model_name": "LayoutModel",
      "state": {}
     },
     "5d45df6dc5e641f48bb7838f13e7ca9a": {
      "model_module": "@jupyter-widgets/output",
      "model_module_version": "1.0.0",
      "model_name": "OutputModel",
      "state": {
       "layout": "IPY_MODEL_f69d8c62ae52483ead09ed4ec36e6c0f",
       "outputs": [
        {
         "data": {
          "image/png": "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\n",
          "text/plain": "<Figure size 360x360 with 1 Axes>"
         },
         "metadata": {},
         "output_type": "display_data"
        }
       ]
      }
     },
     "5d8968fc465948e5ba2d8039447f42b7": {
      "model_module": "@jupyter-widgets/controls",
      "model_module_version": "1.5.0",
      "model_name": "DescriptionStyleModel",
      "state": {
       "description_width": ""
      }
     },
     "5e70d40631ff4965ba2c4d8c803dd598": {
      "model_module": "@jupyter-widgets/controls",
      "model_module_version": "1.5.0",
      "model_name": "HTMLModel",
      "state": {
       "layout": "IPY_MODEL_a5345bd2cf4743748c2711b2df878ae6",
       "style": "IPY_MODEL_6c3912470c7b40ef98533024028f88c4",
       "value": "<h5>0.0085</h5>"
      }
     },
     "606040a77a8d474ba39bb4489ee08254": {
      "model_module": "@jupyter-widgets/controls",
      "model_module_version": "1.5.0",
      "model_name": "DescriptionStyleModel",
      "state": {
       "description_width": ""
      }
     },
     "60753e33f50342dcb714b2a72947cddc": {
      "model_module": "@jupyter-widgets/base",
      "model_module_version": "1.2.0",
      "model_name": "LayoutModel",
      "state": {}
     },
     "608712653b04473bbadedab4d5e770ba": {
      "model_module": "@jupyter-widgets/base",
      "model_module_version": "1.2.0",
      "model_name": "LayoutModel",
      "state": {
       "min_width": "auto"
      }
     },
     "60b7bc70f4ce40619b190438d0bc6b09": {
      "model_module": "@jupyter-widgets/controls",
      "model_module_version": "1.5.0",
      "model_name": "HTMLModel",
      "state": {
       "layout": "IPY_MODEL_f39b94ae7c1143fcbcabc2121d721aa5",
       "style": "IPY_MODEL_f2d0c80e784849d685e55db1928b8941",
       "value": "-"
      }
     },
     "611f928753d74f7398901f5286f11ae1": {
      "model_module": "@jupyter-widgets/controls",
      "model_module_version": "1.5.0",
      "model_name": "HTMLModel",
      "state": {
       "layout": "IPY_MODEL_32ba5a893eae4c3899a5332e00b6d786",
       "style": "IPY_MODEL_960eded36e574f15a3c8999672e6fcaa",
       "value": "<h5 style='color:#34bc6e'>True</h5>"
      }
     },
     "61713d138a0643f59c1f05ffb3884533": {
      "model_module": "@jupyter-widgets/base",
      "model_module_version": "1.2.0",
      "model_name": "LayoutModel",
      "state": {
       "justify_content": "center"
      }
     },
     "6199005b01c9414aa5735f482d3030c0": {
      "model_module": "@jupyter-widgets/base",
      "model_module_version": "1.2.0",
      "model_name": "LayoutModel",
      "state": {
       "min_width": "auto"
      }
     },
     "620dbde4e00e4abdbe2031f8df91ac13": {
      "model_module": "@jupyter-widgets/base",
      "model_module_version": "1.2.0",
      "model_name": "LayoutModel",
      "state": {
       "overflow_y": "scroll"
      }
     },
     "62cc52b67ec74057a901e69b907f5c10": {
      "model_module": "@jupyter-widgets/controls",
      "model_module_version": "1.5.0",
      "model_name": "LabelModel",
      "state": {
       "layout": "IPY_MODEL_608712653b04473bbadedab4d5e770ba",
       "style": "IPY_MODEL_8507771eff8641bb94b8db175ec5e9fb",
       "value": "185"
      }
     },
     "6301e1bed7284434a2ad55fb8fd0f791": {
      "model_module": "@jupyter-widgets/base",
      "model_module_version": "1.2.0",
      "model_name": "LayoutModel",
      "state": {
       "align_items": "center",
       "display": "inline-flex",
       "flex_flow": "column"
      }
     },
     "631c9f1389f04ae8bf681cd77b6105ce": {
      "model_module": "@jupyter-widgets/base",
      "model_module_version": "1.2.0",
      "model_name": "LayoutModel",
      "state": {
       "justify_content": "center"
      }
     },
     "632e3c00b6a64571ac0aac7ce060c367": {
      "model_module": "@jupyter-widgets/controls",
      "model_module_version": "1.5.0",
      "model_name": "DescriptionStyleModel",
      "state": {
       "description_width": ""
      }
     },
     "63c265ad600b4a15b9fe7a6f437563c4": {
      "model_module": "@jupyter-widgets/base",
      "model_module_version": "1.2.0",
      "model_name": "LayoutModel",
      "state": {
       "grid_gap": "0px 0px",
       "grid_template_areas": "\n                               \"left right right right\"\n                               \"bottom bottom bottom bottom\"\n                               ",
       "grid_template_columns": "31% 23% 23% 23%",
       "grid_template_rows": "auto auto"
      }
     },
     "644363ef3ff14f8695860bcabfc5c2a5": {
      "model_module": "@jupyter-widgets/controls",
      "model_module_version": "1.5.0",
      "model_name": "DescriptionStyleModel",
      "state": {
       "description_width": ""
      }
     },
     "646caada531044b28779094f64cc2245": {
      "model_module": "@jupyter-widgets/base",
      "model_module_version": "1.2.0",
      "model_name": "LayoutModel",
      "state": {
       "max_width": "180px"
      }
     },
     "64e73faa45e54f18a976c2c2160d4713": {
      "model_module": "@jupyter-widgets/base",
      "model_module_version": "1.2.0",
      "model_name": "LayoutModel",
      "state": {
       "align_items": "center",
       "display": "inline-flex",
       "flex_flow": "column"
      }
     },
     "654611d5733b449f8a33985821617480": {
      "model_module": "@jupyter-widgets/controls",
      "model_module_version": "1.5.0",
      "model_name": "ProgressStyleModel",
      "state": {
       "bar_color": "#71cddd",
       "description_width": ""
      }
     },
     "65f4c983195f469faa80068294d41da6": {
      "model_module": "@jupyter-widgets/base",
      "model_module_version": "1.2.0",
      "model_name": "LayoutModel",
      "state": {}
     },
     "660a40e57fdb4bb68347bce02ba93b04": {
      "model_module": "@jupyter-widgets/base",
      "model_module_version": "1.2.0",
      "model_name": "LayoutModel",
      "state": {
       "justify_content": "center"
      }
     },
     "66e6b96a6914422bb730fdbb3be0c9e3": {
      "model_module": "@jupyter-widgets/controls",
      "model_module_version": "1.5.0",
      "model_name": "DescriptionStyleModel",
      "state": {
       "description_width": ""
      }
     },
     "66f575875b3c480c9ba1194d137d73a3": {
      "model_module": "@jupyter-widgets/controls",
      "model_module_version": "1.5.0",
      "model_name": "ButtonModel",
      "state": {
       "icon": "close",
       "layout": "IPY_MODEL_b4f8c2da6f1341c7842feb3df668560e",
       "style": "IPY_MODEL_208ebbaf332f49539ed9d9b8447e96d1"
      }
     },
     "670d21ec09c147148a4f119f367d1084": {
      "model_module": "@jupyter-widgets/controls",
      "model_module_version": "1.5.0",
      "model_name": "VBoxModel",
      "state": {
       "children": [
        "IPY_MODEL_c24f0e1f7b3b4f57a10edda6139b1899",
        "IPY_MODEL_b6d2dce33c4f495fb7f21ffccfde3432"
       ],
       "layout": "IPY_MODEL_cb185cb305154f2482b70c58c5ce1f49"
      }
     },
     "671191ca34c74f7182775978b59e24ea": {
      "model_module": "@jupyter-widgets/controls",
      "model_module_version": "1.5.0",
      "model_name": "HTMLModel",
      "state": {
       "layout": "IPY_MODEL_e417fb5bf2e64e878ab94697a2ee9065",
       "style": "IPY_MODEL_775c662ee2dc47b496b5fd3725e6f708",
       "value": "<h5><b>5</b></h5>"
      }
     },
     "67682c61d75840e197d8792d4733d338": {
      "model_module": "@jupyter-widgets/controls",
      "model_module_version": "1.5.0",
      "model_name": "DescriptionStyleModel",
      "state": {
       "description_width": ""
      }
     },
     "67de68a6b7824ddf96652b5db19db430": {
      "model_module": "@jupyter-widgets/base",
      "model_module_version": "1.2.0",
      "model_name": "LayoutModel",
      "state": {
       "margin": "5px 0px 0px 0px"
      }
     },
     "68ac36d4820e4019835961b965c06128": {
      "model_module": "@jupyter-widgets/controls",
      "model_module_version": "1.5.0",
      "model_name": "HTMLModel",
      "state": {
       "layout": "IPY_MODEL_ba0cc3a0485d492a9f7c9f9c81d07506",
       "style": "IPY_MODEL_b9f27b2478b94643bea40d6a794c8437",
       "value": "<h4>ibmq_santiago</h4>"
      }
     },
     "69358906706c4739a602866fdd58823a": {
      "model_module": "@jupyter-widgets/controls",
      "model_module_version": "1.5.0",
      "model_name": "ProgressStyleModel",
      "state": {
       "bar_color": "#71cddd",
       "description_width": ""
      }
     },
     "69641081444a46308685d0145d59fcf6": {
      "model_module": "@jupyter-widgets/controls",
      "model_module_version": "1.5.0",
      "model_name": "DescriptionStyleModel",
      "state": {
       "description_width": ""
      }
     },
     "6988b4aeb94940e8af3d14ebf086d932": {
      "model_module": "@jupyter-widgets/controls",
      "model_module_version": "1.5.0",
      "model_name": "HBoxModel",
      "state": {
       "children": [
        "IPY_MODEL_eea67c3a04ad46d490c7670238126b7a",
        "IPY_MODEL_27f3dc7bb2e942e996424d13d1261fc2",
        "IPY_MODEL_e83d63ca2fa84040b285e4a00c7bf42e",
        "IPY_MODEL_4824b9ec525c406b91669b82dc75323b",
        "IPY_MODEL_300439fbe0e34794a65831a79e80521d"
       ],
       "layout": "IPY_MODEL_8b64f6309ff446cbb28002a058a88226"
      }
     },
     "6af6658e8c424bab9cd9945a303fbe11": {
      "model_module": "@jupyter-widgets/base",
      "model_module_version": "1.2.0",
      "model_name": "LayoutModel",
      "state": {}
     },
     "6bdc5fa7de7245c9a57bd67a9608e7d4": {
      "model_module": "@jupyter-widgets/base",
      "model_module_version": "1.2.0",
      "model_name": "LayoutModel",
      "state": {
       "align_items": "center",
       "display": "flex-inline"
      }
     },
     "6be6127c34cb4dbea48b68c6f3ea1f59": {
      "model_module": "@jupyter-widgets/controls",
      "model_module_version": "1.5.0",
      "model_name": "DescriptionStyleModel",
      "state": {
       "description_width": ""
      }
     },
     "6c3912470c7b40ef98533024028f88c4": {
      "model_module": "@jupyter-widgets/controls",
      "model_module_version": "1.5.0",
      "model_name": "DescriptionStyleModel",
      "state": {
       "description_width": ""
      }
     },
     "6d60cb50c6fb4a8bb961754f68a5dfbf": {
      "model_module": "@jupyter-widgets/base",
      "model_module_version": "1.2.0",
      "model_name": "LayoutModel",
      "state": {
       "grid_gap": "0px 25px",
       "grid_template_columns": "250px 250px 250px 250px 250px 250px 250px ",
       "grid_template_rows": "auto"
      }
     },
     "6dc3fec03aed43e5a2dcbc81ecd41684": {
      "model_module": "@jupyter-widgets/base",
      "model_module_version": "1.2.0",
      "model_name": "LayoutModel",
      "state": {}
     },
     "6df2727ef6824f938489611eb822ed80": {
      "model_module": "@jupyter-widgets/base",
      "model_module_version": "1.2.0",
      "model_name": "LayoutModel",
      "state": {
       "justify_content": "center"
      }
     },
     "6e0552a7d4cc46d19ec6c5fe1b0ad938": {
      "model_module": "@jupyter-widgets/controls",
      "model_module_version": "1.5.0",
      "model_name": "HTMLModel",
      "state": {
       "layout": "IPY_MODEL_6af6658e8c424bab9cd9945a303fbe11",
       "style": "IPY_MODEL_5c3a1724f8e4439eb9750cf845337357",
       "value": "<h5>0.0099</h5>"
      }
     },
     "6efd35c3ae1b4af0bb6494d776afe4bf": {
      "model_module": "@jupyter-widgets/base",
      "model_module_version": "1.2.0",
      "model_name": "LayoutModel",
      "state": {
       "grid_gap": "0px 0px",
       "grid_template_areas": "\n                               \"left right right right\"\n                               \"bottom bottom bottom bottom\"\n                               ",
       "grid_template_columns": "31% 23% 23% 23%",
       "grid_template_rows": "auto auto"
      }
     },
     "6f54d79569e3406db8841218b42bf1d9": {
      "model_module": "@jupyter-widgets/base",
      "model_module_version": "1.2.0",
      "model_name": "LayoutModel",
      "state": {
       "grid_area": "left"
      }
     },
     "6f702abb6b7d495c99b325bed4c048ec": {
      "model_module": "@jupyter-widgets/controls",
      "model_module_version": "1.5.0",
      "model_name": "IntProgressModel",
      "state": {
       "layout": "IPY_MODEL_75188699b8e54bea8d2cc8076dd74247",
       "max": 50,
       "style": "IPY_MODEL_69358906706c4739a602866fdd58823a"
      }
     },
     "6fbdbbedc12c47a39ce3747b480c3e48": {
      "model_module": "@jupyter-widgets/base",
      "model_module_version": "1.2.0",
      "model_name": "LayoutModel",
      "state": {}
     },
     "70e6aaa4d961415cab060349c3b2ec63": {
      "model_module": "@jupyter-widgets/base",
      "model_module_version": "1.2.0",
      "model_name": "LayoutModel",
      "state": {
       "align_items": "center",
       "display": "flex-inline"
      }
     },
     "70e8a078f3d64354896427c2fc0d603d": {
      "model_module": "@jupyter-widgets/controls",
      "model_module_version": "1.5.0",
      "model_name": "GridBoxModel",
      "state": {
       "children": [
        "IPY_MODEL_db5044d0096b41ee8550b8d962dd6012",
        "IPY_MODEL_89530b43ec6d4638b5a2a55dbafe1d57",
        "IPY_MODEL_a4b8ac165e0d41019f51456c72ac7acf"
       ],
       "layout": "IPY_MODEL_63c265ad600b4a15b9fe7a6f437563c4"
      }
     },
     "70f7612ef1a544acb8cf3af5ff0964a1": {
      "model_module": "@jupyter-widgets/base",
      "model_module_version": "1.2.0",
      "model_name": "LayoutModel",
      "state": {
       "justify_content": "center"
      }
     },
     "719d96a03687429c94a77c5ab3122645": {
      "model_module": "@jupyter-widgets/controls",
      "model_module_version": "1.5.0",
      "model_name": "HTMLMathModel",
      "state": {
       "layout": "IPY_MODEL_1e1f15756c6640099a49d2b1f1fbab05",
       "style": "IPY_MODEL_644363ef3ff14f8695860bcabfc5c2a5",
       "value": "<table><style>\ntable {\n    border-collapse: collapse;\n    width: auto;\n}\n\nth, td {\n    text-align: left;\n    padding: 8px;\n}\n\ntr:nth-child(even) {background-color: #f6f6f6;}\n</style><tr><th>Property</th><th>Value</th></tr><tr><td><font style='font-weight:bold'>n_qubits</font></td><td>5</td></tr><tr><td><font style='font-weight:bold'>quantum_volume</font></td><td>8</td></tr><tr><td><font style='font-weight:bold'>operational</font></td><td>True</td></tr><tr><td><font style='font-weight:bold'>status_msg</font></td><td>active</td></tr><tr><td><font style='font-weight:bold'>pending_jobs</font></td><td>69</td></tr><tr><td><font style='font-weight:bold'>backend_version</font></td><td>1.0.29</td></tr><tr><td><font style='font-weight:bold'>basis_gates</font></td><td>['id', 'rz', 'sx', 'x', 'cx', 'reset']</td></tr><tr><td><font style='font-weight:bold'>max_shots</font></td><td>20000</td></tr><tr><td><font style='font-weight:bold'>max_experiments</font></td><td>100</td></tr></table>"
      }
     },
     "729d1fa18f41490faca75edcf40c7c1d": {
      "model_module": "@jupyter-widgets/controls",
      "model_module_version": "1.5.0",
      "model_name": "HTMLModel",
      "state": {
       "layout": "IPY_MODEL_43b02e48be67460186b4e3eb1f7958a0",
       "style": "IPY_MODEL_faabb9b84d2745bba84fd64fe3bac21b",
       "value": "<h5>0.0108</h5>"
      }
     },
     "72c25e6ab89a45bea746ff56e1fed035": {
      "model_module": "@jupyter-widgets/base",
      "model_module_version": "1.2.0",
      "model_name": "LayoutModel",
      "state": {
       "justify_content": "center"
      }
     },
     "72cbdb5a45eb46c397f7163a884ed833": {
      "model_module": "@jupyter-widgets/controls",
      "model_module_version": "1.5.0",
      "model_name": "DescriptionStyleModel",
      "state": {
       "description_width": ""
      }
     },
     "73559dc34ef948b0aee78b1788a65d01": {
      "model_module": "@jupyter-widgets/base",
      "model_module_version": "1.2.0",
      "model_name": "LayoutModel",
      "state": {
       "max_height": "620px"
      }
     },
     "75188699b8e54bea8d2cc8076dd74247": {
      "model_module": "@jupyter-widgets/base",
      "model_module_version": "1.2.0",
      "model_name": "LayoutModel",
      "state": {
       "max_width": "180px"
      }
     },
     "7539679926e0400ebfa08a615ca90fcd": {
      "model_module": "@jupyter-widgets/base",
      "model_module_version": "1.2.0",
      "model_name": "LayoutModel",
      "state": {
       "grid_area": "left",
       "width": "100%"
      }
     },
     "754d9e2969854c3fbecad0dd84510193": {
      "model_module": "@jupyter-widgets/base",
      "model_module_version": "1.2.0",
      "model_name": "LayoutModel",
      "state": {
       "align_items": "center",
       "display": "inline-flex",
       "flex_flow": "column"
      }
     },
     "764f4d2a20d1410bade350a384c1cf71": {
      "model_module": "@jupyter-widgets/base",
      "model_module_version": "1.2.0",
      "model_name": "LayoutModel",
      "state": {
       "justify_content": "center"
      }
     },
     "766ced95006543ea84adca3f047a1575": {
      "model_module": "@jupyter-widgets/controls",
      "model_module_version": "1.5.0",
      "model_name": "GridBoxModel",
      "state": {
       "children": [
        "IPY_MODEL_719d96a03687429c94a77c5ab3122645",
        "IPY_MODEL_bd5079afdf88444c8245360b3e401ddf",
        "IPY_MODEL_25247f2cf6794aa6a1a6738a593850a2"
       ],
       "layout": "IPY_MODEL_6efd35c3ae1b4af0bb6494d776afe4bf"
      }
     },
     "76d27134b4054f4e848b0440373fb2d6": {
      "model_module": "@jupyter-widgets/controls",
      "model_module_version": "1.5.0",
      "model_name": "DescriptionStyleModel",
      "state": {
       "description_width": ""
      }
     },
     "773d2e4aa8754076a7b0e9638f95423f": {
      "model_module": "@jupyter-widgets/base",
      "model_module_version": "1.2.0",
      "model_name": "LayoutModel",
      "state": {
       "min_width": "auto"
      }
     },
     "775c662ee2dc47b496b5fd3725e6f708": {
      "model_module": "@jupyter-widgets/controls",
      "model_module_version": "1.5.0",
      "model_name": "DescriptionStyleModel",
      "state": {
       "description_width": ""
      }
     },
     "79095be0cd354090b8df86245cc7193c": {
      "model_module": "@jupyter-widgets/base",
      "model_module_version": "1.2.0",
      "model_name": "LayoutModel",
      "state": {
       "justify_content": "center",
       "max_width": "250px",
       "min_width": "250px"
      }
     },
     "792ab8721f09484dbf76989bb49eb7c1": {
      "model_module": "@jupyter-widgets/base",
      "model_module_version": "1.2.0",
      "model_name": "LayoutModel",
      "state": {
       "grid_area": "right"
      }
     },
     "79c45b49edfa42958ef01bb5d25de585": {
      "model_module": "@jupyter-widgets/controls",
      "model_module_version": "1.5.0",
      "model_name": "DescriptionStyleModel",
      "state": {
       "description_width": ""
      }
     },
     "7ace8474d1c44c62825c186bdc39c4c8": {
      "model_module": "@jupyter-widgets/base",
      "model_module_version": "1.2.0",
      "model_name": "LayoutModel",
      "state": {
       "grid_area": "left"
      }
     },
     "7bba5c85f1064874b7f5a1b0492de7f1": {
      "model_module": "@jupyter-widgets/controls",
      "model_module_version": "1.5.0",
      "model_name": "DescriptionStyleModel",
      "state": {
       "description_width": ""
      }
     },
     "7bd09b39f1274c3c931b7a86a28cfc03": {
      "model_module": "@jupyter-widgets/controls",
      "model_module_version": "1.5.0",
      "model_name": "DescriptionStyleModel",
      "state": {
       "description_width": ""
      }
     },
     "7d327f672e7642c59e34d514a4389f43": {
      "model_module": "@jupyter-widgets/controls",
      "model_module_version": "1.5.0",
      "model_name": "HTMLModel",
      "state": {
       "layout": "IPY_MODEL_9b43f774a48f404fa5c4ae5c4c267f8d",
       "style": "IPY_MODEL_8e6b584ca5c64cfdbf4bf655743e6083",
       "value": "<h5 style='color:#dc267f'>False</h5>"
      }
     },
     "7d5be02aaf82482f96b005641815736d": {
      "model_module": "@jupyter-widgets/controls",
      "model_module_version": "1.5.0",
      "model_name": "HTMLModel",
      "state": {
       "layout": "IPY_MODEL_6f54d79569e3406db8841218b42bf1d9",
       "style": "IPY_MODEL_831e20c35524418782b2f5d9d354893d",
       "value": "<table><style>\ntable {\n    border-collapse: collapse;\n    width: auto;\n}\n\nth, td {\n    text-align: left;\n    padding: 8px;\n}\n\ntr:nth-child(even) {background-color: #f6f6f6;};\n</style><tr><th></th><th>Type</th><th>Gate error</th></tr><tr><td><font style='font-weight:bold'>cx4_3</font></td><td>cx</td><td>0.01765</td></tr><tr><td><font style='font-weight:bold'>cx3_4</font></td><td>cx</td><td>0.01765</td></tr><tr><td><font style='font-weight:bold'>cx0_1</font></td><td>cx</td><td>0.00653</td></tr></table>"
      }
     },
     "7dfa088ca00f49a797916a5294e6b5a6": {
      "model_module": "@jupyter-widgets/controls",
      "model_module_version": "1.5.0",
      "model_name": "DescriptionStyleModel",
      "state": {
       "description_width": ""
      }
     },
     "7f307333d31e4700b17c32d6263675b8": {
      "model_module": "@jupyter-widgets/controls",
      "model_module_version": "1.5.0",
      "model_name": "HTMLModel",
      "state": {
       "layout": "IPY_MODEL_56cffd8d6d734d288c6d23b909b5b12b",
       "style": "IPY_MODEL_8d223d39836e47748290466c01d37d43",
       "value": "<font style='color:#DC267F'>ERROR</font>"
      }
     },
     "7f6a659240c041128aca48f5085ec14b": {
      "model_module": "@jupyter-widgets/controls",
      "model_module_version": "1.5.0",
      "model_name": "DescriptionStyleModel",
      "state": {
       "description_width": ""
      }
     },
     "7f800ed3321a4418aae729d66d1bd74f": {
      "model_module": "@jupyter-widgets/output",
      "model_module_version": "1.0.0",
      "model_name": "OutputModel",
      "state": {
       "layout": "IPY_MODEL_70e6aaa4d961415cab060349c3b2ec63",
       "outputs": [
        {
         "data": {
          "image/png": "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\n",
          "text/plain": "<Figure size 792x648 with 5 Axes>"
         },
         "metadata": {},
         "output_type": "display_data"
        }
       ]
      }
     },
     "7fd099127427422e95429e42e3d08811": {
      "model_module": "@jupyter-widgets/base",
      "model_module_version": "1.2.0",
      "model_name": "LayoutModel",
      "state": {
       "grid_area": "top"
      }
     },
     "7feef77b88d0491e81e2587005527b8c": {
      "model_module": "@jupyter-widgets/controls",
      "model_module_version": "1.5.0",
      "model_name": "LabelModel",
      "state": {
       "layout": "IPY_MODEL_9f559aefe3c24f56938bdfe5f69f9283",
       "style": "IPY_MODEL_d5d778532b314a81a1b7b63e9f2b7281",
       "value": "50"
      }
     },
     "80ccb097098043ad9c160fca26f48c27": {
      "model_module": "@jupyter-widgets/controls",
      "model_module_version": "1.5.0",
      "model_name": "VBoxModel",
      "state": {
       "children": [
        "IPY_MODEL_bca74ceb22d34ebb903adfe7283e6b6a",
        "IPY_MODEL_6988b4aeb94940e8af3d14ebf086d932",
        "IPY_MODEL_fe0e7315ebd549909f6e966bb484a292"
       ],
       "layout": "IPY_MODEL_e03b6fafb0aa430ebacb6f66c1046706"
      }
     },
     "80e27dff8e8044ec9aac534450e83cd5": {
      "model_module": "@jupyter-widgets/controls",
      "model_module_version": "1.5.0",
      "model_name": "VBoxModel",
      "state": {
       "children": [
        "IPY_MODEL_68ac36d4820e4019835961b965c06128",
        "IPY_MODEL_569ea9ec42654ecaab83a51d590161d2",
        "IPY_MODEL_9ed681d30e4d415c94da82c6224f5789",
        "IPY_MODEL_41cea63d6fab48f18c0872db6c97d690",
        "IPY_MODEL_dc1794d14d354cfab384f5c9551c5b23",
        "IPY_MODEL_42c8e941c34d4cdd8b4fb1e1e95f5163",
        "IPY_MODEL_1b5333437c48435e8ea344ef16c5aeda",
        "IPY_MODEL_9261e6b46cd44a12bb935ea281f46698",
        "IPY_MODEL_f9a19c08a1a348cea291b3c1ff9ecb03",
        "IPY_MODEL_39655b87a93f493d859f2d4abd174322"
       ],
       "layout": "IPY_MODEL_1a71b1272c6446a38d4a25b70c356941"
      }
     },
     "80f504fdf94c437b9c05227e61f5bc94": {
      "model_module": "@jupyter-widgets/controls",
      "model_module_version": "1.5.0",
      "model_name": "DescriptionStyleModel",
      "state": {
       "description_width": ""
      }
     },
     "8136546924634303a842530cce5c0ec8": {
      "model_module": "@jupyter-widgets/controls",
      "model_module_version": "1.5.0",
      "model_name": "DescriptionStyleModel",
      "state": {
       "description_width": ""
      }
     },
     "8156ab60df9c460293a039a105050b02": {
      "model_module": "@jupyter-widgets/controls",
      "model_module_version": "1.5.0",
      "model_name": "HTMLModel",
      "state": {
       "layout": "IPY_MODEL_b318e7332057476b8f183f1c5cf4e0cf",
       "style": "IPY_MODEL_f5d0681281f54929826d110c4b7d112d",
       "value": "<h4>ibmq_manila</h4>"
      }
     },
     "817dd62be70a4f92982d0da96259a794": {
      "model_module": "@jupyter-widgets/controls",
      "model_module_version": "1.5.0",
      "model_name": "HTMLModel",
      "state": {
       "layout": "IPY_MODEL_891dcd0d8ba8436ea51f6fd2a07aae8a",
       "style": "IPY_MODEL_e0a83977ab0b40719e96ea7140ab581a",
       "value": "<h5>0.0346</h5>"
      }
     },
     "8223557f6c29410982386fbcb07c4e75": {
      "model_module": "@jupyter-widgets/controls",
      "model_module_version": "1.5.0",
      "model_name": "DescriptionStyleModel",
      "state": {
       "description_width": ""
      }
     },
     "8226714e70234c2b9c6a5a4c00c128bf": {
      "model_module": "@jupyter-widgets/controls",
      "model_module_version": "1.5.0",
      "model_name": "HTMLModel",
      "state": {
       "layout": "IPY_MODEL_20b90bd47ea74a2f9e79c00d82a99bfe",
       "style": "IPY_MODEL_a2157b661c0a4710943793d9f7a49abf",
       "value": "<h5 style='color:#dc267f'>False</h5>"
      }
     },
     "823435b39ad644a1a26dcf5d6e69bdbc": {
      "model_module": "@jupyter-widgets/base",
      "model_module_version": "1.2.0",
      "model_name": "LayoutModel",
      "state": {}
     },
     "823ce2b865cc4a3d8fefa53e8dd9cfc6": {
      "model_module": "@jupyter-widgets/base",
      "model_module_version": "1.2.0",
      "model_name": "LayoutModel",
      "state": {}
     },
     "82855ca92dab4a2eb6bc2c469758da1d": {
      "model_module": "@jupyter-widgets/base",
      "model_module_version": "1.2.0",
      "model_name": "LayoutModel",
      "state": {}
     },
     "82ffe9f75f9e4e35b223940c6bb0f7c9": {
      "model_module": "@jupyter-widgets/controls",
      "model_module_version": "1.5.0",
      "model_name": "HTMLModel",
      "state": {
       "layout": "IPY_MODEL_d5528d973080459aa46e652ffe4beaad",
       "style": "IPY_MODEL_9415b74bc3424cd2a45b65406ffbdd08",
       "value": "<h5>0.0236</h5>"
      }
     },
     "83032b98d2e04a0eab5a4e26c188ff7b": {
      "model_module": "@jupyter-widgets/controls",
      "model_module_version": "1.5.0",
      "model_name": "HTMLModel",
      "state": {
       "layout": "IPY_MODEL_33a3a5e3bd4e43e78d09d2424153fd84",
       "style": "IPY_MODEL_0967b9a9566a498386f05f4d478f7081",
       "value": "<table><style>\ntable {\n    border-collapse: collapse;\n    width: auto;\n}\n\nth, td {\n    text-align: left;\n    padding: 8px;\n}\n\ntr:nth-child(even) {background-color: #f6f6f6;};\n</style><tr><th></th><th>Type</th><th>Gate error</th></tr><tr><td><font style='font-weight:bold'>cx2_1</font></td><td>cx</td><td>1</td></tr><tr><td><font style='font-weight:bold'>cx1_2</font></td><td>cx</td><td>1</td></tr></table>"
      }
     },
     "831e20c35524418782b2f5d9d354893d": {
      "model_module": "@jupyter-widgets/controls",
      "model_module_version": "1.5.0",
      "model_name": "DescriptionStyleModel",
      "state": {
       "description_width": ""
      }
     },
     "8337dfbffa4046a19b309d8730c1afcc": {
      "model_module": "@jupyter-widgets/base",
      "model_module_version": "1.2.0",
      "model_name": "LayoutModel",
      "state": {
       "overflow_y": "scroll"
      }
     },
     "833a734e5cca46aba183db8ebe51a42d": {
      "model_module": "@jupyter-widgets/controls",
      "model_module_version": "1.5.0",
      "model_name": "ProgressStyleModel",
      "state": {
       "bar_color": "#71cddd",
       "description_width": ""
      }
     },
     "8374c4ee585b40d3b0cd59823f126bf5": {
      "model_module": "@jupyter-widgets/controls",
      "model_module_version": "1.5.0",
      "model_name": "DescriptionStyleModel",
      "state": {
       "description_width": ""
      }
     },
     "83da3bbf35e54afdb723dc92a6ed449e": {
      "model_module": "@jupyter-widgets/base",
      "model_module_version": "1.2.0",
      "model_name": "LayoutModel",
      "state": {
       "max_width": "180px"
      }
     },
     "843a2a4335a346c4a76820342c6a52e5": {
      "model_module": "@jupyter-widgets/controls",
      "model_module_version": "1.5.0",
      "model_name": "IntProgressModel",
      "state": {
       "layout": "IPY_MODEL_2eef3f223de6464cb3bbe18a6ad9d7ab",
       "max": 104,
       "style": "IPY_MODEL_29b91257a2074ea097734aa09eccd258",
       "value": 94
      }
     },
     "8507771eff8641bb94b8db175ec5e9fb": {
      "model_module": "@jupyter-widgets/controls",
      "model_module_version": "1.5.0",
      "model_name": "DescriptionStyleModel",
      "state": {
       "description_width": ""
      }
     },
     "8517010edd2043c2905a9021a9eadf2c": {
      "model_module": "@jupyter-widgets/controls",
      "model_module_version": "1.5.0",
      "model_name": "DescriptionStyleModel",
      "state": {
       "description_width": ""
      }
     },
     "8545eca14dc44370bd99d9c9bc402a6c": {
      "model_module": "@jupyter-widgets/controls",
      "model_module_version": "1.5.0",
      "model_name": "HTMLModel",
      "state": {
       "layout": "IPY_MODEL_9e5b1da1229744b3866280d6bf6710a3",
       "style": "IPY_MODEL_ce11aeb874f74b4b8fff0b652255a544",
       "value": "<h2 style ='color:#ffffff; background-color:#000000;padding-top: 1%; padding-bottom: 1%;padding-left: 1%;margin-top: 0px'>Backend Overview</h2>"
      }
     },
     "855a05112a064a8282bf82eac52e8724": {
      "model_module": "@jupyter-widgets/controls",
      "model_module_version": "1.5.0",
      "model_name": "HTMLModel",
      "state": {
       "layout": "IPY_MODEL_276eb706d255419282fbe20e0335249d",
       "style": "IPY_MODEL_014a706cc33d4a739597102e7a76cc0a",
       "value": "<table><style>\ntable {\n    border-collapse: collapse;\n    width: auto;\n}\n\nth, td {\n    text-align: left;\n    padding: 8px;\n}\n\ntr:nth-child(even) {background-color: #f6f6f6;};\n</style><tr><th></th><th>Type</th><th>Gate error</th></tr><tr><td><font style='font-weight:bold'>cx1_0</font></td><td>cx</td><td>0.00653</td></tr><tr><td><font style='font-weight:bold'>cx3_1</font></td><td>cx</td><td>0.01345</td></tr><tr><td><font style='font-weight:bold'>cx1_3</font></td><td>cx</td><td>0.01345</td></tr></table>"
      }
     },
     "856cc82af1114c62b91b642a654e760f": {
      "model_module": "@jupyter-widgets/controls",
      "model_module_version": "1.5.0",
      "model_name": "DescriptionStyleModel",
      "state": {
       "description_width": ""
      }
     },
     "85b19fca9012425a80725b072437173c": {
      "model_module": "@jupyter-widgets/controls",
      "model_module_version": "1.5.0",
      "model_name": "HTMLModel",
      "state": {
       "layout": "IPY_MODEL_4f55b4f147d74c66a7d6d14d1b016079",
       "style": "IPY_MODEL_856cc82af1114c62b91b642a654e760f",
       "value": "<h4>ibmq_lima</h4>"
      }
     },
     "862a294eff5745cda1fc93612bcdff5d": {
      "model_module": "@jupyter-widgets/base",
      "model_module_version": "1.2.0",
      "model_name": "LayoutModel",
      "state": {}
     },
     "86c4d200531b4203b0e6fc15dc643cec": {
      "model_module": "@jupyter-widgets/base",
      "model_module_version": "1.2.0",
      "model_name": "LayoutModel",
      "state": {
       "max_height": "620px"
      }
     },
     "87be6d7f2e3a449fb2d9eee9cffe10c7": {
      "model_module": "@jupyter-widgets/controls",
      "model_module_version": "1.5.0",
      "model_name": "LabelModel",
      "state": {
       "layout": "IPY_MODEL_b9de415adf90443cbd71c1643a620153",
       "style": "IPY_MODEL_463478a619af44e3b82c993001046c63",
       "value": "198"
      }
     },
     "88b69019bbd34f959219d8fd4051a21c": {
      "model_module": "@jupyter-widgets/controls",
      "model_module_version": "1.5.0",
      "model_name": "DescriptionStyleModel",
      "state": {
       "description_width": ""
      }
     },
     "88c4c3ae622f488db771d7d3e525970d": {
      "model_module": "@jupyter-widgets/controls",
      "model_module_version": "1.5.0",
      "model_name": "DescriptionStyleModel",
      "state": {
       "description_width": ""
      }
     },
     "88f00e1a992c434083b834372ea2309c": {
      "model_module": "@jupyter-widgets/controls",
      "model_module_version": "1.5.0",
      "model_name": "HTMLModel",
      "state": {
       "layout": "IPY_MODEL_ba75eb2b9d98425a940b33eebc7775aa",
       "style": "IPY_MODEL_7dfa088ca00f49a797916a5294e6b5a6",
       "value": "<h5>212.7 / 180.8 us</h5>"
      }
     },
     "891dcd0d8ba8436ea51f6fd2a07aae8a": {
      "model_module": "@jupyter-widgets/base",
      "model_module_version": "1.2.0",
      "model_name": "LayoutModel",
      "state": {}
     },
     "891e368957b84add8bdc92902215e84d": {
      "model_module": "@jupyter-widgets/controls",
      "model_module_version": "1.5.0",
      "model_name": "DescriptionStyleModel",
      "state": {
       "description_width": ""
      }
     },
     "89530b43ec6d4638b5a2a55dbafe1d57": {
      "model_module": "@jupyter-widgets/output",
      "model_module_version": "1.0.0",
      "model_name": "OutputModel",
      "state": {
       "layout": "IPY_MODEL_ab7a3e0b37db4e19bfd6ef63b8f49864",
       "outputs": [
        {
         "data": {
          "image/png": "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\n",
          "text/plain": "<Figure size 360x360 with 1 Axes>"
         },
         "metadata": {},
         "output_type": "display_data"
        }
       ]
      }
     },
     "8a31b70abc944a21aeb4a23ca98fe003": {
      "model_module": "@jupyter-widgets/controls",
      "model_module_version": "1.5.0",
      "model_name": "DescriptionStyleModel",
      "state": {
       "description_width": ""
      }
     },
     "8b150cd7e1e740d6805c4717793e206e": {
      "model_module": "@jupyter-widgets/controls",
      "model_module_version": "1.5.0",
      "model_name": "DescriptionStyleModel",
      "state": {
       "description_width": ""
      }
     },
     "8b5782419b3c4ab587ebeb3b02ae529b": {
      "model_module": "@jupyter-widgets/controls",
      "model_module_version": "1.5.0",
      "model_name": "DescriptionStyleModel",
      "state": {
       "description_width": ""
      }
     },
     "8b64f6309ff446cbb28002a058a88226": {
      "model_module": "@jupyter-widgets/base",
      "model_module_version": "1.2.0",
      "model_name": "LayoutModel",
      "state": {
       "margin": "0px 0px 0px 37px",
       "width": "600px"
      }
     },
     "8b7994fccf9344d1984eb42dad4aca59": {
      "model_module": "@jupyter-widgets/controls",
      "model_module_version": "1.5.0",
      "model_name": "HTMLModel",
      "state": {
       "layout": "IPY_MODEL_33c573eb0fba4ab7bfd0d90eb6f3c2ff",
       "style": "IPY_MODEL_318a06a9ccae481f89313d5aeac0c76c",
       "value": "<div><font style='font-weight:bold'>last_update_date</font>: 2022-02-08 06:01:37+00:00</div>"
      }
     },
     "8c1519292c714754b82535360d357b6e": {
      "model_module": "@jupyter-widgets/base",
      "model_module_version": "1.2.0",
      "model_name": "LayoutModel",
      "state": {
       "margin": "0px 0px 0px 0px"
      }
     },
     "8cb4e1d8fa6c474ca351c69f8522e29d": {
      "model_module": "@jupyter-widgets/base",
      "model_module_version": "1.2.0",
      "model_name": "LayoutModel",
      "state": {
       "justify_content": "center"
      }
     },
     "8d223d39836e47748290466c01d37d43": {
      "model_module": "@jupyter-widgets/controls",
      "model_module_version": "1.5.0",
      "model_name": "DescriptionStyleModel",
      "state": {
       "description_width": ""
      }
     },
     "8d346a72ceea4c89b08e062b39f619be": {
      "model_module": "@jupyter-widgets/controls",
      "model_module_version": "1.5.0",
      "model_name": "DescriptionStyleModel",
      "state": {
       "description_width": ""
      }
     },
     "8d7e1596b82648abaa6ffc1baec68ffd": {
      "model_module": "@jupyter-widgets/controls",
      "model_module_version": "1.5.0",
      "model_name": "HBoxModel",
      "state": {
       "children": [
        "IPY_MODEL_a816ff6393d74fbb9ec7b0d587179224",
        "IPY_MODEL_a781fc17bb4d4c22ab232c0b273bb514"
       ],
       "layout": "IPY_MODEL_318dde70f13245fdaae4f0072080a8c5"
      }
     },
     "8da2f53eef734b1d8737655d926c0855": {
      "model_module": "@jupyter-widgets/controls",
      "model_module_version": "1.5.0",
      "model_name": "DescriptionStyleModel",
      "state": {
       "description_width": ""
      }
     },
     "8e261ce2ca0d4248a82c028f77c771ff": {
      "model_module": "@jupyter-widgets/controls",
      "model_module_version": "1.5.0",
      "model_name": "DescriptionStyleModel",
      "state": {
       "description_width": ""
      }
     },
     "8e6b584ca5c64cfdbf4bf655743e6083": {
      "model_module": "@jupyter-widgets/controls",
      "model_module_version": "1.5.0",
      "model_name": "DescriptionStyleModel",
      "state": {
       "description_width": ""
      }
     },
     "8ecdc342cb8e467c8fed245649b8a9f3": {
      "model_module": "@jupyter-widgets/base",
      "model_module_version": "1.2.0",
      "model_name": "LayoutModel",
      "state": {
       "grid_area": "top"
      }
     },
     "8f2d045db66b4d81afdcc61ad6a23fe5": {
      "model_module": "@jupyter-widgets/base",
      "model_module_version": "1.2.0",
      "model_name": "LayoutModel",
      "state": {
       "min_width": "auto"
      }
     },
     "8f4f4511d9dc4a40b97030ba80948fce": {
      "model_module": "@jupyter-widgets/controls",
      "model_module_version": "1.5.0",
      "model_name": "LabelModel",
      "state": {
       "layout": "IPY_MODEL_c2771231eb4d4744985962073494dc9c",
       "style": "IPY_MODEL_459a2258f75146829ab01a3b7814aff3",
       "value": "Operational"
      }
     },
     "8f63721543634578b77daf974b9a7330": {
      "model_module": "@jupyter-widgets/base",
      "model_module_version": "1.2.0",
      "model_name": "LayoutModel",
      "state": {
       "grid_gap": "0px 0px",
       "grid_template_areas": "\n                                                   \"top top top\"\n                                                   \"left middle right\"\n                                                   ",
       "grid_template_columns": "33% 33% 33%",
       "grid_template_rows": "auto auto"
      }
     },
     "8fe598bfaa0e49f18c386b0fc8de0e1c": {
      "model_module": "@jupyter-widgets/controls",
      "model_module_version": "1.5.0",
      "model_name": "GridBoxModel",
      "state": {
       "children": [
        "IPY_MODEL_9bdccc64ad3a44609aadfddf9f65db77",
        "IPY_MODEL_b67f844cd53f415bbfa00e05bf6fb4a3",
        "IPY_MODEL_44217b312ca54e7aafc7c3b705b55ecb",
        "IPY_MODEL_b488364d30e54a8d900496e85428e313"
       ],
       "layout": "IPY_MODEL_14eee0466f004fb0ac47a9ad0ed777d0"
      }
     },
     "8ff02bc2b37043f7af82a450deebfd44": {
      "model_module": "@jupyter-widgets/base",
      "model_module_version": "1.2.0",
      "model_name": "LayoutModel",
      "state": {
       "justify_content": "center"
      }
     },
     "91286ac396b448bf8dc377d26bc560cb": {
      "model_module": "@jupyter-widgets/controls",
      "model_module_version": "1.5.0",
      "model_name": "DescriptionStyleModel",
      "state": {
       "description_width": ""
      }
     },
     "9159e55c3399465e9c06ed3165530a7a": {
      "model_module": "@jupyter-widgets/controls",
      "model_module_version": "1.5.0",
      "model_name": "HTMLModel",
      "state": {
       "layout": "IPY_MODEL_8ecdc342cb8e467c8fed245649b8a9f3",
       "style": "IPY_MODEL_8da2f53eef734b1d8737655d926c0855",
       "value": "<div><font style='font-weight:bold'>last_update_date</font>: 2022-02-08 05:40:50+00:00</div>"
      }
     },
     "915e6f7308eb4b6b9591b9503d6c8071": {
      "model_module": "@jupyter-widgets/controls",
      "model_module_version": "1.5.0",
      "model_name": "HTMLModel",
      "state": {
       "layout": "IPY_MODEL_333b1b544ebb4712bc835a643d174b6a",
       "style": "IPY_MODEL_13cce96abcbc4f2190eceddd5618c9a1",
       "value": "<table><style>\ntable {\n    border-collapse: collapse;\n    width: auto;\n}\n\nth, td {\n    text-align: left;\n    padding: 8px;\n}\n\ntr:nth-child(even) {background-color: #f6f6f6;}\n</style><tr><th></th><th>Frequency</th><th>T1</th><th>T2</th><th>RZ</th><th>SX</th><th>X</th><th>Readout error</th></tr><tr><td><font style='font-weight:bold'>Q0</font></td><td>5.02976 GHz</td><td>62.88025 us</td><td>112.48305 us</td><td>0</td><td>0.00018</td><td>0.00018</td><td>0.0183 </td><tr><td><font style='font-weight:bold'>Q1</font></td><td>5.12768 GHz</td><td>93.6746 us</td><td>131.40635 us</td><td>0</td><td>0.00017</td><td>0.00017</td><td>0.0155 </td><tr><td><font style='font-weight:bold'>Q2</font></td><td>5.24736 GHz</td><td>77.06029 us</td><td>71.38736 us</td><td>0</td><td>0.00024</td><td>0.00024</td><td>0.0324 </td><tr><td><font style='font-weight:bold'>Q3</font></td><td>5.30217 GHz</td><td>96.96299 us</td><td>83.23661 us</td><td>0</td><td>0.00027</td><td>0.00027</td><td>0.0307 </td><tr><td><font style='font-weight:bold'>Q4</font></td><td>5.09216 GHz</td><td>23.2504 us</td><td>21.95039 us</td><td>0</td><td>0.00063</td><td>0.00063</td><td>0.0464 </td></table>"
      }
     },
     "91d334e695a54ec9832df2baab2d8c17": {
      "model_module": "@jupyter-widgets/controls",
      "model_module_version": "1.5.0",
      "model_name": "HTMLModel",
      "state": {
       "layout": "IPY_MODEL_823ce2b865cc4a3d8fefa53e8dd9cfc6",
       "style": "IPY_MODEL_e7d00b325616415488d9f38e242460ea",
       "value": "<h5>162.3 / 48.0 us</h5>"
      }
     },
     "9261e6b46cd44a12bb935ea281f46698": {
      "model_module": "@jupyter-widgets/controls",
      "model_module_version": "1.5.0",
      "model_name": "HTMLModel",
      "state": {
       "layout": "IPY_MODEL_5d17da3b4a2c4f0da0f6c8516234ff79",
       "style": "IPY_MODEL_f51ad478a00f4950a7bdeeaafe131630",
       "value": "<h5>88.1 / 112.0 us</h5>"
      }
     },
     "93137f1edf094a64a3ba86ddc2f41d53": {
      "model_module": "@jupyter-widgets/controls",
      "model_module_version": "1.5.0",
      "model_name": "HTMLModel",
      "state": {
       "layout": "IPY_MODEL_631c9f1389f04ae8bf681cd77b6105ce",
       "style": "IPY_MODEL_42259f21f5754ecc83f3a16e8e21d898",
       "value": "<h5>1</h5>"
      }
     },
     "9415b74bc3424cd2a45b65406ffbdd08": {
      "model_module": "@jupyter-widgets/controls",
      "model_module_version": "1.5.0",
      "model_name": "DescriptionStyleModel",
      "state": {
       "description_width": ""
      }
     },
     "948dcc76b9e448c8892f2175a79472f8": {
      "model_module": "@jupyter-widgets/controls",
      "model_module_version": "1.5.0",
      "model_name": "HTMLModel",
      "state": {
       "layout": "IPY_MODEL_6fbdbbedc12c47a39ce3747b480c3e48",
       "style": "IPY_MODEL_c87cf13c6c9743d9a8c17b30a709f776",
       "value": "<div><font style='font-weight:bold'>last_update_date</font>: Tue 08 February 2022 at 05:40 UTC</div>"
      }
     },
     "958c8776b147410cb19e8b566744da31": {
      "model_module": "@jupyter-widgets/controls",
      "model_module_version": "1.5.0",
      "model_name": "DescriptionStyleModel",
      "state": {
       "description_width": ""
      }
     },
     "960eded36e574f15a3c8999672e6fcaa": {
      "model_module": "@jupyter-widgets/controls",
      "model_module_version": "1.5.0",
      "model_name": "DescriptionStyleModel",
      "state": {
       "description_width": ""
      }
     },
     "96fb421909df4d889cb9b55b1f3d8200": {
      "model_module": "@jupyter-widgets/base",
      "model_module_version": "1.2.0",
      "model_name": "LayoutModel",
      "state": {
       "grid_gap": "0px 0px",
       "grid_template_areas": "\n                                                   \"top top top\"\n                                                   \"left middle right\"\n                                                   ",
       "grid_template_columns": "33% 33% 33%",
       "grid_template_rows": "auto auto"
      }
     },
     "98a81a9d21214c3e84657f5cab4468fb": {
      "model_module": "@jupyter-widgets/controls",
      "model_module_version": "1.5.0",
      "model_name": "HTMLModel",
      "state": {
       "layout": "IPY_MODEL_9f57d0a5c8714ade94f21c16a9984581",
       "style": "IPY_MODEL_0dbb4e862c674533a057a938a5233fb0",
       "value": "<div><font style='font-weight:bold'>last_update_date</font>: Tue 08 February 2022 at 06:01 UTC</div>"
      }
     },
     "9ab7c4c8f12848f88cc44698e7ab6f7f": {
      "model_module": "@jupyter-widgets/base",
      "model_module_version": "1.2.0",
      "model_name": "LayoutModel",
      "state": {
       "align_items": "center",
       "display": "flex-inline",
       "grid_area": "right",
       "max_height": "325px",
       "padding": "10px 10px 10px 10px",
       "width": "auto"
      }
     },
     "9b19b5b091544fd7a83abce77c9df566": {
      "model_module": "@jupyter-widgets/base",
      "model_module_version": "1.2.0",
      "model_name": "LayoutModel",
      "state": {}
     },
     "9b43f774a48f404fa5c4ae5c4c267f8d": {
      "model_module": "@jupyter-widgets/base",
      "model_module_version": "1.2.0",
      "model_name": "LayoutModel",
      "state": {
       "justify_content": "center"
      }
     },
     "9b4611be875e4c4caa944ac4acda6afe": {
      "model_module": "@jupyter-widgets/base",
      "model_module_version": "1.2.0",
      "model_name": "LayoutModel",
      "state": {}
     },
     "9bdccc64ad3a44609aadfddf9f65db77": {
      "model_module": "@jupyter-widgets/controls",
      "model_module_version": "1.5.0",
      "model_name": "HTMLModel",
      "state": {
       "layout": "IPY_MODEL_7fd099127427422e95429e42e3d08811",
       "style": "IPY_MODEL_58fd30cdea1a4940b04c298b17fba7d7",
       "value": "<div><font style='font-weight:bold'>last_update_date</font>: 2022-02-08 05:40:50+00:00</div>"
      }
     },
     "9c74b8791ff94d83ae128e4ac7142ae9": {
      "model_module": "@jupyter-widgets/base",
      "model_module_version": "1.2.0",
      "model_name": "LayoutModel",
      "state": {
       "justify_content": "center"
      }
     },
     "9d4078b238fe401e8ef631d3e5073333": {
      "model_module": "@jupyter-widgets/base",
      "model_module_version": "1.2.0",
      "model_name": "LayoutModel",
      "state": {
       "align_items": "center",
       "display": "inline-flex",
       "flex_flow": "column"
      }
     },
     "9d9b4bb489f74fe697e2550f7006b61e": {
      "model_module": "@jupyter-widgets/controls",
      "model_module_version": "1.5.0",
      "model_name": "HTMLModel",
      "state": {
       "layout": "IPY_MODEL_e198c503d0954377b43fdf97e0265e6c",
       "style": "IPY_MODEL_cd3f05d12e764af9a020bf56f343e134",
       "value": "<table><style>\ntable {\n    border-collapse: collapse;\n    width: auto;\n}\n\nth, td {\n    text-align: left;\n    padding: 8px;\n}\n\ntr:nth-child(even) {background-color: #f6f6f6;}\n</style><tr><th></th><th>Frequency</th><th>T1</th><th>T2</th><th>RZ</th><th>SX</th><th>X</th><th>Readout error</th></tr><tr><td><font style='font-weight:bold'>Q0</font></td><td>5.02976 GHz</td><td>62.88025 us</td><td>112.48305 us</td><td>0</td><td>0.00018</td><td>0.00018</td><td>0.0183 </td><tr><td><font style='font-weight:bold'>Q1</font></td><td>5.12768 GHz</td><td>93.6746 us</td><td>131.40635 us</td><td>0</td><td>0.00017</td><td>0.00017</td><td>0.0155 </td><tr><td><font style='font-weight:bold'>Q2</font></td><td>5.24736 GHz</td><td>77.06029 us</td><td>71.38736 us</td><td>0</td><td>0.00024</td><td>0.00024</td><td>0.0324 </td><tr><td><font style='font-weight:bold'>Q3</font></td><td>5.30217 GHz</td><td>96.96299 us</td><td>83.23661 us</td><td>0</td><td>0.00027</td><td>0.00027</td><td>0.0307 </td><tr><td><font style='font-weight:bold'>Q4</font></td><td>5.09216 GHz</td><td>23.2504 us</td><td>21.95039 us</td><td>0</td><td>0.00063</td><td>0.00063</td><td>0.0464 </td></table>"
      }
     },
     "9df2ac41e54241649f005edc22d59d0f": {
      "model_module": "@jupyter-widgets/controls",
      "model_module_version": "1.5.0",
      "model_name": "IntProgressModel",
      "state": {
       "layout": "IPY_MODEL_646caada531044b28779094f64cc2245",
       "max": 81,
       "style": "IPY_MODEL_654611d5733b449f8a33985821617480",
       "value": 67
      }
     },
     "9e5b1da1229744b3866280d6bf6710a3": {
      "model_module": "@jupyter-widgets/base",
      "model_module_version": "1.2.0",
      "model_name": "LayoutModel",
      "state": {
       "margin": "0px 0px 0px 0px"
      }
     },
     "9ed681d30e4d415c94da82c6224f5789": {
      "model_module": "@jupyter-widgets/controls",
      "model_module_version": "1.5.0",
      "model_name": "HTMLModel",
      "state": {
       "layout": "IPY_MODEL_2b2d8e736e9a4125817e3a04618c41a2",
       "style": "IPY_MODEL_b67cd463803e40f5977f5893adb27567",
       "value": "<h5><b>5</b></h5>"
      }
     },
     "9f559aefe3c24f56938bdfe5f69f9283": {
      "model_module": "@jupyter-widgets/base",
      "model_module_version": "1.2.0",
      "model_name": "LayoutModel",
      "state": {
       "min_width": "auto"
      }
     },
     "9f57d0a5c8714ade94f21c16a9984581": {
      "model_module": "@jupyter-widgets/base",
      "model_module_version": "1.2.0",
      "model_name": "LayoutModel",
      "state": {}
     },
     "9fd8910a56954009b117ab061bbc28f7": {
      "model_module": "@jupyter-widgets/controls",
      "model_module_version": "1.5.0",
      "model_name": "DescriptionStyleModel",
      "state": {
       "description_width": ""
      }
     },
     "a1e8912a8a1043209322adb8c31bf163": {
      "model_module": "@jupyter-widgets/controls",
      "model_module_version": "1.5.0",
      "model_name": "DescriptionStyleModel",
      "state": {
       "description_width": ""
      }
     },
     "a2157b661c0a4710943793d9f7a49abf": {
      "model_module": "@jupyter-widgets/controls",
      "model_module_version": "1.5.0",
      "model_name": "DescriptionStyleModel",
      "state": {
       "description_width": ""
      }
     },
     "a38239723fd04c3f910040c66442b914": {
      "model_module": "@jupyter-widgets/controls",
      "model_module_version": "1.5.0",
      "model_name": "HTMLModel",
      "state": {
       "layout": "IPY_MODEL_8ff02bc2b37043f7af82a450deebfd44",
       "style": "IPY_MODEL_ac8832dfc1474854ba132643d2639aa1",
       "value": "<h5>16</h5>"
      }
     },
     "a4807acb1e9c4af7814699e05670889a": {
      "model_module": "@jupyter-widgets/base",
      "model_module_version": "1.2.0",
      "model_name": "LayoutModel",
      "state": {
       "max_width": "180px"
      }
     },
     "a4b8ac165e0d41019f51456c72ac7acf": {
      "model_module": "@jupyter-widgets/controls",
      "model_module_version": "1.5.0",
      "model_name": "HTMLMathModel",
      "state": {
       "layout": "IPY_MODEL_f4d62d4a0ce44761a6482a58505c6c78",
       "style": "IPY_MODEL_559daa99bbe94cb999069631e3b2aee6",
       "value": "<table><style>\ntable {\n    border-collapse: collapse;\n    width: auto;\n}\n\nth, td {\n    text-align: left;\n    padding: 8px;\n}\n\ntr:nth-child(even) {background-color: #f6f6f6;}\n</style><tr><th></th><th></th></tr><tr><td>rep_delay_range</td><td>[0.0, 500.0]</td></tr><tr><td>url</td><td>None</td></tr><tr><td>supported_features</td><td>['qobj']</td></tr><tr><td>measure_esp_enabled</td><td>False</td></tr><tr><td>uchannels_enabled</td><td>True</td></tr><tr><td>processor_type</td><td>{'family': 'Falcon', 'revision': 4, 'segment': 'L'}</td></tr><tr><td>backend_name</td><td>ibmq_santiago</td></tr><tr><td>dynamic_reprate_enabled</td><td>True</td></tr><tr><td>parametric_pulses</td><td>['gaussian', 'gaussian_square', 'drag', 'constant']</td></tr><tr><td>allow_q_object</td><td>True</td></tr><tr><td>pulse_num_channels</td><td>9</td></tr><tr><td>u_channel_lo</td><td>[[{'q': 1, 'scale': (1+0j)}], [{'q': 0, 'scale': (1+0j)}], [{'q': 2, 'scale': (1+0j)}], [{'q': 1, 'scale': (1+0j)}], [{'q': 3, 'scale': (1+0j)}], [{'q': 2, 'scale': (1+0j)}], [{'q': 4, 'scale': (1+0j)}], [{'q': 3, 'scale': (1+0j)}]]</td></tr><tr><td>meas_levels</td><td>[1, 2]</td></tr><tr><td>pulse_num_qubits</td><td>3</td></tr><tr><td>sample_name</td><td>family: Falcon, revision: 4, segment: L</td></tr><tr><td>credits_required</td><td>True</td></tr><tr><td>meas_lo_range</td><td>[[6.952624018000001, 7.952624018000001], [6.701014434, 7.701014434], [6.837332258, 7.837332258000001], [6.901770712, 7.901770712], [6.775814414, 7.775814414]]</td></tr><tr><td>simulator</td><td>False</td></tr><tr><td>memory</td><td>True</td></tr><tr><td>multi_meas_enabled</td><td>True</td></tr><tr><td>description</td><td>5 qubit device</td></tr><tr><td>dt</td><td>0.2222222222222222</td></tr><tr><td>allow_object_storage</td><td>True</td></tr><tr><td>n_registers</td><td>1</td></tr><tr><td>qubit_lo_range</td><td>[[4.333431355841892, 5.333431355841892], [4.123649967762965, 5.123649967762965], [4.319885913150092, 5.319885913150092], [4.242316496022139, 5.242316496022139], [4.316399595832959, 5.316399595832959]]</td></tr><tr><td>meas_kernels</td><td>['hw_qmfk']</td></tr><tr><td>hamiltonian</td><td>$$\\begin{align} \\mathcal{H}/\\hbar = & \\sum_{i=0}^{4}\\left(\\frac{\\omega_{q,i}}{2}(\\mathbb{I}-\\sigma_i^{z})+\\frac{\\Delta_{i}}{2}(O_i^2-O_i)+\\Omega_{d,i}D_i(t)\\sigma_i^{X}\\right) \\\\ & + J_{0,1}(\\sigma_{0}^{+}\\sigma_{1}^{-}+\\sigma_{0}^{-}\\sigma_{1}^{+}) + J_{1,2}(\\sigma_{1}^{+}\\sigma_{2}^{-}+\\sigma_{1}^{-}\\sigma_{2}^{+}) + J_{2,3}(\\sigma_{2}^{+}\\sigma_{3}^{-}+\\sigma_{2}^{-}\\sigma_{3}^{+}) + J_{3,4}(\\sigma_{3}^{+}\\sigma_{4}^{-}+\\sigma_{3}^{-}\\sigma_{4}^{+}) \\\\ & + \\Omega_{d,0}(U_{0}^{(0,1)}(t))\\sigma_{0}^{X} + \\Omega_{d,1}(U_{1}^{(1,0)}(t)+U_{2}^{(1,2)}(t))\\sigma_{1}^{X} \\\\ & + \\Omega_{d,2}(U_{3}^{(2,1)}(t)+U_{4}^{(2,3)}(t))\\sigma_{2}^{X} + \\Omega_{d,3}(U_{6}^{(3,4)}(t)+U_{5}^{(3,2)}(t))\\sigma_{3}^{X} \\\\ & + \\Omega_{d,4}(U_{7}^{(4,3)}(t))\\sigma_{4}^{X} \\\\ \\end{align}$$</td></tr><tr><td>n_uchannels</td><td>8</td></tr><tr><td>discriminators</td><td>['linear_discriminator', 'hw_qmfk', 'quadratic_discriminator']</td></tr><tr><td>rep_times</td><td>[1000.0]</td></tr><tr><td>clops</td><td>None</td></tr><tr><td>conditional_latency</td><td>[]</td></tr><tr><td>timing_constraints</td><td>{'acquire_alignment': 16, 'granularity': 16, 'min_length': 64, 'pulse_alignment': 1}</td></tr><tr><td>online_date</td><td>2020-06-03 04:00:00+00:00</td></tr><tr><td>open_pulse</td><td>False</td></tr><tr><td>local</td><td>False</td></tr><tr><td>channels</td><td>{'acquire0': {'operates': {'qubits': [0]}, 'purpose': 'acquire', 'type': 'acquire'}, 'acquire1': {'operates': {'qubits': [1]}, 'purpose': 'acquire', 'type': 'acquire'}, 'acquire2': {'operates': {'qubits': [2]}, 'purpose': 'acquire', 'type': 'acquire'}, 'acquire3': {'operates': {'qubits': [3]}, 'purpose': 'acquire', 'type': 'acquire'}, 'acquire4': {'operates': {'qubits': [4]}, 'purpose': 'acquire', 'type': 'acquire'}, 'd0': {'operates': {'qubits': [0]}, 'purpose': 'drive', 'type': 'drive'}, 'd1': {'operates': {'qubits': [1]}, 'purpose': 'drive', 'type': 'drive'}, 'd2': {'operates': {'qubits': [2]}, 'purpose': 'drive', 'type': 'drive'}, 'd3': {'operates': {'qubits': [3]}, 'purpose': 'drive', 'type': 'drive'}, 'd4': {'operates': {'qubits': [4]}, 'purpose': 'drive', 'type': 'drive'}, 'm0': {'operates': {'qubits': [0]}, 'purpose': 'measure', 'type': 'measure'}, 'm1': {'operates': {'qubits': [1]}, 'purpose': 'measure', 'type': 'measure'}, 'm2': {'operates': {'qubits': [2]}, 'purpose': 'measure', 'type': 'measure'}, 'm3': {'operates': {'qubits': [3]}, 'purpose': 'measure', 'type': 'measure'}, 'm4': {'operates': {'qubits': [4]}, 'purpose': 'measure', 'type': 'measure'}, 'u0': {'operates': {'qubits': [0, 1]}, 'purpose': 'cross-resonance', 'type': 'control'}, 'u1': {'operates': {'qubits': [1, 0]}, 'purpose': 'cross-resonance', 'type': 'control'}, 'u2': {'operates': {'qubits': [1, 2]}, 'purpose': 'cross-resonance', 'type': 'control'}, 'u3': {'operates': {'qubits': [2, 1]}, 'purpose': 'cross-resonance', 'type': 'control'}, 'u4': {'operates': {'qubits': [2, 3]}, 'purpose': 'cross-resonance', 'type': 'control'}, 'u5': {'operates': {'qubits': [3, 2]}, 'purpose': 'cross-resonance', 'type': 'control'}, 'u6': {'operates': {'qubits': [3, 4]}, 'purpose': 'cross-resonance', 'type': 'control'}, 'u7': {'operates': {'qubits': [4, 3]}, 'purpose': 'cross-resonance', 'type': 'control'}}</td></tr><tr><td>acquisition_latency</td><td>[]</td></tr><tr><td>conditional</td><td>False</td></tr><tr><td>default_rep_delay</td><td>250.0</td></tr><tr><td>dtm</td><td>0.2222222222222222</td></tr><tr><td>meas_map</td><td>[[0, 1, 2, 3, 4]]</td></tr><tr><td>supported_instructions</td><td>['setf', 'delay', 'cx', 'sx', 'x', 'id', 'shiftf', 'measure', 'u3', 'play', 'rz', 'u1', 'reset', 'acquire', 'u2']</td></tr><tr><td>coupling_map</td><td>[[0, 1], [1, 0], [1, 2], [2, 1], [2, 3], [3, 2], [3, 4], [4, 3]]</td></tr><tr><td>input_allowed</td><td>['job', 'runtime']</td></tr><tr><td>qubit_channel_mapping</td><td>[['d0', 'u0', 'm0', 'u1'], ['d1', 'u3', 'u0', 'u1', 'm1', 'u2'], ['m2', 'u5', 'd2', 'u3', 'u4', 'u2'], ['d3', 'm3', 'u5', 'u6', 'u4', 'u7'], ['u7', 'd4', 'm4', 'u6']]</td></tr></table>"
      }
     },
     "a5345bd2cf4743748c2711b2df878ae6": {
      "model_module": "@jupyter-widgets/base",
      "model_module_version": "1.2.0",
      "model_name": "LayoutModel",
      "state": {}
     },
     "a5774638f6234d0a9a9aaf1255702d2a": {
      "model_module": "@jupyter-widgets/controls",
      "model_module_version": "1.5.0",
      "model_name": "HTMLModel",
      "state": {
       "layout": "IPY_MODEL_fe160d9d5a1f4b1a9179db28d1c80efe",
       "style": "IPY_MODEL_5d8968fc465948e5ba2d8039447f42b7",
       "value": "<p style='font-family: IBM Plex Sans, Arial, Helvetica, sans-serif; font-size: 20px; font-weight: medium;'>Circuit Properties</p>"
      }
     },
     "a5a895e777e8439ebe001e92cc66b8c9": {
      "model_module": "@jupyter-widgets/controls",
      "model_module_version": "1.5.0",
      "model_name": "HTMLModel",
      "state": {
       "layout": "IPY_MODEL_fb98facfbd2b47e28daeb7adc08e6db5",
       "style": "IPY_MODEL_189e5af5b0214eba8960c0b898cbb89d",
       "value": "<h5>94.5 / 91.3 us</h5>"
      }
     },
     "a75c5905a8364505b997d19a54f0cc55": {
      "model_module": "@jupyter-widgets/base",
      "model_module_version": "1.2.0",
      "model_name": "LayoutModel",
      "state": {
       "grid_area": "middle"
      }
     },
     "a781fc17bb4d4c22ab232c0b273bb514": {
      "model_module": "@jupyter-widgets/controls",
      "model_module_version": "1.5.0",
      "model_name": "GridBoxModel",
      "state": {
       "children": [
        "IPY_MODEL_45d3961724c845c0b88818df28533a5b",
        "IPY_MODEL_ae317f3573544770a86adbff82120347",
        "IPY_MODEL_23f973dcc1b04f4696a7fd302a1cf38d",
        "IPY_MODEL_df09b11675ad458fa98acfbba91b38e0",
        "IPY_MODEL_120629bd03eb41b9831932f5853deada",
        "IPY_MODEL_e75aa891b2a241bc996f3283a800822d",
        "IPY_MODEL_80e27dff8e8044ec9aac534450e83cd5"
       ],
       "layout": "IPY_MODEL_6d60cb50c6fb4a8bb961754f68a5dfbf"
      }
     },
     "a816ff6393d74fbb9ec7b0d587179224": {
      "model_module": "@jupyter-widgets/controls",
      "model_module_version": "1.5.0",
      "model_name": "VBoxModel",
      "state": {
       "children": [
        "IPY_MODEL_d3e5d062aa804518b213fa8dd3855896",
        "IPY_MODEL_58bc413f45d04919af3da73893cd2ca6",
        "IPY_MODEL_3ef00df1fce047d7a320e05d0c08e1de",
        "IPY_MODEL_8f4f4511d9dc4a40b97030ba80948fce",
        "IPY_MODEL_e1fc3cb160014b00b9530f52d7f1a681",
        "IPY_MODEL_aa8b775c9dc5489daab3a93d702813e7",
        "IPY_MODEL_121474aa732843e4ba59de6842f37cbc",
        "IPY_MODEL_dc12f90c868c42cc8d48b8f2bdffd66c"
       ],
       "layout": "IPY_MODEL_efb343b50cf749d4baa0c406d4f00bb4"
      }
     },
     "a8ec987a26bc44daacef40b51901355f": {
      "model_module": "@jupyter-widgets/controls",
      "model_module_version": "1.5.0",
      "model_name": "HTMLModel",
      "state": {
       "layout": "IPY_MODEL_82855ca92dab4a2eb6bc2c469758da1d",
       "style": "IPY_MODEL_347f756da9ff48b5b63af10800569517",
       "value": "<h5>NA</h5>"
      }
     },
     "a961c3c9f6c6412699da1ba49fb0a93c": {
      "model_module": "@jupyter-widgets/base",
      "model_module_version": "1.2.0",
      "model_name": "LayoutModel",
      "state": {}
     },
     "aa34bdd4dae3427fa230d3aee8d25181": {
      "model_module": "@jupyter-widgets/base",
      "model_module_version": "1.2.0",
      "model_name": "LayoutModel",
      "state": {
       "justify_content": "center"
      }
     },
     "aa8b775c9dc5489daab3a93d702813e7": {
      "model_module": "@jupyter-widgets/controls",
      "model_module_version": "1.5.0",
      "model_name": "LabelModel",
      "state": {
       "layout": "IPY_MODEL_ace2a79084724358a83efbcadbb7a465",
       "style": "IPY_MODEL_dc003d725df440beb4301b18e3354e64",
       "value": "Avg. T1 / T2"
      }
     },
     "ab7a3e0b37db4e19bfd6ef63b8f49864": {
      "model_module": "@jupyter-widgets/base",
      "model_module_version": "1.2.0",
      "model_name": "LayoutModel",
      "state": {
       "align_items": "center",
       "display": "flex-inline",
       "grid_area": "right",
       "max_height": "325px",
       "padding": "10px 10px 10px 10px",
       "width": "auto"
      }
     },
     "ac8832dfc1474854ba132643d2639aa1": {
      "model_module": "@jupyter-widgets/controls",
      "model_module_version": "1.5.0",
      "model_name": "DescriptionStyleModel",
      "state": {
       "description_width": ""
      }
     },
     "ace2a79084724358a83efbcadbb7a465": {
      "model_module": "@jupyter-widgets/base",
      "model_module_version": "1.2.0",
      "model_name": "LayoutModel",
      "state": {
       "margin": "10px 0px 0px 0px"
      }
     },
     "ad551dfa6331473ea9826d473114c827": {
      "model_module": "@jupyter-widgets/base",
      "model_module_version": "1.2.0",
      "model_name": "LayoutModel",
      "state": {
       "justify_content": "center"
      }
     },
     "ae317f3573544770a86adbff82120347": {
      "model_module": "@jupyter-widgets/controls",
      "model_module_version": "1.5.0",
      "model_name": "VBoxModel",
      "state": {
       "children": [
        "IPY_MODEL_d1e0ee44b50e42a58942e0783532b77c",
        "IPY_MODEL_0c557c3ed3e84935a2c5b4342c7e05d3",
        "IPY_MODEL_671191ca34c74f7182775978b59e24ea",
        "IPY_MODEL_a38239723fd04c3f910040c66442b914",
        "IPY_MODEL_51cea6527c1e4b3f8de51d69305c7f13",
        "IPY_MODEL_061dff2e234d49aeb0e670e3409ddea1",
        "IPY_MODEL_8226714e70234c2b9c6a5a4c00c128bf",
        "IPY_MODEL_d1a8e715bd8649a994c2f67287a473cb",
        "IPY_MODEL_6e0552a7d4cc46d19ec6c5fe1b0ad938",
        "IPY_MODEL_103d93c0eb6b4067b4317b21e8761618"
       ],
       "layout": "IPY_MODEL_3b8a15b324f84502ae539874b0645477"
      }
     },
     "b00869ff2e5f4590858ac8a06830aed4": {
      "model_module": "@jupyter-widgets/base",
      "model_module_version": "1.2.0",
      "model_name": "LayoutModel",
      "state": {
       "justify_content": "center"
      }
     },
     "b0ebf8f875024156a90ff61488733515": {
      "model_module": "@jupyter-widgets/base",
      "model_module_version": "1.2.0",
      "model_name": "LayoutModel",
      "state": {
       "grid_gap": "0px 0px",
       "grid_template_areas": "\n                               \"left right right right\"\n                               \"bottom bottom bottom bottom\"\n                               ",
       "grid_template_columns": "31% 23% 23% 23%",
       "grid_template_rows": "auto auto"
      }
     },
     "b22422b2f3824d83a9fcdfc04a863bdd": {
      "model_module": "@jupyter-widgets/base",
      "model_module_version": "1.2.0",
      "model_name": "LayoutModel",
      "state": {}
     },
     "b318e7332057476b8f183f1c5cf4e0cf": {
      "model_module": "@jupyter-widgets/base",
      "model_module_version": "1.2.0",
      "model_name": "LayoutModel",
      "state": {}
     },
     "b379f7af017d4d08a4c4c87096d1dbd5": {
      "model_module": "@jupyter-widgets/controls",
      "model_module_version": "1.5.0",
      "model_name": "DescriptionStyleModel",
      "state": {
       "description_width": ""
      }
     },
     "b3e4f38a19f442cb9e0c7e2994daf5c1": {
      "model_module": "@jupyter-widgets/controls",
      "model_module_version": "1.5.0",
      "model_name": "HTMLModel",
      "state": {
       "layout": "IPY_MODEL_3ec7c7a2d45e467d94211927569971dc",
       "style": "IPY_MODEL_c39f8180c67f418eb60ccd5b01f3df7a",
       "value": "<h5 style='color:#34bc6e'>True</h5>"
      }
     },
     "b450d3a48c284794878fd7b42abc301c": {
      "model_module": "@jupyter-widgets/controls",
      "model_module_version": "1.5.0",
      "model_name": "HTMLModel",
      "state": {
       "layout": "IPY_MODEL_087475a1188840b78220802e65aa71f7",
       "style": "IPY_MODEL_485b79f0c9d64b7da2527f3f3bcec134",
       "value": "<h1 style='color:#ffffff;background-color:#000000;padding-top: 1%;padding-bottom: 1%;padding-left: 1%; margin-top: 0px'>ibmq_santiago</h1>"
      }
     },
     "b488364d30e54a8d900496e85428e313": {
      "model_module": "@jupyter-widgets/controls",
      "model_module_version": "1.5.0",
      "model_name": "HTMLModel",
      "state": {
       "layout": "IPY_MODEL_3a4f3853a9394f0798f37f49572e41ff",
       "style": "IPY_MODEL_88b69019bbd34f959219d8fd4051a21c",
       "value": "<table><style>\ntable {\n    border-collapse: collapse;\n    width: auto;\n}\n\nth, td {\n    text-align: left;\n    padding: 8px;\n}\n\ntr:nth-child(even) {background-color: #f6f6f6;};\n</style><tr><th></th><th>Type</th><th>Gate error</th></tr><tr><td><font style='font-weight:bold'>cx2_1</font></td><td>cx</td><td>0.00558</td></tr><tr><td><font style='font-weight:bold'>cx1_2</font></td><td>cx</td><td>0.00558</td></tr></table>"
      }
     },
     "b4f8c2da6f1341c7842feb3df668560e": {
      "model_module": "@jupyter-widgets/base",
      "model_module_version": "1.2.0",
      "model_name": "LayoutModel",
      "state": {
       "margin": "0px 5px 0px 0px",
       "width": "32px"
      }
     },
     "b51815bdc3d44a8796454743ec9bc529": {
      "model_module": "@jupyter-widgets/controls",
      "model_module_version": "1.5.0",
      "model_name": "HTMLModel",
      "state": {
       "layout": "IPY_MODEL_60753e33f50342dcb714b2a72947cddc",
       "style": "IPY_MODEL_347cf4fe874a4ae2a77fb5cd11a33716",
       "value": "<table><style>\ntable {\n    border-collapse: collapse;\n    width: auto;\n}\n\nth, td {\n    text-align: left;\n    padding: 8px;\n}\n\ntr:nth-child(even) {background-color: #f6f6f6;}\n</style><tr><th></th><th>Frequency</th><th>T1</th><th>T2</th><th>RZ</th><th>SX</th><th>X</th><th>Readout error</th></tr><tr><td><font style='font-weight:bold'>Q0</font></td><td>4.83343 GHz</td><td>110.99008 us</td><td>160.07275 us</td><td>0</td><td>0.00019</td><td>0.00019</td><td>0.0174 </td><tr><td><font style='font-weight:bold'>Q1</font></td><td>4.62365 GHz</td><td>103.45122 us</td><td>103.12575 us</td><td>0</td><td>0.00023</td><td>0.00023</td><td>0.0121 </td><tr><td><font style='font-weight:bold'>Q2</font></td><td>4.81989 GHz</td><td>12.69848 us</td><td>10.34907 us</td><td>0</td><td>0.02422</td><td>0.02422</td><td>0.0492 </td><tr><td><font style='font-weight:bold'>Q3</font></td><td>4.74232 GHz</td><td>105.37746 us</td><td>109.29059 us</td><td>0</td><td>0.00022</td><td>0.00022</td><td>0.006 </td><tr><td><font style='font-weight:bold'>Q4</font></td><td>4.8164 GHz</td><td>108.10823 us</td><td>177.18046 us</td><td>0</td><td>0.00027</td><td>0.00027</td><td>0.0219 </td></table>"
      }
     },
     "b5b086ae505a4e99bfbb9c82bfcb4b40": {
      "model_module": "@jupyter-widgets/controls",
      "model_module_version": "1.5.0",
      "model_name": "LabelModel",
      "state": {
       "layout": "IPY_MODEL_49b1754980ac4b85be471e632c130bf8",
       "style": "IPY_MODEL_7f6a659240c041128aca48f5085ec14b",
       "value": "94"
      }
     },
     "b67cd463803e40f5977f5893adb27567": {
      "model_module": "@jupyter-widgets/controls",
      "model_module_version": "1.5.0",
      "model_name": "DescriptionStyleModel",
      "state": {
       "description_width": ""
      }
     },
     "b67f844cd53f415bbfa00e05bf6fb4a3": {
      "model_module": "@jupyter-widgets/controls",
      "model_module_version": "1.5.0",
      "model_name": "HTMLModel",
      "state": {
       "layout": "IPY_MODEL_d37de392b5ea4a0f9e5b6dc7f8d6c7ce",
       "style": "IPY_MODEL_6be6127c34cb4dbea48b68c6f3ea1f59",
       "value": "<table><style>\ntable {\n    border-collapse: collapse;\n    width: auto;\n}\n\nth, td {\n    text-align: left;\n    padding: 8px;\n}\n\ntr:nth-child(even) {background-color: #f6f6f6;};\n</style><tr><th></th><th>Type</th><th>Gate error</th></tr><tr><td><font style='font-weight:bold'>cx4_3</font></td><td>cx</td><td>0.01765</td></tr><tr><td><font style='font-weight:bold'>cx3_4</font></td><td>cx</td><td>0.01765</td></tr><tr><td><font style='font-weight:bold'>cx0_1</font></td><td>cx</td><td>0.00653</td></tr></table>"
      }
     },
     "b6d2dce33c4f495fb7f21ffccfde3432": {
      "model_module": "@jupyter-widgets/controls",
      "model_module_version": "1.5.0",
      "model_name": "TabModel",
      "state": {
       "_titles": {
        "0": "Configuration",
        "1": "Qubit Properties",
        "2": "Multi-Qubit Gates",
        "3": "Error Map",
        "4": "Job History"
       },
       "children": [
        "IPY_MODEL_3d3f1537827c4940af5a38d2795339b8",
        "IPY_MODEL_4e32d8f462624d39aca1f8d385fb730a",
        "IPY_MODEL_bc10eafcad3e4223b30d0a6764ef28d2",
        "IPY_MODEL_7f800ed3321a4418aae729d66d1bd74f",
        "IPY_MODEL_dfdca7f9fdf543ba8dfbab491015b9f9"
       ],
       "layout": "IPY_MODEL_620dbde4e00e4abdbe2031f8df91ac13"
      }
     },
     "b6dd1d91a6e245d0a91116cceb5c7b03": {
      "model_module": "@jupyter-widgets/base",
      "model_module_version": "1.2.0",
      "model_name": "LayoutModel",
      "state": {
       "align_items": "center",
       "display": "inline-flex",
       "flex_flow": "column"
      }
     },
     "b96766f6dd1b4d36b0878486a1063083": {
      "model_module": "@jupyter-widgets/controls",
      "model_module_version": "1.5.0",
      "model_name": "HTMLModel",
      "state": {
       "layout": "IPY_MODEL_9c74b8791ff94d83ae128e4ac7142ae9",
       "style": "IPY_MODEL_087bd697c33d44c9b28d17d038748a8b",
       "value": "<h5 style='color:#dc267f'>False</h5>"
      }
     },
     "b9c7b3ca3b3c49d9aea49c84da42f994": {
      "model_module": "@jupyter-widgets/base",
      "model_module_version": "1.2.0",
      "model_name": "LayoutModel",
      "state": {
       "margin": "0px 0px 0px 0px"
      }
     },
     "b9de415adf90443cbd71c1643a620153": {
      "model_module": "@jupyter-widgets/base",
      "model_module_version": "1.2.0",
      "model_name": "LayoutModel",
      "state": {
       "min_width": "auto"
      }
     },
     "b9f27b2478b94643bea40d6a794c8437": {
      "model_module": "@jupyter-widgets/controls",
      "model_module_version": "1.5.0",
      "model_name": "DescriptionStyleModel",
      "state": {
       "description_width": ""
      }
     },
     "ba02a813cb6840ac8b7c40519d1754c8": {
      "model_module": "@jupyter-widgets/base",
      "model_module_version": "1.2.0",
      "model_name": "LayoutModel",
      "state": {
       "align_items": "center",
       "justify_content": "center",
       "margin": "0px 0px 0px 0px",
       "max_height": "250px",
       "max_width": "250px",
       "min_height": "250px",
       "min_width": "250px"
      }
     },
     "ba0cc3a0485d492a9f7c9f9c81d07506": {
      "model_module": "@jupyter-widgets/base",
      "model_module_version": "1.2.0",
      "model_name": "LayoutModel",
      "state": {}
     },
     "ba5c25dfd54c4e05bf260202496c7243": {
      "model_module": "@jupyter-widgets/controls",
      "model_module_version": "1.5.0",
      "model_name": "LabelModel",
      "state": {
       "layout": "IPY_MODEL_fe860f4e49184bad88b5f9ed93654517",
       "style": "IPY_MODEL_72cbdb5a45eb46c397f7163a884ed833",
       "value": "25"
      }
     },
     "ba75eb2b9d98425a940b33eebc7775aa": {
      "model_module": "@jupyter-widgets/base",
      "model_module_version": "1.2.0",
      "model_name": "LayoutModel",
      "state": {}
     },
     "bbc7fbe47ec6489f82ffc31f4872e8c7": {
      "model_module": "@jupyter-widgets/controls",
      "model_module_version": "1.5.0",
      "model_name": "IntProgressModel",
      "state": {
       "layout": "IPY_MODEL_1a598c6540fb4bed9ffb42265dac3c2a",
       "max": 2036,
       "style": "IPY_MODEL_2ae93c247bca498db9282edfc38ec2d4",
       "value": 2026
      }
     },
     "bc10eafcad3e4223b30d0a6764ef28d2": {
      "model_module": "@jupyter-widgets/controls",
      "model_module_version": "1.5.0",
      "model_name": "GridBoxModel",
      "state": {
       "children": [
        "IPY_MODEL_9159e55c3399465e9c06ed3165530a7a",
        "IPY_MODEL_7d5be02aaf82482f96b005641815736d",
        "IPY_MODEL_855a05112a064a8282bf82eac52e8724",
        "IPY_MODEL_e16d28e146524a6bb4131614ee45d652"
       ],
       "layout": "IPY_MODEL_8f63721543634578b77daf974b9a7330"
      }
     },
     "bca74ceb22d34ebb903adfe7283e6b6a": {
      "model_module": "@jupyter-widgets/controls",
      "model_module_version": "1.5.0",
      "model_name": "GridBoxModel",
      "state": {
       "children": [
        "IPY_MODEL_36daf2d1d591482bb62570ced9b55073"
       ],
       "layout": "IPY_MODEL_237f9c5fa2684fe6b24775d1e1f30053"
      }
     },
     "bcb7fbed18ec482787a47b0ea200ef15": {
      "model_module": "@jupyter-widgets/base",
      "model_module_version": "1.2.0",
      "model_name": "LayoutModel",
      "state": {
       "width": "190px"
      }
     },
     "bcfd710623ec40839b26367efd2a1ae3": {
      "model_module": "@jupyter-widgets/controls",
      "model_module_version": "1.5.0",
      "model_name": "HTMLMathModel",
      "state": {
       "layout": "IPY_MODEL_7539679926e0400ebfa08a615ca90fcd",
       "style": "IPY_MODEL_1d3a801b2ee84a28a23da1d5d0c30b31",
       "value": "<table><style>\ntable {\n    border-collapse: collapse;\n    width: auto;\n}\n\nth, td {\n    text-align: left;\n    padding: 8px;\n}\n\ntr:nth-child(even) {background-color: #f6f6f6;}\n</style><tr><th>Property</th><th>Value</th></tr><tr><td><font style='font-weight:bold'>n_qubits</font></td><td>5</td></tr><tr><td><font style='font-weight:bold'>quantum_volume</font></td><td>8</td></tr><tr><td><font style='font-weight:bold'>operational</font></td><td>True</td></tr><tr><td><font style='font-weight:bold'>status_msg</font></td><td>active</td></tr><tr><td><font style='font-weight:bold'>pending_jobs</font></td><td>71</td></tr><tr><td><font style='font-weight:bold'>backend_version</font></td><td>1.0.29</td></tr><tr><td><font style='font-weight:bold'>basis_gates</font></td><td>['id', 'rz', 'sx', 'x', 'cx', 'reset']</td></tr><tr><td><font style='font-weight:bold'>max_shots</font></td><td>20000</td></tr><tr><td><font style='font-weight:bold'>max_experiments</font></td><td>100</td></tr></table>"
      }
     },
     "bd0b80b8c352438d8403193ec94cdf97": {
      "model_module": "@jupyter-widgets/controls",
      "model_module_version": "1.5.0",
      "model_name": "DescriptionStyleModel",
      "state": {
       "description_width": ""
      }
     },
     "bd5079afdf88444c8245360b3e401ddf": {
      "model_module": "@jupyter-widgets/output",
      "model_module_version": "1.0.0",
      "model_name": "OutputModel",
      "state": {
       "layout": "IPY_MODEL_10ce3f5da919461296ae783622db68c4",
       "outputs": [
        {
         "data": {
          "image/png": "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\n",
          "text/plain": "<Figure size 360x360 with 1 Axes>"
         },
         "metadata": {},
         "output_type": "display_data"
        }
       ]
      }
     },
     "bd64a85e2acc498aa3e08d56378a8295": {
      "model_module": "@jupyter-widgets/controls",
      "model_module_version": "1.5.0",
      "model_name": "DescriptionStyleModel",
      "state": {
       "description_width": ""
      }
     },
     "be73d66f612d4dadb3f11786af238dfc": {
      "model_module": "@jupyter-widgets/controls",
      "model_module_version": "1.5.0",
      "model_name": "HTMLModel",
      "state": {
       "layout": "IPY_MODEL_bcb7fbed18ec482787a47b0ea200ef15",
       "style": "IPY_MODEL_8136546924634303a842530cce5c0ec8",
       "value": "62020bf29b789c2440031b40"
      }
     },
     "c13da6c08663429e86cbf1d8b104e0e7": {
      "model_module": "@jupyter-widgets/controls",
      "model_module_version": "1.5.0",
      "model_name": "DescriptionStyleModel",
      "state": {
       "description_width": ""
      }
     },
     "c14906d37ab140deb8a1f834134d88d1": {
      "model_module": "@jupyter-widgets/base",
      "model_module_version": "1.2.0",
      "model_name": "LayoutModel",
      "state": {}
     },
     "c1a1461bb7d54b8ab719ca9a5e491ef7": {
      "model_module": "@jupyter-widgets/base",
      "model_module_version": "1.2.0",
      "model_name": "LayoutModel",
      "state": {
       "margin": "10px 0px 0px 0px"
      }
     },
     "c24f0e1f7b3b4f57a10edda6139b1899": {
      "model_module": "@jupyter-widgets/controls",
      "model_module_version": "1.5.0",
      "model_name": "HTMLModel",
      "state": {
       "layout": "IPY_MODEL_8c1519292c714754b82535360d357b6e",
       "style": "IPY_MODEL_91286ac396b448bf8dc377d26bc560cb",
       "value": "<h1 style='color:#ffffff;background-color:#000000;padding-top: 1%;padding-bottom: 1%;padding-left: 1%; margin-top: 0px'>ibmq_lima</h1>"
      }
     },
     "c2771231eb4d4744985962073494dc9c": {
      "model_module": "@jupyter-widgets/base",
      "model_module_version": "1.2.0",
      "model_name": "LayoutModel",
      "state": {
       "margin": "5px 0px 0px 0px"
      }
     },
     "c3343616fb1b4542b087a21efc914f36": {
      "model_module": "@jupyter-widgets/controls",
      "model_module_version": "1.5.0",
      "model_name": "HTMLModel",
      "state": {
       "layout": "IPY_MODEL_44aa4b95ef324445b4a8f6e961564590",
       "style": "IPY_MODEL_cd57b7f8437f409e92d6c9ce5582e41d",
       "value": "<h5>16</h5>"
      }
     },
     "c36b964d7b1b49ac9bd9424cfebd8efd": {
      "model_module": "@jupyter-widgets/controls",
      "model_module_version": "1.5.0",
      "model_name": "ButtonStyleModel",
      "state": {}
     },
     "c39f8180c67f418eb60ccd5b01f3df7a": {
      "model_module": "@jupyter-widgets/controls",
      "model_module_version": "1.5.0",
      "model_name": "DescriptionStyleModel",
      "state": {
       "description_width": ""
      }
     },
     "c3f03e17081949328b60c2aeeb0cf8cc": {
      "model_module": "@jupyter-widgets/base",
      "model_module_version": "1.2.0",
      "model_name": "LayoutModel",
      "state": {
       "min_width": "auto"
      }
     },
     "c6e112c51d2a4fd7af1cda7602a4288b": {
      "model_module": "@jupyter-widgets/controls",
      "model_module_version": "1.5.0",
      "model_name": "LabelModel",
      "state": {
       "layout": "IPY_MODEL_e523f20a87da4a59b98bffeca1572ece",
       "style": "IPY_MODEL_f67a028e1c3b4a8fac54026cac8af551",
       "value": "11"
      }
     },
     "c784b841b08d40739eebab851f620b9b": {
      "model_module": "@jupyter-widgets/base",
      "model_module_version": "1.2.0",
      "model_name": "LayoutModel",
      "state": {}
     },
     "c8349b73800e47ec818e8c487a4b9351": {
      "model_module": "@jupyter-widgets/output",
      "model_module_version": "1.0.0",
      "model_name": "OutputModel",
      "state": {
       "layout": "IPY_MODEL_22af16c4f6e1478bac0f1dcba642b64f",
       "outputs": [
        {
         "data": {
          "image/png": "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\n",
          "text/plain": "<Figure size 360x360 with 1 Axes>"
         },
         "metadata": {},
         "output_type": "display_data"
        }
       ]
      }
     },
     "c87cf13c6c9743d9a8c17b30a709f776": {
      "model_module": "@jupyter-widgets/controls",
      "model_module_version": "1.5.0",
      "model_name": "DescriptionStyleModel",
      "state": {
       "description_width": ""
      }
     },
     "c9be22cf96bd46789d2dc20adee4d768": {
      "model_module": "@jupyter-widgets/output",
      "model_module_version": "1.0.0",
      "model_name": "OutputModel",
      "state": {
       "layout": "IPY_MODEL_e85f81f3e6534a7d98558efe9a29b524",
       "outputs": [
        {
         "data": {
          "image/png": "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\n",
          "text/plain": "<Figure size 360x360 with 1 Axes>"
         },
         "metadata": {},
         "output_type": "display_data"
        }
       ]
      }
     },
     "cab3eefb0085421393ebba61610f6624": {
      "model_module": "@jupyter-widgets/controls",
      "model_module_version": "1.5.0",
      "model_name": "DescriptionStyleModel",
      "state": {
       "description_width": ""
      }
     },
     "cb185cb305154f2482b70c58c5ce1f49": {
      "model_module": "@jupyter-widgets/base",
      "model_module_version": "1.2.0",
      "model_name": "LayoutModel",
      "state": {
       "border": "4px solid #000000",
       "max_height": "650px",
       "min_height": "650px",
       "overflow_y": "hidden"
      }
     },
     "cbac2aba8ae0462bb490a7c11f5a289f": {
      "model_module": "@jupyter-widgets/controls",
      "model_module_version": "1.5.0",
      "model_name": "IntProgressModel",
      "state": {
       "layout": "IPY_MODEL_83da3bbf35e54afdb723dc92a6ed449e",
       "max": 198,
       "style": "IPY_MODEL_2b200f233b134038b3b7fa6b4c7ec2c4",
       "value": 185
      }
     },
     "cbec418d1e334a62ad01890396122120": {
      "model_module": "@jupyter-widgets/controls",
      "model_module_version": "1.5.0",
      "model_name": "HTMLModel",
      "state": {
       "layout": "IPY_MODEL_660a40e57fdb4bb68347bce02ba93b04",
       "style": "IPY_MODEL_79c45b49edfa42958ef01bb5d25de585",
       "value": "<h5><b>5</b></h5>"
      }
     },
     "cc42340d52c84bee93f8f1f59dc4d846": {
      "model_module": "@jupyter-widgets/controls",
      "model_module_version": "1.5.0",
      "model_name": "HTMLModel",
      "state": {
       "layout": "IPY_MODEL_5c85887a73aa4d6d970d52e091ac37d2",
       "style": "IPY_MODEL_e17fb9a8e1d947178dad0d1d3ff71924",
       "value": "<h5><b>5</b></h5>"
      }
     },
     "cc780a6782e14e0580cb67359dee33c5": {
      "model_module": "@jupyter-widgets/base",
      "model_module_version": "1.2.0",
      "model_name": "LayoutModel",
      "state": {
       "justify_content": "center",
       "max_width": "250px",
       "min_width": "250px"
      }
     },
     "ccdda85816ee41a0b7cff71a63ad3d2d": {
      "model_module": "@jupyter-widgets/base",
      "model_module_version": "1.2.0",
      "model_name": "LayoutModel",
      "state": {
       "align_items": "center",
       "justify_content": "center",
       "margin": "0px 0px 0px 0px",
       "max_height": "250px",
       "max_width": "250px",
       "min_height": "250px",
       "min_width": "250px"
      }
     },
     "cd3f05d12e764af9a020bf56f343e134": {
      "model_module": "@jupyter-widgets/controls",
      "model_module_version": "1.5.0",
      "model_name": "DescriptionStyleModel",
      "state": {
       "description_width": ""
      }
     },
     "cd57b7f8437f409e92d6c9ce5582e41d": {
      "model_module": "@jupyter-widgets/controls",
      "model_module_version": "1.5.0",
      "model_name": "DescriptionStyleModel",
      "state": {
       "description_width": ""
      }
     },
     "ce11aeb874f74b4b8fff0b652255a544": {
      "model_module": "@jupyter-widgets/controls",
      "model_module_version": "1.5.0",
      "model_name": "DescriptionStyleModel",
      "state": {
       "description_width": ""
      }
     },
     "d14a3817076747c68c40f0f99ec90f7b": {
      "model_module": "@jupyter-widgets/controls",
      "model_module_version": "1.5.0",
      "model_name": "HTMLModel",
      "state": {
       "layout": "IPY_MODEL_72c25e6ab89a45bea746ff56e1fed035",
       "style": "IPY_MODEL_958c8776b147410cb19e8b566744da31",
       "value": "<h5 style='color:#34bc6e'>True</h5>"
      }
     },
     "d15c2349400e4f48849dc86cacfbffb6": {
      "model_module": "@jupyter-widgets/base",
      "model_module_version": "1.2.0",
      "model_name": "LayoutModel",
      "state": {
       "width": "70px"
      }
     },
     "d1a8e715bd8649a994c2f67287a473cb": {
      "model_module": "@jupyter-widgets/controls",
      "model_module_version": "1.5.0",
      "model_name": "HTMLModel",
      "state": {
       "layout": "IPY_MODEL_e6cc1e2d321942b18747b5fd959be1c7",
       "style": "IPY_MODEL_22df1ab541154388911ce3acf70e9b78",
       "value": "<h5>92.1 / 106.7 us</h5>"
      }
     },
     "d1d1cb4be78d4cb5b54980877be14efb": {
      "model_module": "@jupyter-widgets/base",
      "model_module_version": "1.2.0",
      "model_name": "LayoutModel",
      "state": {
       "justify_content": "center"
      }
     },
     "d1e0ee44b50e42a58942e0783532b77c": {
      "model_module": "@jupyter-widgets/controls",
      "model_module_version": "1.5.0",
      "model_name": "HTMLModel",
      "state": {
       "layout": "IPY_MODEL_862a294eff5745cda1fc93612bcdff5d",
       "style": "IPY_MODEL_4722c693be214212a701473f8f12b34a",
       "value": "<h4>ibmq_quito</h4>"
      }
     },
     "d2f4fbbf9f6246fb9a46c987152bd749": {
      "model_module": "@jupyter-widgets/base",
      "model_module_version": "1.2.0",
      "model_name": "LayoutModel",
      "state": {
       "width": "95px"
      }
     },
     "d37de392b5ea4a0f9e5b6dc7f8d6c7ce": {
      "model_module": "@jupyter-widgets/base",
      "model_module_version": "1.2.0",
      "model_name": "LayoutModel",
      "state": {
       "grid_area": "left"
      }
     },
     "d3e5d062aa804518b213fa8dd3855896": {
      "model_module": "@jupyter-widgets/controls",
      "model_module_version": "1.5.0",
      "model_name": "LabelModel",
      "state": {
       "layout": "IPY_MODEL_b22422b2f3824d83a9fcdfc04a863bdd",
       "style": "IPY_MODEL_2f19b894d3fe468c8dfd981c3166ddc0",
       "value": "Num. Qubits"
      }
     },
     "d5528d973080459aa46e652ffe4beaad": {
      "model_module": "@jupyter-widgets/base",
      "model_module_version": "1.2.0",
      "model_name": "LayoutModel",
      "state": {}
     },
     "d5d778532b314a81a1b7b63e9f2b7281": {
      "model_module": "@jupyter-widgets/controls",
      "model_module_version": "1.5.0",
      "model_name": "DescriptionStyleModel",
      "state": {
       "description_width": ""
      }
     },
     "d6c78f5c03b747cd8d55b5cc4ca6b0b7": {
      "model_module": "@jupyter-widgets/output",
      "model_module_version": "1.0.0",
      "model_name": "OutputModel",
      "state": {
       "layout": "IPY_MODEL_9ab7c4c8f12848f88cc44698e7ab6f7f",
       "outputs": [
        {
         "data": {
          "image/png": "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\n",
          "text/plain": "<Figure size 360x360 with 1 Axes>"
         },
         "metadata": {},
         "output_type": "display_data"
        }
       ]
      }
     },
     "d725840f97c248258a13f1bcd4d23bef": {
      "model_module": "@jupyter-widgets/output",
      "model_module_version": "1.0.0",
      "model_name": "OutputModel",
      "state": {
       "layout": "IPY_MODEL_ba02a813cb6840ac8b7c40519d1754c8",
       "outputs": [
        {
         "data": {
          "image/png": "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\n",
          "text/plain": "<Figure size 360x360 with 1 Axes>"
         },
         "metadata": {},
         "output_type": "display_data"
        }
       ]
      }
     },
     "d7528871a1e5440da37aa0927ebc30e7": {
      "model_module": "@jupyter-widgets/controls",
      "model_module_version": "1.5.0",
      "model_name": "DescriptionStyleModel",
      "state": {
       "description_width": ""
      }
     },
     "d7b846fa393c47e8b932a0fcaf9c69f7": {
      "model_module": "@jupyter-widgets/controls",
      "model_module_version": "1.5.0",
      "model_name": "LabelModel",
      "state": {
       "layout": "IPY_MODEL_c3f03e17081949328b60c2aeeb0cf8cc",
       "style": "IPY_MODEL_0109d78296844054a2511d7603bbd9b0",
       "value": "50"
      }
     },
     "da1c2efb47724e3cbcfc93f3d0eca79e": {
      "model_module": "@jupyter-widgets/controls",
      "model_module_version": "1.5.0",
      "model_name": "HTMLModel",
      "state": {
       "layout": "IPY_MODEL_d1d1cb4be78d4cb5b54980877be14efb",
       "style": "IPY_MODEL_d7528871a1e5440da37aa0927ebc30e7",
       "value": "<h5><b>1</b></h5>"
      }
     },
     "db5044d0096b41ee8550b8d962dd6012": {
      "model_module": "@jupyter-widgets/controls",
      "model_module_version": "1.5.0",
      "model_name": "HTMLMathModel",
      "state": {
       "layout": "IPY_MODEL_3cc51d4a4c614a1caf467ca635af39c1",
       "style": "IPY_MODEL_8517010edd2043c2905a9021a9eadf2c",
       "value": "<table><style>\ntable {\n    border-collapse: collapse;\n    width: auto;\n}\n\nth, td {\n    text-align: left;\n    padding: 8px;\n}\n\ntr:nth-child(even) {background-color: #f6f6f6;}\n</style><tr><th>Property</th><th>Value</th></tr><tr><td><font style='font-weight:bold'>n_qubits</font></td><td>5</td></tr><tr><td><font style='font-weight:bold'>quantum_volume</font></td><td>32</td></tr><tr><td><font style='font-weight:bold'>operational</font></td><td>False</td></tr><tr><td><font style='font-weight:bold'>status_msg</font></td><td>maintenance</td></tr><tr><td><font style='font-weight:bold'>pending_jobs</font></td><td>2026</td></tr><tr><td><font style='font-weight:bold'>backend_version</font></td><td>1.3.45</td></tr><tr><td><font style='font-weight:bold'>basis_gates</font></td><td>['id', 'rz', 'sx', 'x', 'cx', 'reset']</td></tr><tr><td><font style='font-weight:bold'>max_shots</font></td><td>20000</td></tr><tr><td><font style='font-weight:bold'>max_experiments</font></td><td>100</td></tr></table>"
      }
     },
     "dc003d725df440beb4301b18e3354e64": {
      "model_module": "@jupyter-widgets/controls",
      "model_module_version": "1.5.0",
      "model_name": "DescriptionStyleModel",
      "state": {
       "description_width": ""
      }
     },
     "dc12f90c868c42cc8d48b8f2bdffd66c": {
      "model_module": "@jupyter-widgets/controls",
      "model_module_version": "1.5.0",
      "model_name": "LabelModel",
      "state": {
       "layout": "IPY_MODEL_38cb0c95be7744fa822f04179da15195",
       "style": "IPY_MODEL_3b7d752c7ce34126a5edb3658bcf1fb9",
       "value": "Avg. Meas. Err."
      }
     },
     "dc1794d14d354cfab384f5c9551c5b23": {
      "model_module": "@jupyter-widgets/controls",
      "model_module_version": "1.5.0",
      "model_name": "HBoxModel",
      "state": {
       "children": [
        "IPY_MODEL_46cd2593b5224fc9b3a3d44596d4ca59",
        "IPY_MODEL_bbc7fbe47ec6489f82ffc31f4872e8c7",
        "IPY_MODEL_fc6a85355380465b9c4d7e18cf08e41a"
       ],
       "layout": "IPY_MODEL_537e080b4b934840a81f58e5fa05c176"
      }
     },
     "dc3c3bebea63431c89c69849591dde82": {
      "model_module": "@jupyter-widgets/controls",
      "model_module_version": "1.5.0",
      "model_name": "LabelModel",
      "state": {
       "layout": "IPY_MODEL_6199005b01c9414aa5735f482d3030c0",
       "style": "IPY_MODEL_446c3f23cf4f487ab7dbe978f8496d3b",
       "value": "67"
      }
     },
     "dc7af5e34c3149e3b1452308765f9d07": {
      "model_module": "@jupyter-widgets/controls",
      "model_module_version": "1.5.0",
      "model_name": "GridBoxModel",
      "state": {
       "children": [
        "IPY_MODEL_8b7994fccf9344d1984eb42dad4aca59",
        "IPY_MODEL_4e37869780624984af7d3a9e92ae7dca",
        "IPY_MODEL_45dadbdca4b340009853ee01256e547d",
        "IPY_MODEL_83032b98d2e04a0eab5a4e26c188ff7b"
       ],
       "layout": "IPY_MODEL_96fb421909df4d889cb9b55b1f3d8200"
      }
     },
     "df09b11675ad458fa98acfbba91b38e0": {
      "model_module": "@jupyter-widgets/controls",
      "model_module_version": "1.5.0",
      "model_name": "VBoxModel",
      "state": {
       "children": [
        "IPY_MODEL_85b19fca9012425a80725b072437173c",
        "IPY_MODEL_d725840f97c248258a13f1bcd4d23bef",
        "IPY_MODEL_cc42340d52c84bee93f8f1f59dc4d846",
        "IPY_MODEL_2958c2a44fa646488d4fa525110d51e7",
        "IPY_MODEL_efedc313b6144db6bcefedbab9469b38",
        "IPY_MODEL_611f928753d74f7398901f5286f11ae1",
        "IPY_MODEL_562b6347398a45bfbb4d568353080029",
        "IPY_MODEL_e3d15ba6c72947a389e301f01fa70f84",
        "IPY_MODEL_729d1fa18f41490faca75edcf40c7c1d",
        "IPY_MODEL_462168238d254791833a310b99ed8fc8"
       ],
       "layout": "IPY_MODEL_64e73faa45e54f18a976c2c2160d4713"
      }
     },
     "dfdca7f9fdf543ba8dfbab491015b9f9": {
      "model_module": "@jupyter-widgets/controls",
      "model_module_version": "1.5.0",
      "model_name": "TabModel",
      "state": {
       "layout": "IPY_MODEL_455b295699564a4f9edb14c340f181ed"
      }
     },
     "e03b6fafb0aa430ebacb6f66c1046706": {
      "model_module": "@jupyter-widgets/base",
      "model_module_version": "1.2.0",
      "model_name": "LayoutModel",
      "state": {
       "max_width": "710px",
       "min_width": "710px"
      }
     },
     "e0a83977ab0b40719e96ea7140ab581a": {
      "model_module": "@jupyter-widgets/controls",
      "model_module_version": "1.5.0",
      "model_name": "DescriptionStyleModel",
      "state": {
       "description_width": ""
      }
     },
     "e12feb6647484bf38d217e0bb4936e92": {
      "model_module": "@jupyter-widgets/controls",
      "model_module_version": "1.5.0",
      "model_name": "ProgressStyleModel",
      "state": {
       "bar_color": "#71cddd",
       "description_width": ""
      }
     },
     "e16d28e146524a6bb4131614ee45d652": {
      "model_module": "@jupyter-widgets/controls",
      "model_module_version": "1.5.0",
      "model_name": "HTMLModel",
      "state": {
       "layout": "IPY_MODEL_792ab8721f09484dbf76989bb49eb7c1",
       "style": "IPY_MODEL_05cc4f5034f8463f9d8f29cea34f5ef1",
       "value": "<table><style>\ntable {\n    border-collapse: collapse;\n    width: auto;\n}\n\nth, td {\n    text-align: left;\n    padding: 8px;\n}\n\ntr:nth-child(even) {background-color: #f6f6f6;};\n</style><tr><th></th><th>Type</th><th>Gate error</th></tr><tr><td><font style='font-weight:bold'>cx2_1</font></td><td>cx</td><td>0.00558</td></tr><tr><td><font style='font-weight:bold'>cx1_2</font></td><td>cx</td><td>0.00558</td></tr></table>"
      }
     },
     "e17fb9a8e1d947178dad0d1d3ff71924": {
      "model_module": "@jupyter-widgets/controls",
      "model_module_version": "1.5.0",
      "model_name": "DescriptionStyleModel",
      "state": {
       "description_width": ""
      }
     },
     "e181fe156b0e485a9c0dddae6d6272d9": {
      "model_module": "@jupyter-widgets/base",
      "model_module_version": "1.2.0",
      "model_name": "LayoutModel",
      "state": {}
     },
     "e198c503d0954377b43fdf97e0265e6c": {
      "model_module": "@jupyter-widgets/base",
      "model_module_version": "1.2.0",
      "model_name": "LayoutModel",
      "state": {}
     },
     "e1fc3cb160014b00b9530f52d7f1a681": {
      "model_module": "@jupyter-widgets/controls",
      "model_module_version": "1.5.0",
      "model_name": "LabelModel",
      "state": {
       "layout": "IPY_MODEL_c1a1461bb7d54b8ab719ca9a5e491ef7",
       "style": "IPY_MODEL_b379f7af017d4d08a4c4c87096d1dbd5",
       "value": "Least Busy"
      }
     },
     "e2273fb2bdf1416fa42e589225c86d5d": {
      "model_module": "@jupyter-widgets/controls",
      "model_module_version": "1.5.0",
      "model_name": "HTMLModel",
      "state": {
       "layout": "IPY_MODEL_edd7e86e15c3448f92dce8bf748f8e07",
       "style": "IPY_MODEL_9fd8910a56954009b117ab061bbc28f7",
       "value": "<h4>ibmq_belem</h4>"
      }
     },
     "e3d15ba6c72947a389e301f01fa70f84": {
      "model_module": "@jupyter-widgets/controls",
      "model_module_version": "1.5.0",
      "model_name": "HTMLModel",
      "state": {
       "layout": "IPY_MODEL_e3ef4bba086e47fca751af65c2aa7eb7",
       "style": "IPY_MODEL_8d346a72ceea4c89b08e062b39f619be",
       "value": "<h5>70.8 / 84.1 us</h5>"
      }
     },
     "e3e743eb90044527aef6e71ff87862e7": {
      "model_module": "@jupyter-widgets/controls",
      "model_module_version": "1.5.0",
      "model_name": "HTMLModel",
      "state": {
       "layout": "IPY_MODEL_b9c7b3ca3b3c49d9aea49c84da42f994",
       "style": "IPY_MODEL_8e261ce2ca0d4248a82c028f77c771ff",
       "value": "<h1 style='color:#ffffff;background-color:#000000;padding-top: 1%;padding-bottom: 1%;padding-left: 1%; margin-top: 0px'>ibmq_lima</h1>"
      }
     },
     "e3ef4bba086e47fca751af65c2aa7eb7": {
      "model_module": "@jupyter-widgets/base",
      "model_module_version": "1.2.0",
      "model_name": "LayoutModel",
      "state": {}
     },
     "e417fb5bf2e64e878ab94697a2ee9065": {
      "model_module": "@jupyter-widgets/base",
      "model_module_version": "1.2.0",
      "model_name": "LayoutModel",
      "state": {
       "justify_content": "center"
      }
     },
     "e523f20a87da4a59b98bffeca1572ece": {
      "model_module": "@jupyter-widgets/base",
      "model_module_version": "1.2.0",
      "model_name": "LayoutModel",
      "state": {
       "min_width": "auto"
      }
     },
     "e6cc1e2d321942b18747b5fd959be1c7": {
      "model_module": "@jupyter-widgets/base",
      "model_module_version": "1.2.0",
      "model_name": "LayoutModel",
      "state": {}
     },
     "e72d5cf7d552405a901660774de7c55d": {
      "model_module": "@jupyter-widgets/controls",
      "model_module_version": "1.5.0",
      "model_name": "LabelModel",
      "state": {
       "layout": "IPY_MODEL_42e80b1b6ac64a6faea7f7124c11c620",
       "style": "IPY_MODEL_2e297fc0536b4aba90ba25569694fbb5",
       "value": "81"
      }
     },
     "e75aa891b2a241bc996f3283a800822d": {
      "model_module": "@jupyter-widgets/controls",
      "model_module_version": "1.5.0",
      "model_name": "VBoxModel",
      "state": {
       "children": [
        "IPY_MODEL_06cf72ade1d64b24aaea10d8c3f6be2d",
        "IPY_MODEL_36b69aa87914449f8bf6ca5f6c067823",
        "IPY_MODEL_da1c2efb47724e3cbcfc93f3d0eca79e",
        "IPY_MODEL_93137f1edf094a64a3ba86ddc2f41d53",
        "IPY_MODEL_ef931139c55f4461ae1594bbb405d41e",
        "IPY_MODEL_3af89cf004b542dabf1eaee06c1dca2f",
        "IPY_MODEL_ecfec553ff174435a7de3b54af60599c",
        "IPY_MODEL_88f00e1a992c434083b834372ea2309c",
        "IPY_MODEL_a8ec987a26bc44daacef40b51901355f",
        "IPY_MODEL_817dd62be70a4f92982d0da96259a794"
       ],
       "layout": "IPY_MODEL_9d4078b238fe401e8ef631d3e5073333"
      }
     },
     "e75db17e2223442aa0bcae6f3eee24b0": {
      "model_module": "@jupyter-widgets/base",
      "model_module_version": "1.2.0",
      "model_name": "LayoutModel",
      "state": {
       "overflow_y": "scroll"
      }
     },
     "e7d00b325616415488d9f38e242460ea": {
      "model_module": "@jupyter-widgets/controls",
      "model_module_version": "1.5.0",
      "model_name": "DescriptionStyleModel",
      "state": {
       "description_width": ""
      }
     },
     "e83d63ca2fa84040b285e4a00c7bf42e": {
      "model_module": "@jupyter-widgets/controls",
      "model_module_version": "1.5.0",
      "model_name": "HTMLModel",
      "state": {
       "layout": "IPY_MODEL_d2f4fbbf9f6246fb9a46c987152bd749",
       "style": "IPY_MODEL_88c4c3ae622f488db771d7d3e525970d",
       "value": "<h5>Status</h5>"
      }
     },
     "e85f81f3e6534a7d98558efe9a29b524": {
      "model_module": "@jupyter-widgets/base",
      "model_module_version": "1.2.0",
      "model_name": "LayoutModel",
      "state": {
       "align_items": "center",
       "justify_content": "center",
       "margin": "0px 0px 0px 0px",
       "max_height": "250px",
       "max_width": "250px",
       "min_height": "250px",
       "min_width": "250px"
      }
     },
     "e91e3e6c177d469292f7a89fa7c5725c": {
      "model_module": "@jupyter-widgets/controls",
      "model_module_version": "1.5.0",
      "model_name": "LabelModel",
      "state": {
       "layout": "IPY_MODEL_3c83d21051b44c2b9de37851beaa9ad2",
       "style": "IPY_MODEL_32efc0ec1d854dd89941f0f7c47aa9c0",
       "value": "50"
      }
     },
     "e95d5cda8f0f437d8a02ec50159b04ba": {
      "model_module": "@jupyter-widgets/controls",
      "model_module_version": "1.5.0",
      "model_name": "VBoxModel",
      "state": {
       "children": [
        "IPY_MODEL_948dcc76b9e448c8892f2175a79472f8",
        "IPY_MODEL_9d9b4bb489f74fe697e2550f7006b61e"
       ],
       "layout": "IPY_MODEL_c784b841b08d40739eebab851f620b9b"
      }
     },
     "ea6d85d880284cf8acb4b35756806b71": {
      "model_module": "@jupyter-widgets/controls",
      "model_module_version": "1.5.0",
      "model_name": "IntProgressModel",
      "state": {
       "layout": "IPY_MODEL_a4807acb1e9c4af7814699e05670889a",
       "max": 50,
       "style": "IPY_MODEL_e12feb6647484bf38d217e0bb4936e92",
       "value": 25
      }
     },
     "eab11fb3ada64e8a9388073403b3a8a2": {
      "model_module": "@jupyter-widgets/controls",
      "model_module_version": "1.5.0",
      "model_name": "DescriptionStyleModel",
      "state": {
       "description_width": ""
      }
     },
     "eb01ac0df0ea41448218ed876a9a8e12": {
      "model_module": "@jupyter-widgets/base",
      "model_module_version": "1.2.0",
      "model_name": "LayoutModel",
      "state": {
       "align_items": "center",
       "justify_content": "center",
       "margin": "0px 0px 0px 0px",
       "max_height": "250px",
       "max_width": "250px",
       "min_height": "250px",
       "min_width": "250px"
      }
     },
     "ec433fb133074002809c7802373b8ea7": {
      "model_module": "@jupyter-widgets/controls",
      "model_module_version": "1.5.0",
      "model_name": "TabModel",
      "state": {
       "layout": "IPY_MODEL_86c4d200531b4203b0e6fc15dc643cec"
      }
     },
     "ec97973233fd48f3afe473dc0765e29a": {
      "model_module": "@jupyter-widgets/controls",
      "model_module_version": "1.5.0",
      "model_name": "DescriptionStyleModel",
      "state": {
       "description_width": ""
      }
     },
     "eca3a259691748ff82fe2e88aeead8ad": {
      "model_module": "@jupyter-widgets/base",
      "model_module_version": "1.2.0",
      "model_name": "LayoutModel",
      "state": {
       "grid_area": "middle"
      }
     },
     "ecef059d2b3842fa822da9409c828f53": {
      "model_module": "@jupyter-widgets/controls",
      "model_module_version": "1.5.0",
      "model_name": "VBoxModel",
      "state": {
       "children": [
        "IPY_MODEL_b450d3a48c284794878fd7b42abc301c",
        "IPY_MODEL_47e3f181540b4bada54b5cb1f0900d86"
       ],
       "layout": "IPY_MODEL_22050bb823324140992bcb9e1c147c4a"
      }
     },
     "ecfec553ff174435a7de3b54af60599c": {
      "model_module": "@jupyter-widgets/controls",
      "model_module_version": "1.5.0",
      "model_name": "HTMLModel",
      "state": {
       "layout": "IPY_MODEL_57df1b2fe5624ad0bde3a2e6d054be44",
       "style": "IPY_MODEL_c13da6c08663429e86cbf1d8b104e0e7",
       "value": "<h5 style='color:#34bc6e'>True</h5>"
      }
     },
     "edd7e86e15c3448f92dce8bf748f8e07": {
      "model_module": "@jupyter-widgets/base",
      "model_module_version": "1.2.0",
      "model_name": "LayoutModel",
      "state": {}
     },
     "ee1a68e9dec2453baceb126dc652d781": {
      "model_module": "@jupyter-widgets/base",
      "model_module_version": "1.2.0",
      "model_name": "LayoutModel",
      "state": {
       "min_width": "auto"
      }
     },
     "eea67c3a04ad46d490c7670238126b7a": {
      "model_module": "@jupyter-widgets/controls",
      "model_module_version": "1.5.0",
      "model_name": "HTMLModel",
      "state": {
       "layout": "IPY_MODEL_5530b04752044ac792faa0a9aa599216",
       "style": "IPY_MODEL_5125f0b39281420dad24d8b1c0964091",
       "value": "<h5>Job ID</h5>"
      }
     },
     "eed0a88370b242339960b414c84b9fb8": {
      "model_module": "@jupyter-widgets/controls",
      "model_module_version": "1.5.0",
      "model_name": "HTMLModel",
      "state": {
       "layout": "IPY_MODEL_2fe6f394e6ec49deaaa5fc666ddb1a64",
       "style": "IPY_MODEL_52d3f965149b4e768778a1ee7a93049a",
       "value": "<h5>76.7 / 121.6 us</h5>"
      }
     },
     "ef931139c55f4461ae1594bbb405d41e": {
      "model_module": "@jupyter-widgets/controls",
      "model_module_version": "1.5.0",
      "model_name": "HBoxModel",
      "state": {
       "children": [
        "IPY_MODEL_3f1ec12d90ff48c99276fdca6c884b7f",
        "IPY_MODEL_6f702abb6b7d495c99b325bed4c048ec",
        "IPY_MODEL_7feef77b88d0491e81e2587005527b8c"
       ],
       "layout": "IPY_MODEL_79095be0cd354090b8df86245cc7193c"
      }
     },
     "efb343b50cf749d4baa0c406d4f00bb4": {
      "model_module": "@jupyter-widgets/base",
      "model_module_version": "1.2.0",
      "model_name": "LayoutModel",
      "state": {
       "margin": "295px 0px 0px 0px",
       "min_width": "100px"
      }
     },
     "efedc313b6144db6bcefedbab9469b38": {
      "model_module": "@jupyter-widgets/controls",
      "model_module_version": "1.5.0",
      "model_name": "HBoxModel",
      "state": {
       "children": [
        "IPY_MODEL_dc3c3bebea63431c89c69849591dde82",
        "IPY_MODEL_9df2ac41e54241649f005edc22d59d0f",
        "IPY_MODEL_e72d5cf7d552405a901660774de7c55d"
       ],
       "layout": "IPY_MODEL_1c8752b7e74e4b429c1d8f1cc5bcedba"
      }
     },
     "f147170ed75c472ba8250811586d2095": {
      "model_module": "@jupyter-widgets/controls",
      "model_module_version": "1.5.0",
      "model_name": "HBoxModel",
      "state": {
       "children": [
        "IPY_MODEL_62cc52b67ec74057a901e69b907f5c10",
        "IPY_MODEL_cbac2aba8ae0462bb490a7c11f5a289f",
        "IPY_MODEL_87be6d7f2e3a449fb2d9eee9cffe10c7"
       ],
       "layout": "IPY_MODEL_34d317e573c843a5996660e07a980325"
      }
     },
     "f15213945aba4f19ae3f9ca1a0330ba0": {
      "model_module": "@jupyter-widgets/base",
      "model_module_version": "1.2.0",
      "model_name": "LayoutModel",
      "state": {
       "justify_content": "center"
      }
     },
     "f2b67de7c5c14b86b25301bd0483c868": {
      "model_module": "@jupyter-widgets/base",
      "model_module_version": "1.2.0",
      "model_name": "LayoutModel",
      "state": {
       "width": "145px"
      }
     },
     "f2d0c80e784849d685e55db1928b8941": {
      "model_module": "@jupyter-widgets/controls",
      "model_module_version": "1.5.0",
      "model_name": "DescriptionStyleModel",
      "state": {
       "description_width": ""
      }
     },
     "f33c9b63c5054ba982e97c83c70d1e57": {
      "model_module": "@jupyter-widgets/controls",
      "model_module_version": "1.5.0",
      "model_name": "HTMLModel",
      "state": {
       "layout": "IPY_MODEL_f15213945aba4f19ae3f9ca1a0330ba0",
       "style": "IPY_MODEL_066a4644136743d1abf46da6a756ae57",
       "value": "<h5><b>5</b></h5>"
      }
     },
     "f39b94ae7c1143fcbcabc2121d721aa5": {
      "model_module": "@jupyter-widgets/base",
      "model_module_version": "1.2.0",
      "model_name": "LayoutModel",
      "state": {
       "width": "70px"
      }
     },
     "f3cfc424e9454d01a37230218af449c5": {
      "model_module": "@jupyter-widgets/controls",
      "model_module_version": "1.5.0",
      "model_name": "DescriptionStyleModel",
      "state": {
       "description_width": ""
      }
     },
     "f4d62d4a0ce44761a6482a58505c6c78": {
      "model_module": "@jupyter-widgets/base",
      "model_module_version": "1.2.0",
      "model_name": "LayoutModel",
      "state": {
       "grid_area": "bottom",
       "width": "auto"
      }
     },
     "f51ad478a00f4950a7bdeeaafe131630": {
      "model_module": "@jupyter-widgets/controls",
      "model_module_version": "1.5.0",
      "model_name": "DescriptionStyleModel",
      "state": {
       "description_width": ""
      }
     },
     "f5d0681281f54929826d110c4b7d112d": {
      "model_module": "@jupyter-widgets/controls",
      "model_module_version": "1.5.0",
      "model_name": "DescriptionStyleModel",
      "state": {
       "description_width": ""
      }
     },
     "f67a028e1c3b4a8fac54026cac8af551": {
      "model_module": "@jupyter-widgets/controls",
      "model_module_version": "1.5.0",
      "model_name": "DescriptionStyleModel",
      "state": {
       "description_width": ""
      }
     },
     "f69d8c62ae52483ead09ed4ec36e6c0f": {
      "model_module": "@jupyter-widgets/base",
      "model_module_version": "1.2.0",
      "model_name": "LayoutModel",
      "state": {
       "align_items": "center",
       "justify_content": "center",
       "margin": "0px 0px 0px 0px",
       "max_height": "250px",
       "max_width": "250px",
       "min_height": "250px",
       "min_width": "250px"
      }
     },
     "f9a19c08a1a348cea291b3c1ff9ecb03": {
      "model_module": "@jupyter-widgets/controls",
      "model_module_version": "1.5.0",
      "model_name": "HTMLModel",
      "state": {
       "layout": "IPY_MODEL_2a154175f21e4ead9ea1c1aa975353e5",
       "style": "IPY_MODEL_8b5782419b3c4ab587ebeb3b02ae529b",
       "value": "<h5>0.0059</h5>"
      }
     },
     "fa420d0e4af14271b3c79c9c875f89fa": {
      "model_module": "@jupyter-widgets/base",
      "model_module_version": "1.2.0",
      "model_name": "LayoutModel",
      "state": {}
     },
     "faabb9b84d2745bba84fd64fe3bac21b": {
      "model_module": "@jupyter-widgets/controls",
      "model_module_version": "1.5.0",
      "model_name": "DescriptionStyleModel",
      "state": {
       "description_width": ""
      }
     },
     "fb2ee7e908c64523972c3f3e491c409e": {
      "model_module": "@jupyter-widgets/base",
      "model_module_version": "1.2.0",
      "model_name": "LayoutModel",
      "state": {
       "align_items": "center",
       "justify_content": "center",
       "margin": "0px 0px 0px 0px",
       "max_height": "250px",
       "max_width": "250px",
       "min_height": "250px",
       "min_width": "250px"
      }
     },
     "fb7ba77e768a4ae984e9865369fb21af": {
      "model_module": "@jupyter-widgets/controls",
      "model_module_version": "1.5.0",
      "model_name": "HTMLModel",
      "state": {
       "layout": "IPY_MODEL_823435b39ad644a1a26dcf5d6e69bdbc",
       "style": "IPY_MODEL_5b82943d557647df8d68c085e00fb03c",
       "value": "<h5>0.0443</h5>"
      }
     },
     "fb98facfbd2b47e28daeb7adc08e6db5": {
      "model_module": "@jupyter-widgets/base",
      "model_module_version": "1.2.0",
      "model_name": "LayoutModel",
      "state": {}
     },
     "fc6a85355380465b9c4d7e18cf08e41a": {
      "model_module": "@jupyter-widgets/controls",
      "model_module_version": "1.5.0",
      "model_name": "LabelModel",
      "state": {
       "layout": "IPY_MODEL_0d264a4d2f014318be3ed6d0399714e2",
       "style": "IPY_MODEL_5689a4386c44479bbdbcb1a95ed9f47b",
       "value": "2036"
      }
     },
     "fe0e7315ebd549909f6e966bb484a292": {
      "model_module": "@jupyter-widgets/controls",
      "model_module_version": "1.5.0",
      "model_name": "HBoxModel",
      "state": {
       "children": [
        "IPY_MODEL_66f575875b3c480c9ba1194d137d73a3",
        "IPY_MODEL_be73d66f612d4dadb3f11786af238dfc",
        "IPY_MODEL_41fe09637fbb4d2ab81f1192ac497783",
        "IPY_MODEL_7f307333d31e4700b17c32d6263675b8",
        "IPY_MODEL_60b7bc70f4ce40619b190438d0bc6b09",
        "IPY_MODEL_3f47597d130347d7963d72002d237d6c"
       ],
       "layout": "IPY_MODEL_16d2f7a1d0cb4d9f9a45a13f2e72111d"
      }
     },
     "fe160d9d5a1f4b1a9179db28d1c80efe": {
      "model_module": "@jupyter-widgets/base",
      "model_module_version": "1.2.0",
      "model_name": "LayoutModel",
      "state": {
       "margin": "0px 0px 10px 0px"
      }
     },
     "fe860f4e49184bad88b5f9ed93654517": {
      "model_module": "@jupyter-widgets/base",
      "model_module_version": "1.2.0",
      "model_name": "LayoutModel",
      "state": {
       "min_width": "auto"
      }
     },
     "ff8ab4b6926d44e2928a9411dbde024f": {
      "model_module": "@jupyter-widgets/controls",
      "model_module_version": "1.5.0",
      "model_name": "LabelModel",
      "state": {
       "layout": "IPY_MODEL_ee1a68e9dec2453baceb126dc652d781",
       "style": "IPY_MODEL_37935484aaa94005a6a8b7fe8e92c813",
       "value": "104"
      }
     }
    },
    "version_major": 2,
    "version_minor": 0
   }
  }
 },
 "nbformat": 4,
 "nbformat_minor": 4
}
