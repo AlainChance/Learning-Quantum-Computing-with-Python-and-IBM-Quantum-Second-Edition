{
 "cells": [
  {
   "cell_type": "code",
   "execution_count": null,
   "metadata": {},
   "outputs": [],
   "source": [
    "%matplotlib inline\n",
    "# Importing standard Qiskit libraries and configuring account\n",
    "from qiskit import QuantumCircuit, execute, Aer, IBMQ\n",
    "from qiskit.compiler import transpile, assemble\n",
    "from qiskit.tools.jupyter import *\n",
    "from qiskit.visualization import *\n",
    "# Loading your IBM Q account(s)\n",
    "provider = IBMQ.load_account()"
   ]
  },
  {
   "cell_type": "markdown",
   "metadata": {},
   "source": [
    "# Chapter 8 - Terra"
   ]
  },
  {
   "cell_type": "code",
   "execution_count": null,
   "metadata": {},
   "outputs": [],
   "source": [
    "# Import registers\n",
    "from qiskit import QuantumRegister, ClassicalRegister\n",
    "\n",
    "qr = QuantumRegister(2, 'my_QR')\n",
    "cr = ClassicalRegister(2, 'my_CR')\n",
    "qc = QuantumCircuit(qr,cr)\n",
    "qc.draw()\n"
   ]
  },
  {
   "cell_type": "code",
   "execution_count": null,
   "metadata": {},
   "outputs": [],
   "source": [
    "qc = QuantumCircuit(QuantumRegister(2, 'my_QR'), ClassicalRegister(2, 'my_CR'))"
   ]
  },
  {
   "cell_type": "code",
   "execution_count": null,
   "metadata": {},
   "outputs": [],
   "source": [
    "#Import the register classes\n",
    "from qiskit import QuantumRegister, ClassicalRegister\n",
    "#Create the quantum and classical registers, each with labels\n",
    "qr1 = QuantumRegister(2, name='qr1')\n",
    "cr1 = ClassicalRegister(2, name='cr1')\n",
    "#Create the quantum circuit using the registers\n",
    "qc1 = QuantumCircuit(qr1, cr1)\n",
    "#Draw the circuit\n",
    "qc1.draw()\n"
   ]
  },
  {
   "cell_type": "code",
   "execution_count": null,
   "metadata": {},
   "outputs": [],
   "source": [
    "#Create two Quantum and Classical registers\n",
    "qr2 = QuantumRegister(2, name='qr2')\n",
    "cr2 = ClassicalRegister(2, name='cr2')\n",
    "#Create a second circuit using the registers created above\n",
    "qc2 = QuantumCircuit(qr2, cr2)\n",
    "#Draw the second quantum circuit\n",
    "qc2.draw()\n"
   ]
  },
  {
   "cell_type": "code",
   "execution_count": null,
   "metadata": {},
   "outputs": [],
   "source": [
    "#Concatenate the two previous circuits to create a new circuit\n",
    "#Create an empty quantum circuit\n",
    "qc_combined = QuantumCircuit()\n",
    "#Add the two previous quantum and classical registers to the empty quantum circuit\n",
    "qc_combined.add_register(qr1, qr2, cr1, cr2)\n",
    "#Draw the concatenated circuit\n",
    "qc_combined.draw()\n"
   ]
  },
  {
   "cell_type": "code",
   "execution_count": null,
   "metadata": {},
   "outputs": [],
   "source": [
    "#Import the random_circuit class\n",
    "from qiskit.circuit.random import random_circuit\n",
    "#Construct the random circuit with the number of qubits = 3\n",
    "#with a depth = 2, and include the measurement operator for each qubit\n",
    "qc = random_circuit(3, 2, measure=True)\n",
    "#Draw the circuit\n",
    "qc.draw()\n"
   ]
  },
  {
   "cell_type": "code",
   "execution_count": null,
   "metadata": {},
   "outputs": [],
   "source": [
    "# Import the random circuit class\n",
    "from qiskit.circuit.random import random_circuit\n",
    "#Create two random circuits, each with 2 qubit registers and random #gate operator counts.\n",
    "qc1 = random_circuit(2,2)\n",
    "qc2 = random_circuit(2,4)\n",
    "#Concatenate the two random circuits\n",
    "qc = qc1.compose(qc2, [0,1])\n",
    "#Draw the circuit\n",
    "qc.draw()\n"
   ]
  },
  {
   "cell_type": "code",
   "execution_count": null,
   "metadata": {},
   "outputs": [],
   "source": [
    "#Define function to print circuit properties:\n",
    "def print_circuit_props(qc):\n",
    "    width = qc.width()\n",
    "    depth = qc.depth()\n",
    "    num_operators = qc.count_ops()\n",
    "    circuit_size = qc.size()\n",
    "    print('Width = ',width) \n",
    "    print('Depth = ', depth)\n",
    "    print('Circuit size = ',circuit_size)\n",
    "    print('Number of operators = ', num_operators)\n"
   ]
  },
  {
   "cell_type": "code",
   "execution_count": null,
   "metadata": {},
   "outputs": [],
   "source": [
    "#Pass our quantum circuit to print out the circuit properties\n",
    "print_circuit_props(qc)\n"
   ]
  },
  {
   "cell_type": "code",
   "execution_count": null,
   "metadata": {},
   "outputs": [],
   "source": [
    "#Use measure_all() to automatically add the barrier, measurement, and #classical register to our existing circuit.\n",
    "qc.measure_all()\n",
    "#Draw the circuit\n",
    "qc.draw()\n"
   ]
  },
  {
   "cell_type": "code",
   "execution_count": null,
   "metadata": {},
   "outputs": [],
   "source": [
    "#Print out the circuit properties\n",
    "print_circuit_props(qc)\n"
   ]
  },
  {
   "cell_type": "code",
   "execution_count": null,
   "metadata": {},
   "outputs": [],
   "source": [
    "qc = QuantumCircuit(3)\n",
    "qc.ccx(0,1,2)\n",
    "qc.draw()\n"
   ]
  },
  {
   "cell_type": "code",
   "execution_count": null,
   "metadata": {},
   "outputs": [],
   "source": [
    "#Print out the circuit properties\n",
    "print_circuit_props(qc)\n"
   ]
  },
  {
   "cell_type": "code",
   "execution_count": null,
   "metadata": {},
   "outputs": [],
   "source": [
    "#Print out the circuit properties\n",
    "print_circuit_props(qc.decompose())\n"
   ]
  },
  {
   "cell_type": "markdown",
   "metadata": {},
   "source": [
    "# Customization and Parameterization of circuits"
   ]
  },
  {
   "cell_type": "code",
   "execution_count": null,
   "metadata": {},
   "outputs": [],
   "source": [
    "#Create a custom two-qubit composite gate\n",
    "#Create the quantum register\n",
    "qr = QuantumRegister(2, name='qr_c')\n",
    "#Generate quantum circuit which will make up the composite gate\n",
    "comp_qc = QuantumCircuit(qr, name='My-composite')\n",
    "#Add any gates you wish to your composite gate\n",
    "comp_qc.h(0)\n",
    "comp_qc.cx(0, 1)\n",
    "#Create the composite instructions by converting \n",
    "#the QuantumCircuit to a list of Instructions\n",
    "composite_inst = comp_qc.to_instruction()\n",
    "#Draw the circuit which will represent the composite gate\n",
    "comp_qc.draw()\n"
   ]
  },
  {
   "cell_type": "code",
   "execution_count": null,
   "metadata": {},
   "outputs": [],
   "source": [
    "#Create your 2-qubit circuit to generate your composite gate\n",
    "qr2 = QuantumRegister(3, 'qr')\n",
    "#Create a quantum circuit using the quantum register\n",
    "qc = QuantumCircuit(qr2)\n",
    "#Add any arbitrary gates that would represent the function \n",
    "#of the composite gate \n",
    "qc.h(0)\n",
    "qc.cx(0,1)\n",
    "qc.cx(0,2)\n",
    "#Draw the composite circuit\n",
    "qc.draw()\n"
   ]
  },
  {
   "cell_type": "code",
   "execution_count": null,
   "metadata": {},
   "outputs": [],
   "source": [
    "#Append your composite gate to the specified qubits. \n",
    "qc.append(composite_inst, [qr2[0], qr2[1]])\n",
    "#Draw the complete circuit\n",
    "qc.draw()\n"
   ]
  },
  {
   "cell_type": "code",
   "execution_count": null,
   "metadata": {},
   "outputs": [],
   "source": [
    "#Import the Parameter object\n",
    "from qiskit.circuit import Parameter\n",
    "#Construct the Parameter set to Theta\n",
    "param_theta = Parameter('θ')\n",
    "#Create a two-qubit quantum circuit and add some gates\n",
    "qc = QuantumCircuit(2)\n",
    "qc.h(0)\n",
    "qc.cx(0, 1)\n",
    "#Include a rotation gate which we wish to apply \n",
    "#the Parameter value \n",
    "qc.rz(param_theta,0)\n",
    "qc.rz(param_theta,1)\n",
    "#Draw the circuit\n",
    "qc.draw()\n"
   ]
  },
  {
   "cell_type": "code",
   "execution_count": null,
   "metadata": {},
   "outputs": [],
   "source": [
    "import numpy as np\n",
    "#Bind the parameters with a value, in this case 2π\n",
    "qc = qc.bind_parameters({param_theta: 2*np.pi})\n",
    "#Draw the circuit with the set parameter values\n",
    "qc.draw()\n"
   ]
  },
  {
   "cell_type": "markdown",
   "metadata": {},
   "source": [
    "# Generating Pulse schedules on quantum hardware"
   ]
  },
  {
   "cell_type": "code",
   "execution_count": null,
   "metadata": {},
   "outputs": [],
   "source": [
    "#Import pulse classes\n",
    "from qiskit.pulse import Waveform, DriveChannel, Play, Schedule\n",
    "#Import some helpful utils\n",
    "from qiskit.scheduler.utils import measure_all\n"
   ]
  },
  {
   "cell_type": "code",
   "execution_count": null,
   "metadata": {},
   "outputs": [],
   "source": [
    "#Import numpy and generate the sin sample values\n",
    "import numpy as np\n",
    "x = np.linspace(0,2*np.pi,64)\n",
    "data = np.sin(x)\n",
    "#Generate our sample waveform \n",
    "waveform = Waveform(data, name=\"sin_64_pulse\")\n",
    "#Draw the generated sample waveform\n",
    "waveform.draw()\n"
   ]
  },
  {
   "cell_type": "code",
   "execution_count": null,
   "metadata": {},
   "outputs": [],
   "source": [
    "#Import the Gaussian Square pulse from Pulse Library\n",
    "from qiskit.pulse.library import GaussianSquare\n",
    "#Create a Gaussian Square pulse: \n",
    "#Args: duration, amp, sigma, width, name\n",
    "gaussian_square_pulse = GaussianSquare(128,1,2,112, name=\"gaussian square\")\n",
    "gaussian_square_pulse.draw()\n"
   ]
  },
  {
   "cell_type": "markdown",
   "metadata": {},
   "source": [
    "# Generating and executing Schedules"
   ]
  },
  {
   "cell_type": "code",
   "execution_count": null,
   "metadata": {},
   "outputs": [],
   "source": [
    "#Create the first schedule with our Gaussian Square pulse\n",
    "schedule_1 = Schedule(name='Schedule 1')\n",
    "schedule_1 = schedule_1.insert(0, Play(gaussian_square_pulse, DriveChannel(0)))\n",
    "#Draw the schedule\n",
    "schedule_1.draw()\n"
   ]
  },
  {
   "cell_type": "code",
   "execution_count": null,
   "metadata": {},
   "outputs": [],
   "source": [
    "#Create a second schedule with our sample waveform\n",
    "schedule_2 = Schedule(name='Schedule 2')\n",
    "schedule_2 = schedule_2.insert(0, Play(waveform, DriveChannel(0)))\n",
    "#Draw the schedule\n",
    "schedule_2.draw()\n"
   ]
  },
  {
   "cell_type": "code",
   "execution_count": null,
   "metadata": {},
   "outputs": [],
   "source": [
    "#Let's create a third schedule \n",
    "#Where we add the first schedule and second schedules\n",
    "#And shift the second to the right by a time of 5 after the first\n",
    "schedule_3 = schedule_1.insert(schedule_1.duration+5, schedule_2)\n",
    "schedule_3.draw()\n"
   ]
  },
  {
   "cell_type": "code",
   "execution_count": null,
   "metadata": {},
   "outputs": [],
   "source": [
    "#We could have also combined the two using the append operator\n",
    "#The two schedules are appended immediately after one another\n",
    "schedule_3_append = schedule_1.append(schedule_2)\n",
    "schedule_3_append.draw()\n"
   ]
  },
  {
   "cell_type": "markdown",
   "metadata": {},
   "source": [
    "# Scheduling existing quantum circuits"
   ]
  },
  {
   "cell_type": "code",
   "execution_count": null,
   "metadata": {},
   "outputs": [],
   "source": [
    "qc = QuantumCircuit(1, 1)\n",
    "qc.h(0)\n",
    "qc.measure(0,0)\n",
    "#Draw the circuit\n",
    "qc.draw()\n"
   ]
  },
  {
   "cell_type": "code",
   "execution_count": null,
   "metadata": {},
   "outputs": [],
   "source": [
    "#Import transpile and schedule\n",
    "from qiskit import transpile, schedule \n",
    "#Set the backend to ibmq_armonk\n",
    "backend = provider.get_backend('ibmq_armonk')\n",
    "#Transpile the circuit using basis gates from the specified backend\n",
    "transpiled_qc = transpile(qc, backend)  \n",
    "#Draw the transpiled circuit\n",
    "transpiled_qc.draw()\n"
   ]
  },
  {
   "cell_type": "code",
   "execution_count": null,
   "metadata": {},
   "outputs": [],
   "source": [
    "#Create the circuit schedule using the transpiled circuit\n",
    "circuit_schedule = schedule(transpiled_qc, backend)\n",
    "#Draw the circuit\n",
    "circuit_schedule.draw()\n"
   ]
  },
  {
   "cell_type": "code",
   "execution_count": null,
   "metadata": {},
   "outputs": [],
   "source": [
    "#Draw the circuit with a shorter time range to ease visibility\n",
    "circuit_schedule.draw(time_range=[0, 1500])\n"
   ]
  },
  {
   "cell_type": "code",
   "execution_count": null,
   "metadata": {},
   "outputs": [],
   "source": [
    "#Create a 2-qubit circuit\n",
    "qc2 = QuantumCircuit(2, 2)\n",
    "#Apply a Hadamard to the first qubit\n",
    "qc2.h(0)\n",
    "#Apply a CNOT gate where the Source is qubit 0, and Target qubit 1\n",
    "qc2.cx(0, 1)\n",
    "#Add measurement gates to all qubits\n",
    "qc2.measure([0, 1], [0, 1])\n",
    "#Draw the circuit\n",
    "qc2.draw()\n"
   ]
  },
  {
   "cell_type": "code",
   "execution_count": null,
   "metadata": {},
   "outputs": [],
   "source": [
    "#Import the test backend\n",
    "from qiskit.test.mock import FakeAlmaden\n",
    "#Construct the backend\n",
    "backend = FakeAlmaden()\n",
    "#Transpile the circuit to the test backend and its basis states\n",
    "transpiled_qc2 = transpile(qc2, backend)\n",
    "#Draw the transpiled circuit\n",
    "transpiled_qc2.draw()\n"
   ]
  },
  {
   "cell_type": "code",
   "execution_count": null,
   "metadata": {},
   "outputs": [],
   "source": [
    "#Create the circuit from the transpiled circuit results\n",
    "circuit_schedule2 = schedule(transpiled_qc2, backend)\n",
    "#Draw the 2-qubit circuit schedule with range of 2000 time steps\n",
    "circuit_schedule2.draw(time_range=[0, 2000])\n"
   ]
  },
  {
   "cell_type": "markdown",
   "metadata": {},
   "source": [
    "# Leveraging Provider information"
   ]
  },
  {
   "cell_type": "code",
   "execution_count": null,
   "metadata": {},
   "outputs": [],
   "source": [
    "#Import the IBMQ interface\n",
    "from qiskit import IBMQ\n",
    "\n",
    "#Save account ONLY needed if running on a local system for first time\n",
    "#Uncomment below if running for the first time on a local machine.\n",
    "#IBMQ.save_account('API_TOKEN') \n",
    "\n",
    "#Load the account which was saved on local system using save_account.\n",
    "#Note: this is handled each time a Qiskit Notebook is loaded on IQX.\n",
    "IBMQ.load_account()\n"
   ]
  },
  {
   "cell_type": "code",
   "execution_count": null,
   "metadata": {},
   "outputs": [],
   "source": [
    "#Indicate a hub to link account to:\n",
    "IBMQ.get_provider(hub='ibm-q')\n",
    "#Indicate a project which your account is associated with\n",
    "IBMQ.get_provider(project='main')\n"
   ]
  },
  {
   "cell_type": "code",
   "execution_count": null,
   "metadata": {},
   "outputs": [],
   "source": [
    "#Create the Provider object using the IBMQ interface \n",
    "provider = IBMQ.get_provider(group='open')\n",
    "#Query the list of backends available to your account\n",
    "provider.backends()\n"
   ]
  },
  {
   "cell_type": "code",
   "execution_count": null,
   "metadata": {},
   "outputs": [],
   "source": [
    "#Filter the list of backends to include only non-simulator, \n",
    "#and operational (meaning, not offline or under maintenance)\n",
    "provider.backends(simulator=False, operational=True)\n"
   ]
  },
  {
   "cell_type": "code",
   "execution_count": null,
   "metadata": {},
   "outputs": [],
   "source": [
    "#Select a specific device from the provider\n",
    "backend = provider.get_backend('ibmq_santiago')\n"
   ]
  },
  {
   "cell_type": "code",
   "execution_count": null,
   "metadata": {},
   "outputs": [],
   "source": [
    "#Import the least_busy function\n",
    "from qiskit.providers.ibmq import least_busy\n",
    "\n",
    "#Identify the least busy devices \n",
    "#smaller than 2 qubits and not a simulator\n",
    "small_devices = provider.backends(filters=lambda x: x.configuration().n_qubits < 2 and not x.configuration().simulator)\n",
    "\n",
    "#Identify the least busy devices \n",
    "#larger than 4 qubits and not a simulator\n",
    "large_devices = provider.backends(filters=lambda x: x.configuration().n_qubits > 4 and not x.configuration().simulator)\n",
    "\n",
    "#Print the least busy devices\n",
    "print('The least busy small devices: {}'.format(least_busy(small_devices)))\n",
    "print('The least busy large devices: {}'.format(least_busy(large_devices)))\n"
   ]
  },
  {
   "cell_type": "markdown",
   "metadata": {},
   "source": [
    "# Quantum backend components"
   ]
  },
  {
   "cell_type": "code",
   "execution_count": null,
   "metadata": {},
   "outputs": [],
   "source": [
    "#Set ibmq_valencia as the backend, or whichever backend you wish\n",
    "backend = provider.get_backend('ibmq_lima')\n",
    "#Confirm this is the backend selected by querying for its name,\n",
    "backend.name()\n"
   ]
  },
  {
   "cell_type": "code",
   "execution_count": null,
   "metadata": {},
   "outputs": [],
   "source": [
    "#View the status of the backend\n",
    "status = backend.status()\n",
    "is_operational = status.operational\n",
    "jobs_in_queue = status.pending_jobs\n",
    "print('Number of pending jobs in the queue: ', jobs_in_queue)\n"
   ]
  },
  {
   "cell_type": "code",
   "execution_count": null,
   "metadata": {},
   "outputs": [],
   "source": [
    "#View the configuration of the backend\n",
    "backend.configuration()\n",
    "backend\n"
   ]
  },
  {
   "cell_type": "code",
   "execution_count": null,
   "metadata": {},
   "outputs": [],
   "source": [
    "# Display the number of qubits from the backend properties\n",
    "backend.properties().qubits\n"
   ]
  },
  {
   "cell_type": "code",
   "execution_count": null,
   "metadata": {},
   "outputs": [],
   "source": [
    "#Print out the frequency of qubit (0)\n",
    "print('Frequency of first qubit is: '+ str(backend.properties().frequency(0)))\n",
    "#Print out the readout error of qubit (0)\n",
    "print('Readout error of first qubit is: '+ str(backend.properties().readout_error(0)))\n"
   ]
  },
  {
   "cell_type": "code",
   "execution_count": null,
   "metadata": {},
   "outputs": [],
   "source": [
    "#Run a few jobs on this backend to generate jobs on the backend\n",
    "qc = QuantumCircuit(1)\n",
    "qc.h(0)\n",
    "qc.measure_all()\n",
    "qc.draw()"
   ]
  },
  {
   "cell_type": "code",
   "execution_count": null,
   "metadata": {},
   "outputs": [],
   "source": [
    "# Launch the job watcher widget\n",
    "%qiskit_job_watcher\n",
    "\n",
    "job_list = []\n",
    "for i in range(0,1):\n",
    "    job = execute(qc, backend, shots=1024)\n",
    "    job_list.append(job)\n",
    "    result = job.result()\n",
    "    #result = execute(qc, backend, shots=1024).result()"
   ]
  },
  {
   "cell_type": "code",
   "execution_count": null,
   "metadata": {},
   "outputs": [],
   "source": [
    "print(job_list)"
   ]
  },
  {
   "cell_type": "markdown",
   "metadata": {},
   "source": [
    "# Understanding the Job component"
   ]
  },
  {
   "cell_type": "code",
   "execution_count": null,
   "metadata": {},
   "outputs": [],
   "source": [
    "#From the previous output of executed jobs, enter its job id.\n",
    "job = backend.retrieve_job(executed_job.job_id())\n"
   ]
  },
  {
   "cell_type": "code",
   "execution_count": null,
   "metadata": {},
   "outputs": [],
   "source": [
    "#Print the job instance status\n",
    "job.status()\n"
   ]
  },
  {
   "cell_type": "code",
   "execution_count": null,
   "metadata": {},
   "outputs": [],
   "source": [
    "job.result()"
   ]
  },
  {
   "cell_type": "code",
   "execution_count": null,
   "metadata": {},
   "outputs": [],
   "source": [
    "job.backend()"
   ]
  },
  {
   "cell_type": "code",
   "execution_count": null,
   "metadata": {},
   "outputs": [],
   "source": [
    "import qiskit.tools.jupyter\n",
    "%qiskit_version_table"
   ]
  },
  {
   "cell_type": "code",
   "execution_count": null,
   "metadata": {},
   "outputs": [],
   "source": []
  }
 ],
 "metadata": {
  "kernelspec": {
   "display_name": "Qiskit v0.34.1 (ipykernel)",
   "language": "python",
   "name": "python3"
  },
  "language_info": {
   "codemirror_mode": {
    "name": "ipython",
    "version": 3
   },
   "file_extension": ".py",
   "mimetype": "text/x-python",
   "name": "python",
   "nbconvert_exporter": "python",
   "pygments_lexer": "ipython3",
   "version": "3.8.12"
  },
  "widgets": {
   "application/vnd.jupyter.widget-state+json": {
    "state": {},
    "version_major": 2,
    "version_minor": 0
   }
  }
 },
 "nbformat": 4,
 "nbformat_minor": 4
}
