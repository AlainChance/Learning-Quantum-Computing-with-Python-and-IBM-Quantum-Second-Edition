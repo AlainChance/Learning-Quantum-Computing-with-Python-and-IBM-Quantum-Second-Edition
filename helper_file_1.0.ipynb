{
 "cells": [
  {
   "cell_type": "markdown",
   "id": "fc2e29ae-3acb-4a56-a2a0-d04ba37521e7",
   "metadata": {},
   "source": [
    "# Quantum helper file\n",
    "This Jupyter notebook contains various helper functions to allow ease of use and to update as code changes progress and evolve. Rather than changing code across all chapters, this will serve as a single source of reference for all functionality.\n",
    "\n",
    "This Jupyter notebook has been updated to work with the upgraded IBM Quantum® Platform, Python 3.13, Qiskit 2.1, Qiskit Runtime 0.40, and Qiskit Aer 0.17.\n",
    "|||\n",
    "|-|-|\n",
    "|**Author:** |Robert Loredo|\n",
    "|**Reviewer:** |Alain Chancé|\n",
    "|**Date:** |August 28, 2025|\n",
    "|**Version:** |**2.00**<br/>*Details see at the end of this notebook*|\n",
    "|**References:**|\n",
    "[Robert Loredo, Learn Quantum Computing with Python and IBM Quantum: Write your own practical quantum programs with Python, Second Edition, Packt, Feb 25, 2025](https://www.packtpub.com/en-us/product/learn-quantum-computing-with-python-and-ibm-quantum-9781803240923)\n",
    "[Learning-Quantum-Computing-with-Python-and-IBM-Quantum-Second-Edition/helper_file_1.0.ipynb](https://github.com/PacktPublishing/Learning-Quantum-Computing-with-Python-and-IBM-Quantum-Second-Edition/blob/main/helper_file_1.0.ipynb)\n",
    "[Packt's code repository for the book](https://github.com/PacktPublishing/Learning-Quantum-Computing-with-Python-and-IBM-Quantum-Second-Edition)\n",
    "[LICENSE](https://github.com/PacktPublishing/Learning-Quantum-Computing-with-Python-and-IBM-Quantum-Second-Edition/blob/main/LICENSE)\n",
    "[StatevectorSampler](https://docs.quantum.ibm.com/api/qiskit/qiskit.primitives.StatevectorSampler)\n",
    "[Exact simulation with Qiskit SDK primitives - Get the probability distribution or measurement outcome](https://docs.quantum.ibm.com/guides/simulate-with-qiskit-sdk-primitives#get-the-probability-distribution-or-measurement-outcome)\n",
    "[StatevectorSampler #2219](https://github.com/Qiskit/qiskit-aer/issues/2219)\n",
    "<br/>"
   ]
  },
  {
   "cell_type": "code",
   "execution_count": 1,
   "id": "a43ded54",
   "metadata": {},
   "outputs": [],
   "source": [
    "# Load helper file\n",
    "%run setup_save_account.ipynb\n"
   ]
  },
  {
   "cell_type": "code",
   "execution_count": 2,
   "id": "11f3591c-3506-4252-8abc-586e1a17067f",
   "metadata": {
    "tags": []
   },
   "outputs": [],
   "source": [
    "# Import libraries and objects\n",
    "from qiskit import QuantumCircuit, transpile\n",
    "from qiskit_ibm_runtime import QiskitRuntimeService, SamplerV2 as Sampler\n",
    "from qiskit_ibm_runtime import Options\n",
    "from qiskit_ibm_runtime import Session\n",
    "from qiskit.primitives import StatevectorSampler\n",
    "from qiskit.providers.basic_provider import BasicSimulator\n",
    "from qiskit.quantum_info import Statevector\n",
    "from qiskit_ibm_runtime.fake_provider import FakeManilaV2\n",
    "from qiskit.transpiler.preset_passmanagers import generate_preset_pass_manager\n",
    "from qiskit.visualization import *\n",
    "\n",
    "# Added by Alain Chancé\n",
    "import qiskit.quantum_info as qi\n",
    "\n",
    "\n",
    "service = QiskitRuntimeService()"
   ]
  },
  {
   "cell_type": "code",
   "execution_count": 3,
   "id": "f207b68e",
   "metadata": {},
   "outputs": [],
   "source": [
    "from qiskit import QuantumCircuit, ClassicalRegister\n",
    "from qiskit.providers.fake_provider import GenericBackendV2\n",
    "\n",
    "def create_circuit(num_qubits, add_measurements):\n",
    "\n",
    "    # Create a circuit with classical control\n",
    "    meas = ClassicalRegister(num_qubits)\n",
    "    qc = QuantumCircuit(num_qubits)\n",
    "    qc.add_register(meas)\n",
    "    if add_measurements:\n",
    "        for i in range(num_qubits):\n",
    "            qc.measure(i, meas[i])\n",
    " \n",
    "    # Define backend with custom basis gates\n",
    "    #backend = GenericBackendV2(\n",
    "     #   num_qubits=num_qubits,\n",
    "     #   basis_gates=[\"ecr\", \"id\", \"rz\", \"sx\", \"x\"],\n",
    "     #   control_flow=True,\n",
    "    #)\n",
    " \n",
    "    return qc"
   ]
  },
  {
   "cell_type": "code",
   "execution_count": 4,
   "id": "735525bf",
   "metadata": {},
   "outputs": [],
   "source": [
    "# Run a Statevector simulator: \n",
    "def run_sv_simulator(qc):\n",
    "    from qiskit.quantum_info import Statevector\n",
    "    statevector = Statevector(qc)\n",
    "    return statevector \n",
    "\n"
   ]
  },
  {
   "cell_type": "code",
   "execution_count": 5,
   "id": "01a7878d",
   "metadata": {},
   "outputs": [],
   "source": [
    "# Run a Unitary simulator: \n",
    "def run_unitary_simulator(qc):\n",
    "    from qiskit.quantum_info import Operator\n",
    "    result = Operator(qc).data\n",
    "    return result\n"
   ]
  },
  {
   "cell_type": "code",
   "execution_count": 6,
   "id": "b350b827",
   "metadata": {},
   "outputs": [],
   "source": [
    "# Run a QASM simulator: \n",
    "def run_qasm_simulator(qc):\n",
    "    from qiskit.providers.basic_provider import BasicSimulator\n",
    "    backend = BasicSimulator()  \n",
    "    result = backend.run(qc).result()\n",
    "    return result\n"
   ]
  },
  {
   "cell_type": "code",
   "execution_count": 7,
   "id": "119dbfb4",
   "metadata": {},
   "outputs": [],
   "source": [
    "# Execute circuit on the the State vector sampler\n",
    "def run_sv_circuit(qc):\n",
    "    # Run the circuit and return the state vector object result\n",
    "    stateVectorResult = Statevector(qc)\n",
    "    #qsphere = stateVectorResult.draw('qsphere')\n",
    "    #bloch_sphere = stateVectorResult.draw('bloch')\n",
    "    #circuit_image = qc.draw(output='mpl')\n",
    "    return stateVectorResult\n",
    "    "
   ]
  },
  {
   "cell_type": "code",
   "execution_count": 8,
   "id": "9abb90eb",
   "metadata": {},
   "outputs": [],
   "source": [
    "# Execute circuit on the Basic Aer qasm simulator, RENAMED from run_qasm_circuit to run_simulated_circuit\n",
    "# Modified by Alain Chancé\n",
    "#def run_simulated_circuit(qc, backend, options):\n",
    "def run_simulated_circuit(qc, backend):\n",
    "    #Check if option object is set\n",
    "    #if options == None:\n",
    "        #options = Options(optimization_level=3)\n",
    "    \n",
    "    #Check if backend is defined\n",
    "    if backend == None:\n",
    "        #backend = BasicSimulator()\n",
    "        backend = AerSimulator(method='statevector')\n",
    "    \n",
    "    transpiled_qc = transpile(qc, backend)\n",
    "    result = backend.run(transpiled_qc).result()\n",
    "\n",
    "    stateVectorResult = qi.Statevector.from_instruction(transpiled_qc)\n",
    "    \n",
    "    return transpiled_qc, result, stateVectorResult"
   ]
  },
  {
   "cell_type": "code",
   "execution_count": 9,
   "id": "5a99f1fd",
   "metadata": {},
   "outputs": [],
   "source": [
    "# Execute circuit on the Basic Aer qasm simulator\n",
    "def simulate_on_sampler(qc, backend, options):\n",
    "\n",
    "    # Construct an ideal simulator with Sampler \n",
    "    from qiskit.primitives import StatevectorSampler\n",
    "    sampler = StatevectorSampler()\n",
    "\n",
    "    # Transpile circuit\n",
    "    pm = generate_preset_pass_manager(optimization_level=1)\n",
    "    transpiled_qc = pm.run(qc)\n",
    "\n",
    "    # Run using sampler\n",
    "    state_vector_result = sampler.run([qc])\n",
    "    \n",
    "    result = state_vector_result.result()\n",
    "    \n",
    "    return transpiled_qc, result, state_vector_result"
   ]
  },
  {
   "cell_type": "code",
   "execution_count": 10,
   "id": "b4fa2390-1bd0-4285-aa34-e2d56fd08ede",
   "metadata": {
    "tags": []
   },
   "outputs": [],
   "source": [
    "# Execute a circuit on a real backend - Sampler\n",
    "def execute_circuit(qc, simulator, service, backend, options):\n",
    "    # If executing on a qasm simulator\n",
    "    if simulator:\n",
    "        # Modified by Alain Chancé\n",
    "        #return run_qasm_circuit(qc, backend, options)\n",
    "        return run_qasm_simulator(qc)\n",
    "    \n",
    "    if options == None:\n",
    "        options = Options(optimization_level=3)\n",
    "    \n",
    "    with Session(service=service, backend=backend) as session:\n",
    "        # Submit a request to the Sampler primitive within the session.\n",
    "        sampler = Sampler(session=session, options=options)\n",
    "        job = sampler.run(circuits=qc)\n",
    "        result = job.result()\n",
    "        return result"
   ]
  },
  {
   "cell_type": "code",
   "execution_count": 11,
   "id": "e9f7cf98",
   "metadata": {},
   "outputs": [],
   "source": [
    "# Will run the circuit on the state vector (sv) simulator\n",
    "# Returns state vector results, circuit diagram, Sphere & Bloch sphere \n",
    "def execute_circuit_sv(quantum_circuit):\n",
    "    stateVectorResults = run_sv_circuit(quantum_circuit)\n",
    "    \n",
    "    #Draw the circuit diagram\n",
    "    circuit_diagram = quantum_circuit.draw(output=\"mpl\")\n",
    "    #Draw the Qsphere \n",
    "    q_sphere = stateVectorResults.draw('qsphere')\n",
    "    #Draw the Bloch sphere \n",
    "    bloch_sphere = stateVectorResults.draw('bloch')   \n",
    "    #Return the results, circuit diagram, and QSphere\t\t\n",
    "    return stateVectorResults, circuit_diagram, q_sphere, bloch_sphere"
   ]
  },
  {
   "cell_type": "code",
   "execution_count": 12,
   "id": "36177fe7",
   "metadata": {},
   "outputs": [],
   "source": [
    "# Will execute the circuit on the qasm simulator\n",
    "# Returns results, circuit diagram, and histogram \n",
    "def execute_circuit_returns(quantum_circuit):\n",
    "    # Modified by Alain Chancé\n",
    "    # StatevectorSampler, https://docs.quantum.ibm.com/api/qiskit/qiskit.primitives.StatevectorSampler\n",
    "    \n",
    "    #from qiskit.primitives import Sampler\n",
    "    from qiskit.primitives import StatevectorSampler\n",
    "    \n",
    "    #sampler = Sampler()\n",
    "    # Construct an ideal simulator with SamplerV2\n",
    "    sampler = StatevectorSampler()\n",
    " \n",
    "    #result = sampler.run(quantum_circuit, shots=1024).result()\n",
    "    result = sampler.run([quantum_circuit], shots=1024).result()\n",
    "    \n",
    "    #quasi_dists = result.quasi_dists\n",
    "\n",
    "    # Convert the output to bit strings\n",
    "    #counts = quasi_dists[0].binary_probabilities()\n",
    "    #counts = result.get_counts(quantum_circuit)\n",
    "\n",
    "    # Exact simulation with Qiskit SDK primitives\n",
    "    # https://docs.quantum.ibm.com/guides/simulate-with-qiskit-sdk-primitives#get-the-probability-distribution-or-measurement-outcome\n",
    "    \n",
    "    # Access result data for PUB 0\n",
    "    data_pub = result[0].data\n",
    "    \n",
    "    # Get counts for the classical register \"meas\"\n",
    "    # measure_all must be used with data.meas\n",
    "    # measure_active must be used with data.measure\n",
    "    # See Unexpected Error Thrown by StatevectorSampler #2219 - https://github.com/Qiskit/qiskit-aer/issues/2219\n",
    "    \n",
    "    counts = data_pub.meas.get_counts()\n",
    "    #print(f\"The counts are: {counts}\")\n",
    "\n",
    "    #Draw the circuit diagram\n",
    "    circuit_diagram = quantum_circuit.draw(output=\"mpl\")\n",
    "    \n",
    "    #Create a histogram of the counts\n",
    "    histogram = plot_distribution(counts)\n",
    "    \n",
    "    #Return the results, circuit diagram, and histogram\n",
    "    return counts, circuit_diagram, histogram"
   ]
  },
  {
   "cell_type": "code",
   "execution_count": 13,
   "id": "dcd52a64",
   "metadata": {},
   "outputs": [],
   "source": [
    "# Will execute the circuit on the qasm simulator\n",
    "# Returns results, circuit diagram, and histogram \n",
    "def execute_param_circuit(quantum_circuit, params):\n",
    "    # Modified by Alain Chancé\n",
    "    # StatevectorSampler, https://docs.quantum.ibm.com/api/qiskit/qiskit.primitives.StatevectorSampler\n",
    "    \n",
    "    #from qiskit.primitives import Sampler\n",
    "    from qiskit.primitives import StatevectorSampler\n",
    "    \n",
    "    #sampler = Sampler()\n",
    "    # Construct an ideal simulator with SamplerV2\n",
    "    sampler = StatevectorSampler()\n",
    "    \n",
    "    #result = sampler.run(quantum_circuit, shots=1024).result()\n",
    "    pub = (quantum_circuit, params)\n",
    "    job = sampler.run([pub], shots=1024)\n",
    "\n",
    "    # Exact simulation with Qiskit SDK primitives\n",
    "    # https://docs.quantum.ibm.com/guides/simulate-with-qiskit-sdk-primitives#get-the-probability-distribution-or-measurement-outcome\n",
    "    \n",
    "    # Extract the result for the 0th pub (this example only has one pub).\n",
    "    result = job.result()[0]\n",
    "    data_pub = result[0].data\n",
    "    \n",
    "    #quasi_dists = result.quasi_dists\n",
    "\n",
    "    # Convert the output to bit strings\n",
    "    #counts = quasi_dists[0].binary_probabilities()\n",
    "    \n",
    "    # Get counts for the classical register \"meas\"\n",
    "    # measure_all must be used with data.meas\n",
    "    # measure_active must be used with data.measure\n",
    "    # See Unexpected Error Thrown by StatevectorSampler #2219 - https://github.com/Qiskit/qiskit-aer/issues/2219\n",
    "    counts = data_pub.meas.get_counts()\n",
    "    #print(f\"The counts are: {counts}\")\n",
    "\n",
    "    # Draw the circuit diagram\n",
    "    circuit_diagram = quantum_circuit.draw(output=\"mpl\")\n",
    "    \n",
    "    # Create a histogram of the counts\n",
    "    histogram = plot_distribution(counts)\n",
    "    \n",
    "    #Return the results, circuit diagram, and histogram\n",
    "    return counts, circuit_diagram, histogram"
   ]
  },
  {
   "cell_type": "code",
   "execution_count": 14,
   "id": "5574095d",
   "metadata": {},
   "outputs": [],
   "source": [
    "#Flag to set to run test cell below, simply change False to True:\n",
    "test = False\n",
    "if test:\n",
    "    import qiskit\n",
    "    from qiskit.primitives import StatevectorSampler\n",
    "\n",
    "    # Construct an ideal simulator with SamplerV2 \n",
    "    sampler = StatevectorSampler()\n",
    "\n",
    "    # Generate 3-qubit GHZ state\n",
    "    circuit = qiskit.QuantumCircuit(3)\n",
    "    circuit.h(0)\n",
    "    circuit.cx(0, 1)\n",
    "    circuit.cx(1, 2)\n",
    "    circuit.measure_all()\n",
    "\n",
    "    # Transpile circuit\n",
    "    pm = generate_preset_pass_manager(optimization_level=1)\n",
    "    isa_circuit = pm.run(circuit)\n",
    "\n",
    "    # Run using sampler\n",
    "    result = sampler.run([circuit]).result()\n",
    "\n",
    "    # Access result data for PUB 0\n",
    "    data_pub = result[0].data\n",
    "\n",
    "    # Access bitstring for the classical register \"meas\"\n",
    "    bitstrings = data_pub.meas.get_bitstrings()\n",
    "    print(f\"The number of bitstrings is: {len(bitstrings)}\")\n",
    "\n",
    "    # Get counts for the classical register \"meas\"\n",
    "    counts = data_pub.meas.get_counts()\n",
    "    print(f\"The counts are: {counts}\")"
   ]
  },
  {
   "cell_type": "markdown",
   "id": "0c3e5813-47d7-4d27-908f-f5054effd31d",
   "metadata": {},
   "source": [
    "## Qiskit packages versions"
   ]
  },
  {
   "cell_type": "code",
   "execution_count": 15,
   "id": "c355079a-4f24-48e9-a457-a90d4417f8c8",
   "metadata": {},
   "outputs": [
    {
     "name": "stdout",
     "output_type": "stream",
     "text": [
      "Qiskit: 2.1.1\n",
      "Qiskit IBM Runtime: 0.40.1\n",
      "Qiskit Aer version: 0.17.1\n"
     ]
    }
   ],
   "source": [
    "import qiskit\n",
    "import qiskit_ibm_runtime\n",
    "import qiskit_aer\n",
    "\n",
    "print(f'Qiskit: {qiskit.__version__}')\n",
    "print(f'Qiskit IBM Runtime: {qiskit_ibm_runtime.__version__}')\n",
    "print(f\"Qiskit Aer version: {qiskit_aer.__version__}\")"
   ]
  },
  {
   "cell_type": "markdown",
   "id": "29a89ed7-97eb-4f19-a4a6-ce8731a5ea6c",
   "metadata": {},
   "source": [
    "## Show Python version"
   ]
  },
  {
   "cell_type": "code",
   "execution_count": 16,
   "id": "fc8848a7-f8ac-4a74-83e6-0714a26ee61f",
   "metadata": {},
   "outputs": [
    {
     "name": "stdout",
     "output_type": "stream",
     "text": [
      "/home/alain/miniconda3/bin/python\n",
      "Python 3.13.5\n"
     ]
    }
   ],
   "source": [
    "%%bash\n",
    "which python\n",
    "python --version"
   ]
  }
 ],
 "metadata": {
  "kernelspec": {
   "display_name": "Python 3 (ipykernel)",
   "language": "python",
   "name": "python3"
  },
  "language_info": {
   "codemirror_mode": {
    "name": "ipython",
    "version": 3
   },
   "file_extension": ".py",
   "mimetype": "text/x-python",
   "name": "python",
   "nbconvert_exporter": "python",
   "pygments_lexer": "ipython3",
   "version": "3.13.5"
  },
  "widgets": {
   "application/vnd.jupyter.widget-state+json": {
    "state": {},
    "version_major": 2,
    "version_minor": 0
   }
  }
 },
 "nbformat": 4,
 "nbformat_minor": 5
}
