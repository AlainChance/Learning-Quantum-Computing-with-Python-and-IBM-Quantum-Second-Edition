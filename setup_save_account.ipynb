{
 "cells": [
  {
   "cell_type": "code",
   "execution_count": 1,
   "metadata": {},
   "outputs": [],
   "source": [
    "import sys\n",
    "import os"
   ]
  },
  {
   "cell_type": "code",
   "execution_count": 2,
   "metadata": {},
   "outputs": [
    {
     "name": "stdout",
     "output_type": "stream",
     "text": [
      "Token read from file:  Token.txt\n"
     ]
    }
   ],
   "source": [
    "from qiskit_ibm_runtime import QiskitRuntimeService\n",
    " \n",
    "# README FIRST: UPDATE WITH YOUR TOKEN ID FIRST BEFORE RUNNING ANY CODE. TOKEN CAN BE FOUND IN YOUR ACCOUNT DETAILS ON THE IBM QUANTUM PLATFORM\n",
    "\n",
    "#Save an IBM Quantum account and set it as your default account.\n",
    "#QiskitRuntimeService.save_account(channel=\"ibm_quantum\", token=\"YOUR-API_TOKEN\", set_as_default=True, overwrite=True)\n",
    "\n",
    "# Modified by Alain Chancé\n",
    "# Get token from a file named \"Token.txt\"\n",
    "\n",
    "token_file = \"Token.txt\"\n",
    "\n",
    "if os.path.isfile(token_file):\n",
    "    f = open(token_file, \"r\") \n",
    "    token = f.read() # Read token from token_file\n",
    "    print(\"Token read from file: \", token_file)\n",
    "    f.close()\n",
    "                \n",
    "    # Save the Qiskit Runtime account credentials\n",
    "    QiskitRuntimeService.save_account(channel='ibm_quantum', set_as_default=True, token=token, overwrite=True)"
   ]
  }
 ],
 "metadata": {
  "kernelspec": {
   "display_name": "Python 3 (ipykernel)",
   "language": "python",
   "name": "python3"
  },
  "language_info": {
   "codemirror_mode": {
    "name": "ipython",
    "version": 3
   },
   "file_extension": ".py",
   "mimetype": "text/x-python",
   "name": "python",
   "nbconvert_exporter": "python",
   "pygments_lexer": "ipython3",
   "version": "3.12.8"
  }
 },
 "nbformat": 4,
 "nbformat_minor": 4
}
