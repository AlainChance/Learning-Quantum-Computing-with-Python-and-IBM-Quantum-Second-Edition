{
 "cells": [
  {
   "cell_type": "markdown",
   "metadata": {},
   "source": [
    "# Chapter 13: Understanding Quantum Utility and Qiskit Patterns\n",
    "This Jupyter notebook has been created from the book \"Learn Quantum Computing with Python and IBM Quantum: Write your own practical quantum programs with Python\", by Robert Loredo, Second Edition, Packt, Feb 25, 2025. \n",
    "\n",
    "It has been updated to work with Python 3.12 and the following Qiskit versions:\n",
    "* Qiskit v1.3, Qiskit runtime version: 0.34\n",
    "* Qiskit v 2.0, Qiskit runtime version: 0.37\n",
    "|||\n",
    "|-|-|\n",
    "|**Author:** |Robert Loredo|\n",
    "|**Reviewer:** |Alain Chancé|\n",
    "|**Date:** |April 12, 2025|\n",
    "|**Version:** |**1.00**<br/>*Details see at the end of this notebook*|\n",
    "|**References:**|\n",
    "[Robert Loredo, Learn Quantum Computing with Python and IBM Quantum: Write your own practical quantum programs with Python, Second Edition, Packt, Feb 25, 2025](https://www.packtpub.com/en-us/product/learn-quantum-computing-with-python-and-ibm-quantum-9781803240923)\n",
    "[Chapter 13: Understanding Quantum Utility and Qiskit Patterns](https://www.packtpub.com/en-us/product/learn-quantum-computing-with-python-and-ibm-quantum-second-edition-9781803244808/chapter/understanding-quantum-utility-and-qiskit-patterns-13/section/understanding-quantum-utility-and-qiskit-patterns-ch13lvl1sec98)\n",
    "[Packt's code repository for the book](https://github.com/PacktPublishing/Learning-Quantum-Computing-with-Python-and-IBM-Quantum-Second-Edition)\n",
    "[LICENSE](https://github.com/PacktPublishing/Learning-Quantum-Computing-with-Python-and-IBM-Quantum-Second-Edition/blob/main/LICENSE)\n",
    "[Migrate to the Qiskit Runtime V2 primitives](https://docs.quantum.ibm.com/migration-guides/v2-primitives)\n",
    "[Phase Oracle](https://docs.quantum.ibm.com/api/qiskit/qiskit.circuit.library.PhaseOracle)\n",
    "[tweedledum](https://github.com/boschmitt/tweedledum)\n",
    "[conda-forgetweedledum-feedstock](https://github.com/conda-forge/tweedledum-feedstock)\n",
    "[Qiskit Algorithms (qiskit_algorithms)](https://qiskit-community.github.io/qiskit-algorithms/apidocs/qiskit_algorithms.html)\n",
    "[Grover’s Algorithm and Amplitude Amplification](https://qiskit-community.github.io/qiskit-algorithms/tutorials/06_grover.html)\n",
    "[Grover Operator](https://docs.quantum.ibm.com/api/qiskit/qiskit.circuit.library.GroverOperator)\n",
    "[grover_operator](https://docs.quantum.ibm.com/api/qiskit/qiskit.circuit.library.grover_operator)\n",
    "<br/>"
   ]
  },
  {
   "cell_type": "code",
   "execution_count": 1,
   "metadata": {},
   "outputs": [
    {
     "name": "stdout",
     "output_type": "stream",
     "text": [
      "Token read from file:  Token.txt\n",
      "Qiskit version: 2.0.0\n",
      "Qiskit runtime version: 0.37.0\n",
      "/home/alain/miniconda3/bin/python\n",
      "Python 3.12.9\n"
     ]
    }
   ],
   "source": [
    "# Load Helper file\n",
    "%run helper_file_1.0.ipynb"
   ]
  },
  {
   "cell_type": "code",
   "execution_count": 2,
   "metadata": {
    "scrolled": true
   },
   "outputs": [
    {
     "name": "stdout",
     "output_type": "stream",
     "text": [
      "qiskit                                   2.0.0\n",
      "qiskit-aer                               0.17.0\n",
      "qiskit-algorithms                        0.3.1\n",
      "qiskit-dynamics                          0.5.1\n",
      "qiskit-ibm-catalog                       0.5.0\n",
      "qiskit-ibm-runtime                       0.37.0\n",
      "qiskit-nature                            0.7.2\n",
      "qiskit-serverless                        0.21.1\n",
      "qiskit_utils                             1.2.1\n"
     ]
    }
   ],
   "source": [
    "!pip list | grep qiskit"
   ]
  },
  {
   "cell_type": "markdown",
   "metadata": {},
   "source": [
    "# Implementing the Logical Expression Oracle"
   ]
  },
  {
   "cell_type": "code",
   "execution_count": 3,
   "metadata": {},
   "outputs": [
    {
     "name": "stdout",
     "output_type": "stream",
     "text": [
      "(<class 'ImportError'>, ImportError(\"cannot import name '_circuit_key' from 'qiskit.primitives.utils' (/home/alain/miniconda3/lib/python3.12/site-packages/qiskit/primitives/utils.py)\"), <traceback object at 0x7f938c7a88c0>)\n"
     ]
    }
   ],
   "source": [
    "# Import the necessary modules and classes\n",
    "from qiskit import QuantumCircuit\n",
    "from qiskit.visualization import *\n",
    "import qiskit_aer\n",
    "from qiskit_aer import AerSimulator\n",
    "from qiskit.circuit.library import grover_operator\n",
    "\n",
    "# Added by Alain Chancé\n",
    "from qiskit.quantum_info import Statevector\n",
    "\n",
    "# Modified by Alain Chancé\n",
    "#from qiskit_algorithms import Grover, AmplificationProblem\n",
    "try:\n",
    "    from qiskit_algorithms import Grover, AmplificationProblem\n",
    "    AmplificationProblem_Installed = True\n",
    "except:\n",
    "    print(sys.exc_info())\n",
    "    AmplificationProblem_Installed = False\n",
    "\n",
    "from qiskit.circuit.library.phase_oracle import PhaseOracle\n",
    "# State the SAT problem into a logical expression\n",
    "# A = Ivana, B = Karla, C = Leo, D = Lex\n",
    "expression = '((A ^ B) & (C & D) & ~(A & C))'"
   ]
  },
  {
   "cell_type": "markdown",
   "metadata": {},
   "source": [
    "### The 'tweedledum' library is required to use 'PhaseOracle'.\n",
    "\n",
    "tweedledum is a library for synthesis, compilation, and optimization of quantum circuits. The library is written to be scalable up to problem sizes in which quantum circuits outperform classical ones. Also, it is meant to be used both independently and alongside established tools. https://github.com/boschmitt/tweedledum\n",
    "\n",
    "### Installing tweedledum\n",
    "https://github.com/conda-forge/tweedledum-feedstock#installing-tweedledum\n",
    "\n",
    "```\n",
    "conda config --add channels conda-forge\n",
    "conda config --set channel_priority strict\n",
    "\n",
    "conda install tweedledum\n",
    "```"
   ]
  },
  {
   "cell_type": "code",
   "execution_count": 4,
   "metadata": {},
   "outputs": [
    {
     "name": "stdout",
     "output_type": "stream",
     "text": [
      "tweedledum installed\n"
     ]
    }
   ],
   "source": [
    "# The 'tweedledum' library is required to use 'PhaseOracle'.\n",
    "# Create a PhaseOracle based on the logical expression\n",
    "try:\n",
    "    oracle = PhaseOracle(expression)\n",
    "    tweedledum_installed = True\n",
    "    print(\"tweedledum installed\")\n",
    "except:\n",
    "    print(sys.exc_info())\n",
    "    tweedledum_installed = False"
   ]
  },
  {
   "cell_type": "code",
   "execution_count": 5,
   "metadata": {},
   "outputs": [],
   "source": [
    "if tweedledum_installed and AmplificationProblem_Installed:\n",
    "    problem = AmplificationProblem(oracle,\n",
    "    is_good_state=oracle.evaluate_bitstring)\n",
    "    oracle = problem.grover_operator.oracle\n",
    "else:\n",
    "    good_state = '1110'\n",
    "    \n",
    "    # Create a quantum circuit with 4 qubits\n",
    "    oracle = QuantumCircuit(4)\n",
    "\n",
    "    # Apply a multi-controlled X gate with an open control on q0\n",
    "    oracle.mcx([1, 2, 3], 0, ctrl_state='000')"
   ]
  },
  {
   "cell_type": "code",
   "execution_count": 6,
   "metadata": {},
   "outputs": [
    {
     "data": {
      "image/png": "[encoded data removed]",
      "text/plain": [
       "<Figure size 203.885x367.889 with 1 Axes>"
      ]
     },
     "execution_count": 6,
     "metadata": {},
     "output_type": "execute_result"
    }
   ],
   "source": [
    "# Draw the circuit\n",
    "oracle.draw(output='mpl')"
   ]
  },
  {
   "cell_type": "markdown",
   "metadata": {},
   "source": [
    "Figure 13.1: Quantum circuit representing the Logical Expression Oracle"
   ]
  },
  {
   "cell_type": "markdown",
   "metadata": {},
   "source": [
    "### Construct the Grover operator"
   ]
  },
  {
   "cell_type": "code",
   "execution_count": 7,
   "metadata": {},
   "outputs": [],
   "source": [
    "# Construct the Grover operator.\n",
    "# grover_operator\n",
    "# https://docs.quantum.ibm.com/api/qiskit/qiskit.circuit.library.grover_operator\n",
    "oracle = Statevector.from_label(good_state)\n",
    "grover_op = grover_operator(oracle)"
   ]
  },
  {
   "cell_type": "markdown",
   "metadata": {},
   "source": [
    "### Construct the Grover operator circuit"
   ]
  },
  {
   "cell_type": "code",
   "execution_count": 8,
   "metadata": {},
   "outputs": [
    {
     "data": {
      "image/png": "[encoded data removed]",
      "text/plain": [
       "<Figure size 1123.61x367.889 with 1 Axes>"
      ]
     },
     "execution_count": 8,
     "metadata": {},
     "output_type": "execute_result"
    }
   ],
   "source": [
    "# Construct the Grover operator circuit\n",
    "grover_qc = QuantumCircuit(4)\n",
    "grover_qc.h(range(4))\n",
    "grover_qc = grover_qc.compose(grover_op)\n",
    "grover_qc.draw(output=\"mpl\", style=\"iqp\")"
   ]
  },
  {
   "cell_type": "code",
   "execution_count": 9,
   "metadata": {},
   "outputs": [],
   "source": [
    "results = Statevector.from_instruction(grover_qc).probabilities_dict()"
   ]
  },
  {
   "cell_type": "markdown",
   "metadata": {},
   "source": [
    "### Plot the quasi-distribution"
   ]
  },
  {
   "cell_type": "code",
   "execution_count": 10,
   "metadata": {
    "scrolled": true
   },
   "outputs": [
    {
     "data": {
      "image/png": "[encoded data removed]",
      "text/plain": [
       "<Figure size 700x500 with 1 Axes>"
      ]
     },
     "execution_count": 10,
     "metadata": {},
     "output_type": "execute_result"
    }
   ],
   "source": [
    "plot_distribution(results)"
   ]
  },
  {
   "cell_type": "markdown",
   "metadata": {},
   "source": [
    "Figure 13.2: Grover solution results based on the Logical Expression Oracle"
   ]
  },
  {
   "cell_type": "markdown",
   "metadata": {},
   "source": [
    "## Print Qiskit version"
   ]
  },
  {
   "cell_type": "code",
   "execution_count": 11,
   "metadata": {},
   "outputs": [
    {
     "name": "stdout",
     "output_type": "stream",
     "text": [
      "Qiskit version: 2.0.0\n"
     ]
    }
   ],
   "source": [
    "import qiskit\n",
    "print(f\"Qiskit version: {qiskit.__version__}\")"
   ]
  },
  {
   "cell_type": "markdown",
   "metadata": {},
   "source": [
    "## Print Qiskit runtime version"
   ]
  },
  {
   "cell_type": "code",
   "execution_count": 12,
   "metadata": {},
   "outputs": [
    {
     "name": "stdout",
     "output_type": "stream",
     "text": [
      "Qiskit runtime version: 0.37.0\n"
     ]
    }
   ],
   "source": [
    "import qiskit_ibm_runtime\n",
    "print(f\"Qiskit runtime version: {qiskit_ibm_runtime.__version__}\")"
   ]
  },
  {
   "cell_type": "markdown",
   "metadata": {},
   "source": [
    "## Show Python version"
   ]
  },
  {
   "cell_type": "code",
   "execution_count": 13,
   "metadata": {},
   "outputs": [
    {
     "name": "stdout",
     "output_type": "stream",
     "text": [
      "/home/alain/miniconda3/bin/python\n",
      "Python 3.12.9\n"
     ]
    }
   ],
   "source": [
    "%%bash\n",
    "which python\n",
    "python --version"
   ]
  }
 ],
 "metadata": {
  "kernelspec": {
   "display_name": "Python 3 (ipykernel)",
   "language": "python",
   "name": "python3"
  },
  "language_info": {
   "codemirror_mode": {
    "name": "ipython",
    "version": 3
   },
   "file_extension": ".py",
   "mimetype": "text/x-python",
   "name": "python",
   "nbconvert_exporter": "python",
   "pygments_lexer": "ipython3",
   "version": "3.12.9"
  },
  "widgets": {
   "application/vnd.jupyter.widget-state+json": {
    "state": {
     "0a4a472b89f44a409f4f739c1d7bace8": {
      "model_module": "@jupyter-widgets/base",
      "model_module_version": "2.0.0",
      "model_name": "LayoutModel",
      "state": {
       "margin": "0px 0px 10px 0px"
      }
     },
     "1099abebac034eb3b2fdf2823fe056ab": {
      "model_module": "@jupyter-widgets/base",
      "model_module_version": "2.0.0",
      "model_name": "LayoutModel",
      "state": {}
     },
     "133aa32da123492ca6923bbeec6d87a4": {
      "model_module": "@jupyter-widgets/base",
      "model_module_version": "2.0.0",
      "model_name": "LayoutModel",
      "state": {
       "grid_template_areas": "\n                                       \". . . . right \"\n                                        ",
       "grid_template_columns": "20% 20% 20% 20% 20%",
       "width": "100%"
      }
     },
     "2608e1fa2e7a4d4ca1ca4ded2fa9ffa7": {
      "model_module": "@jupyter-widgets/base",
      "model_module_version": "2.0.0",
      "model_name": "LayoutModel",
      "state": {
       "margin": "0px 0px 0px 37px",
       "width": "600px"
      }
     },
     "3c16669b8aa94ae8a47edfcf33c80cd1": {
      "model_module": "@jupyter-widgets/controls",
      "model_module_version": "2.0.0",
      "model_name": "HTMLStyleModel",
      "state": {
       "description_width": "",
       "font_size": null,
       "text_color": null
      }
     },
     "626098eff1df4e0f8d19904a015ae71e": {
      "model_module": "@jupyter-widgets/base",
      "model_module_version": "2.0.0",
      "model_name": "LayoutModel",
      "state": {
       "width": "95px"
      }
     },
     "711ad42adc6c433db4237f8622f14985": {
      "model_module": "@jupyter-widgets/controls",
      "model_module_version": "2.0.0",
      "model_name": "HTMLModel",
      "state": {
       "layout": "IPY_MODEL_981703ea499d41ca9a1444bb9d737bb7",
       "style": "IPY_MODEL_9d1735da1ad84a4b86d0e9af8852adfa",
       "value": "<h5>Backend</h5>"
      }
     },
     "71d8361e5dca407097f51b9f9b42cea0": {
      "model_module": "@jupyter-widgets/base",
      "model_module_version": "2.0.0",
      "model_name": "LayoutModel",
      "state": {
       "grid_area": "right",
       "padding": "0px 0px 0px 0px",
       "width": "70px"
      }
     },
     "7452e335239a4dea991e6ea40109f7ca": {
      "model_module": "@jupyter-widgets/controls",
      "model_module_version": "2.0.0",
      "model_name": "HBoxModel",
      "state": {
       "children": [
        "IPY_MODEL_a20f8387e08249a1854d6514712ff075",
        "IPY_MODEL_711ad42adc6c433db4237f8622f14985",
        "IPY_MODEL_d18c52038cf34d2599bb4cc1fc7ded14",
        "IPY_MODEL_a632270375bc49e7aadd070a79d2ed4a",
        "IPY_MODEL_f0a80e2720a043e5a6cb1a3db4a817d1"
       ],
       "layout": "IPY_MODEL_2608e1fa2e7a4d4ca1ca4ded2fa9ffa7"
      }
     },
     "981703ea499d41ca9a1444bb9d737bb7": {
      "model_module": "@jupyter-widgets/base",
      "model_module_version": "2.0.0",
      "model_name": "LayoutModel",
      "state": {
       "width": "145px"
      }
     },
     "9b12e212544f42ccb009ab83e2fad8f7": {
      "model_module": "@jupyter-widgets/controls",
      "model_module_version": "2.0.0",
      "model_name": "ButtonModel",
      "state": {
       "button_style": "primary",
       "description": "Clear",
       "layout": "IPY_MODEL_71d8361e5dca407097f51b9f9b42cea0",
       "style": "IPY_MODEL_a83a950882614c1f81ed7fa308921fb7",
       "tooltip": null
      }
     },
     "9d1735da1ad84a4b86d0e9af8852adfa": {
      "model_module": "@jupyter-widgets/controls",
      "model_module_version": "2.0.0",
      "model_name": "HTMLStyleModel",
      "state": {
       "description_width": "",
       "font_size": null,
       "text_color": null
      }
     },
     "a20f8387e08249a1854d6514712ff075": {
      "model_module": "@jupyter-widgets/controls",
      "model_module_version": "2.0.0",
      "model_name": "HTMLModel",
      "state": {
       "layout": "IPY_MODEL_c8023a97a6f64178af3a971ae1fe6c91",
       "style": "IPY_MODEL_d1a4c5a0cb7849d2ad31662636ddc30a",
       "value": "<h5>Job ID</h5>"
      }
     },
     "a632270375bc49e7aadd070a79d2ed4a": {
      "model_module": "@jupyter-widgets/controls",
      "model_module_version": "2.0.0",
      "model_name": "HTMLModel",
      "state": {
       "layout": "IPY_MODEL_fcd68f93e8794b3799bb5820e2640de7",
       "style": "IPY_MODEL_3c16669b8aa94ae8a47edfcf33c80cd1",
       "value": "<h5>Queue</h5>"
      }
     },
     "a7241de93318475389cee596060158a1": {
      "model_module": "@jupyter-widgets/controls",
      "model_module_version": "2.0.0",
      "model_name": "HTMLStyleModel",
      "state": {
       "description_width": "",
       "font_size": null,
       "text_color": null
      }
     },
     "a83a950882614c1f81ed7fa308921fb7": {
      "model_module": "@jupyter-widgets/controls",
      "model_module_version": "2.0.0",
      "model_name": "ButtonStyleModel",
      "state": {
       "font_family": null,
       "font_size": null,
       "font_style": null,
       "font_variant": null,
       "font_weight": null,
       "text_color": null,
       "text_decoration": null
      }
     },
     "b5bf9d17db874246a2661331f4cbe2ca": {
      "model_module": "@jupyter-widgets/controls",
      "model_module_version": "2.0.0",
      "model_name": "HTMLModel",
      "state": {
       "layout": "IPY_MODEL_0a4a472b89f44a409f4f739c1d7bace8",
       "style": "IPY_MODEL_ea3dc05877ac4d7b98016ae34076e467",
       "value": "<p style='font-family: IBM Plex Sans, Arial, Helvetica, sans-serif; font-size: 20px; font-weight: medium;'>Circuit Properties</p>"
      }
     },
     "c3e349b9b1484433a8ad9c08ca96190f": {
      "model_module": "@jupyter-widgets/controls",
      "model_module_version": "2.0.0",
      "model_name": "GridBoxModel",
      "state": {
       "children": [
        "IPY_MODEL_9b12e212544f42ccb009ab83e2fad8f7"
       ],
       "layout": "IPY_MODEL_133aa32da123492ca6923bbeec6d87a4"
      }
     },
     "c8023a97a6f64178af3a971ae1fe6c91": {
      "model_module": "@jupyter-widgets/base",
      "model_module_version": "2.0.0",
      "model_name": "LayoutModel",
      "state": {
       "width": "190px"
      }
     },
     "d18c52038cf34d2599bb4cc1fc7ded14": {
      "model_module": "@jupyter-widgets/controls",
      "model_module_version": "2.0.0",
      "model_name": "HTMLModel",
      "state": {
       "layout": "IPY_MODEL_626098eff1df4e0f8d19904a015ae71e",
       "style": "IPY_MODEL_a7241de93318475389cee596060158a1",
       "value": "<h5>Status</h5>"
      }
     },
     "d1a4c5a0cb7849d2ad31662636ddc30a": {
      "model_module": "@jupyter-widgets/controls",
      "model_module_version": "2.0.0",
      "model_name": "HTMLStyleModel",
      "state": {
       "description_width": "",
       "font_size": null,
       "text_color": null
      }
     },
     "ea3dc05877ac4d7b98016ae34076e467": {
      "model_module": "@jupyter-widgets/controls",
      "model_module_version": "2.0.0",
      "model_name": "HTMLStyleModel",
      "state": {
       "description_width": "",
       "font_size": null,
       "text_color": null
      }
     },
     "f0a80e2720a043e5a6cb1a3db4a817d1": {
      "model_module": "@jupyter-widgets/controls",
      "model_module_version": "2.0.0",
      "model_name": "HTMLModel",
      "state": {
       "layout": "IPY_MODEL_1099abebac034eb3b2fdf2823fe056ab",
       "style": "IPY_MODEL_fe4cd98f69154efa84c97a084c81efa3",
       "value": "<h5>Message</h5>"
      }
     },
     "fcd68f93e8794b3799bb5820e2640de7": {
      "model_module": "@jupyter-widgets/base",
      "model_module_version": "2.0.0",
      "model_name": "LayoutModel",
      "state": {
       "width": "70px"
      }
     },
     "fe4cd98f69154efa84c97a084c81efa3": {
      "model_module": "@jupyter-widgets/controls",
      "model_module_version": "2.0.0",
      "model_name": "HTMLStyleModel",
      "state": {
       "description_width": "",
       "font_size": null,
       "text_color": null
      }
     }
    },
    "version_major": 2,
    "version_minor": 0
   }
  }
 },
 "nbformat": 4,
 "nbformat_minor": 4
}
