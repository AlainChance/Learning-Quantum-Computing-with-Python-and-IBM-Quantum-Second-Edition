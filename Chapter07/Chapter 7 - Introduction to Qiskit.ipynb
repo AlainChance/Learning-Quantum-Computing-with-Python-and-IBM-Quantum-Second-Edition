{
 "cells": [
  {
   "cell_type": "code",
   "execution_count": null,
   "metadata": {},
   "outputs": [],
   "source": [
    "%matplotlib inline\n",
    "# Importing standard Qiskit libraries and configuring account\n",
    "from qiskit import QuantumCircuit, execute, Aer, IBMQ\n",
    "from qiskit.compiler import transpile, assemble\n",
    "from qiskit.tools.jupyter import *\n",
    "from qiskit.visualization import *\n",
    "# Loading your IBM Q account(s)\n",
    "provider = IBMQ.load_account()"
   ]
  },
  {
   "cell_type": "markdown",
   "metadata": {},
   "source": [
    "# Chapter 7 - Introduction to Qiskit"
   ]
  },
  {
   "cell_type": "code",
   "execution_count": null,
   "metadata": {},
   "outputs": [],
   "source": [
    "from qiskit import QuantumCircuit, QuantumRegister\n",
    "from qiskit import Aer, execute\n",
    "from qiskit.providers.aer import QasmSimulator, StatevectorSimulator\n"
   ]
  },
  {
   "cell_type": "code",
   "execution_count": null,
   "metadata": {},
   "outputs": [],
   "source": [
    "# Create a quantum circuit with 1 qubit, add an H gate\n",
    "qc = QuantumCircuit(1)\n",
    "qc.h(0)\n",
    "# Set backend to unitary simulator\n",
    "simulator = Aer.get_backend('unitary_simulator')\n",
    "# Execute on unitary simulator\n",
    "result = execute(qc, simulator).result()\n",
    "# Obtain results and print it out on console\n",
    "unitaryState = result.get_unitary(qc)\n",
    "print(unitaryState)\n"
   ]
  },
  {
   "cell_type": "markdown",
   "metadata": {},
   "source": [
    "# Setup IBMQ Account info on local machine "
   ]
  },
  {
   "cell_type": "code",
   "execution_count": null,
   "metadata": {},
   "outputs": [],
   "source": [
    "from qiskit import IBMQ\n",
    "IBMQ.save_account(‘PASTE-API-TOKEN-HERE’)\n"
   ]
  },
  {
   "cell_type": "code",
   "execution_count": null,
   "metadata": {},
   "outputs": [],
   "source": [
    "from qiskit import QuantumCircuit, QuantumRegister, ClassicalRegister, execute\n",
    "from qiskit.tools.monitor import job_monitor\n",
    "\n",
    "#You only need to load your account ONCE for each notebook. \n",
    "IBMQ.load_account()\n",
    "\n",
    "q = QuantumRegister(1)\n",
    "c = ClassicalRegister(1)\n",
    "qc = QuantumCircuit(q,c)\n",
    "qc.h(0)\n",
    "qc.measure([0],[0])\n",
    "# Specify a backend from the list available to you, \n",
    "# In this example we will use 'ibmq_lima’\n",
    "backend = provider.get_backend('ibmq_lima')\n",
    "job_object = execute(qc, backend)\n",
    "job_monitor(job_object)\n"
   ]
  },
  {
   "cell_type": "code",
   "execution_count": null,
   "metadata": {},
   "outputs": [],
   "source": [
    "from qiskit.visualization import plot_histogram\n",
    "result = job_object.result()\n",
    "counts = result.get_counts(qc)\n",
    "plot_histogram(counts)\n"
   ]
  },
  {
   "cell_type": "code",
   "execution_count": null,
   "metadata": {},
   "outputs": [],
   "source": [
    "import qiskit.tools.jupyter\n",
    "%qiskit_version_table"
   ]
  },
  {
   "cell_type": "code",
   "execution_count": null,
   "metadata": {},
   "outputs": [],
   "source": []
  }
 ],
 "metadata": {
  "kernelspec": {
   "display_name": "Qiskit v0.34.1 (ipykernel)",
   "language": "python",
   "name": "python3"
  },
  "language_info": {
   "codemirror_mode": {
    "name": "ipython",
    "version": 3
   },
   "file_extension": ".py",
   "mimetype": "text/x-python",
   "name": "python",
   "nbconvert_exporter": "python",
   "pygments_lexer": "ipython3",
   "version": "3.8.12"
  },
  "widgets": {
   "application/vnd.jupyter.widget-state+json": {
    "state": {
     "0584f5c28a544cab85376ee1950ec275": {
      "model_module": "@jupyter-widgets/controls",
      "model_module_version": "1.5.0",
      "model_name": "HTMLModel",
      "state": {
       "layout": "IPY_MODEL_efa721d2178a498bba65624d3a2e1a56",
       "style": "IPY_MODEL_a0a9a6ad21354b41b6c1b24284adcc97",
       "value": "job is queued"
      }
     },
     "09d83c78d26a429f9056660fddf9eafa": {
      "model_module": "@jupyter-widgets/controls",
      "model_module_version": "1.5.0",
      "model_name": "HTMLModel",
      "state": {
       "layout": "IPY_MODEL_d086ca88b0524c79a322966b79106854",
       "style": "IPY_MODEL_0c74d551aeec46f49abaf4fdc0125631",
       "value": "<h5>Backend</h5>"
      }
     },
     "0c74d551aeec46f49abaf4fdc0125631": {
      "model_module": "@jupyter-widgets/controls",
      "model_module_version": "1.5.0",
      "model_name": "DescriptionStyleModel",
      "state": {
       "description_width": ""
      }
     },
     "0ce59cfbbd8346ba8f9bf708f168c75f": {
      "model_module": "@jupyter-widgets/controls",
      "model_module_version": "1.5.0",
      "model_name": "HTMLModel",
      "state": {
       "layout": "IPY_MODEL_f706ac603a304a2c8b9c2751d0abfeab",
       "style": "IPY_MODEL_287555e241714827a3d579fa626790db",
       "value": "<h5>Status</h5>"
      }
     },
     "263637962aad48a08f33cf0e42e5cf32": {
      "model_module": "@jupyter-widgets/controls",
      "model_module_version": "1.5.0",
      "model_name": "ButtonStyleModel",
      "state": {}
     },
     "272fb185de794eabba9db0adedf427ae": {
      "model_module": "@jupyter-widgets/base",
      "model_module_version": "1.2.0",
      "model_name": "LayoutModel",
      "state": {
       "grid_area": "right",
       "padding": "0px 0px 0px 0px",
       "width": "70px"
      }
     },
     "287555e241714827a3d579fa626790db": {
      "model_module": "@jupyter-widgets/controls",
      "model_module_version": "1.5.0",
      "model_name": "DescriptionStyleModel",
      "state": {
       "description_width": ""
      }
     },
     "2d7e1a8d78824df2924c942279ff7eb1": {
      "model_module": "@jupyter-widgets/controls",
      "model_module_version": "1.5.0",
      "model_name": "ButtonModel",
      "state": {
       "button_style": "primary",
       "description": "Clear",
       "layout": "IPY_MODEL_272fb185de794eabba9db0adedf427ae",
       "style": "IPY_MODEL_263637962aad48a08f33cf0e42e5cf32"
      }
     },
     "2e496f4ec6b04cb995c536d56600cfd3": {
      "model_module": "@jupyter-widgets/controls",
      "model_module_version": "1.5.0",
      "model_name": "HTMLModel",
      "state": {
       "layout": "IPY_MODEL_8e3518100d014a3cbe3cc3eb88763eb3",
       "style": "IPY_MODEL_350caebd2aa34d498ea1fc8db8ed4a8f",
       "value": "<h5>Message</h5>"
      }
     },
     "2fa5670fe60947a7a40bc91efa4bb390": {
      "model_module": "@jupyter-widgets/base",
      "model_module_version": "1.2.0",
      "model_name": "LayoutModel",
      "state": {
       "width": "190px"
      }
     },
     "3136bb8a42ae487cb72ce1410f4b6010": {
      "model_module": "@jupyter-widgets/controls",
      "model_module_version": "1.5.0",
      "model_name": "DescriptionStyleModel",
      "state": {
       "description_width": ""
      }
     },
     "32b1da8054174583b0d0d70d42ca1b65": {
      "model_module": "@jupyter-widgets/controls",
      "model_module_version": "1.5.0",
      "model_name": "ButtonModel",
      "state": {
       "icon": "close",
       "layout": "IPY_MODEL_3374783a539c460fad8c3f10ad437224",
       "style": "IPY_MODEL_87cc5ec09cd148a8a83e06ad1a73cb28"
      }
     },
     "3374783a539c460fad8c3f10ad437224": {
      "model_module": "@jupyter-widgets/base",
      "model_module_version": "1.2.0",
      "model_name": "LayoutModel",
      "state": {
       "margin": "0px 5px 0px 0px",
       "width": "32px"
      }
     },
     "350caebd2aa34d498ea1fc8db8ed4a8f": {
      "model_module": "@jupyter-widgets/controls",
      "model_module_version": "1.5.0",
      "model_name": "DescriptionStyleModel",
      "state": {
       "description_width": ""
      }
     },
     "379ced5f938a4247b104b81902d0af9a": {
      "model_module": "@jupyter-widgets/controls",
      "model_module_version": "1.5.0",
      "model_name": "HBoxModel",
      "state": {
       "children": [
        "IPY_MODEL_5018875b9b6847a4a41fb62e535c7df3",
        "IPY_MODEL_09d83c78d26a429f9056660fddf9eafa",
        "IPY_MODEL_0ce59cfbbd8346ba8f9bf708f168c75f",
        "IPY_MODEL_98870a32f3f843ef8afd526dcc6266b0",
        "IPY_MODEL_2e496f4ec6b04cb995c536d56600cfd3"
       ],
       "layout": "IPY_MODEL_babec4b263eb45ceb96e3b1354fb8dfa"
      }
     },
     "3ff4971ee4d84088bc37866cf3b263f5": {
      "model_module": "@jupyter-widgets/base",
      "model_module_version": "1.2.0",
      "model_name": "LayoutModel",
      "state": {
       "width": "145px"
      }
     },
     "4d809e41cdb34447ba261ec3c1c87198": {
      "model_module": "@jupyter-widgets/base",
      "model_module_version": "1.2.0",
      "model_name": "LayoutModel",
      "state": {
       "max_width": "700px",
       "min_width": "700px"
      }
     },
     "5018875b9b6847a4a41fb62e535c7df3": {
      "model_module": "@jupyter-widgets/controls",
      "model_module_version": "1.5.0",
      "model_name": "HTMLModel",
      "state": {
       "layout": "IPY_MODEL_2fa5670fe60947a7a40bc91efa4bb390",
       "style": "IPY_MODEL_d9a183c4f238454fa1e888821a2d9a63",
       "value": "<h5>Job ID</h5>"
      }
     },
     "542018abad714c4ca56d12d8a2830034": {
      "model_module": "@jupyter-widgets/base",
      "model_module_version": "1.2.0",
      "model_name": "LayoutModel",
      "state": {
       "width": "95px"
      }
     },
     "57baa9cf8c8f4276a98967fc707f1acf": {
      "model_module": "@jupyter-widgets/base",
      "model_module_version": "1.2.0",
      "model_name": "LayoutModel",
      "state": {
       "width": "70px"
      }
     },
     "5be2ccadcd8e4328b41320db42b243d1": {
      "model_module": "@jupyter-widgets/controls",
      "model_module_version": "1.5.0",
      "model_name": "GridBoxModel",
      "state": {
       "children": [
        "IPY_MODEL_2d7e1a8d78824df2924c942279ff7eb1"
       ],
       "layout": "IPY_MODEL_c9a91d9e901a4c58a4cf5ce1312cfa20"
      }
     },
     "5d9cd570b1bb4834975483cb567e0e70": {
      "model_module": "@jupyter-widgets/controls",
      "model_module_version": "1.5.0",
      "model_name": "HTMLModel",
      "state": {
       "layout": "IPY_MODEL_542018abad714c4ca56d12d8a2830034",
       "style": "IPY_MODEL_752013253049437c980209e86bd23c89",
       "value": "QUEUED"
      }
     },
     "63ff9f077e86463198f891da514a8425": {
      "model_module": "@jupyter-widgets/controls",
      "model_module_version": "1.5.0",
      "model_name": "DescriptionStyleModel",
      "state": {
       "description_width": ""
      }
     },
     "6e1065bb900943f2acd809489ab68f49": {
      "model_module": "@jupyter-widgets/base",
      "model_module_version": "1.2.0",
      "model_name": "LayoutModel",
      "state": {
       "width": "190px"
      }
     },
     "70e01895975444259bae457e8ecfd878": {
      "model_module": "@jupyter-widgets/controls",
      "model_module_version": "1.5.0",
      "model_name": "HTMLModel",
      "state": {
       "layout": "IPY_MODEL_57baa9cf8c8f4276a98967fc707f1acf",
       "style": "IPY_MODEL_831d46847fb54ec08715962f7cd8a9ab",
       "value": "33"
      }
     },
     "752013253049437c980209e86bd23c89": {
      "model_module": "@jupyter-widgets/controls",
      "model_module_version": "1.5.0",
      "model_name": "DescriptionStyleModel",
      "state": {
       "description_width": ""
      }
     },
     "831d46847fb54ec08715962f7cd8a9ab": {
      "model_module": "@jupyter-widgets/controls",
      "model_module_version": "1.5.0",
      "model_name": "DescriptionStyleModel",
      "state": {
       "description_width": ""
      }
     },
     "87cc5ec09cd148a8a83e06ad1a73cb28": {
      "model_module": "@jupyter-widgets/controls",
      "model_module_version": "1.5.0",
      "model_name": "ButtonStyleModel",
      "state": {
       "button_color": "white"
      }
     },
     "8e3518100d014a3cbe3cc3eb88763eb3": {
      "model_module": "@jupyter-widgets/base",
      "model_module_version": "1.2.0",
      "model_name": "LayoutModel",
      "state": {}
     },
     "92c13bebc791456a8cb31927cc31d5da": {
      "model_module": "@jupyter-widgets/controls",
      "model_module_version": "1.5.0",
      "model_name": "HBoxModel",
      "state": {
       "children": [
        "IPY_MODEL_32b1da8054174583b0d0d70d42ca1b65",
        "IPY_MODEL_9eede938925243f9a1cdb9fb63be7563",
        "IPY_MODEL_9e132173752b409a8f4c3fc80240129a",
        "IPY_MODEL_5d9cd570b1bb4834975483cb567e0e70",
        "IPY_MODEL_70e01895975444259bae457e8ecfd878",
        "IPY_MODEL_0584f5c28a544cab85376ee1950ec275"
       ],
       "layout": "IPY_MODEL_4d809e41cdb34447ba261ec3c1c87198"
      }
     },
     "9496403b12ce4ebea64e17f40608611c": {
      "model_module": "@jupyter-widgets/base",
      "model_module_version": "1.2.0",
      "model_name": "LayoutModel",
      "state": {
       "width": "70px"
      }
     },
     "98870a32f3f843ef8afd526dcc6266b0": {
      "model_module": "@jupyter-widgets/controls",
      "model_module_version": "1.5.0",
      "model_name": "HTMLModel",
      "state": {
       "layout": "IPY_MODEL_9496403b12ce4ebea64e17f40608611c",
       "style": "IPY_MODEL_dd38fe1c56b14797a935e6aba116640f",
       "value": "<h5>Queue</h5>"
      }
     },
     "9c3ad1d6e1d44ed699b452c76fdf7b44": {
      "model_module": "@jupyter-widgets/controls",
      "model_module_version": "1.5.0",
      "model_name": "DescriptionStyleModel",
      "state": {
       "description_width": ""
      }
     },
     "9e132173752b409a8f4c3fc80240129a": {
      "model_module": "@jupyter-widgets/controls",
      "model_module_version": "1.5.0",
      "model_name": "HTMLModel",
      "state": {
       "layout": "IPY_MODEL_3ff4971ee4d84088bc37866cf3b263f5",
       "style": "IPY_MODEL_63ff9f077e86463198f891da514a8425",
       "value": "ibmq_lima"
      }
     },
     "9eede938925243f9a1cdb9fb63be7563": {
      "model_module": "@jupyter-widgets/controls",
      "model_module_version": "1.5.0",
      "model_name": "HTMLModel",
      "state": {
       "layout": "IPY_MODEL_6e1065bb900943f2acd809489ab68f49",
       "style": "IPY_MODEL_9c3ad1d6e1d44ed699b452c76fdf7b44",
       "value": "62032c9a1c54c5d1158a4ad1"
      }
     },
     "a0a9a6ad21354b41b6c1b24284adcc97": {
      "model_module": "@jupyter-widgets/controls",
      "model_module_version": "1.5.0",
      "model_name": "DescriptionStyleModel",
      "state": {
       "description_width": ""
      }
     },
     "a413cad5e17744c6b33a73f30e992284": {
      "model_module": "@jupyter-widgets/controls",
      "model_module_version": "1.5.0",
      "model_name": "HTMLModel",
      "state": {
       "layout": "IPY_MODEL_faf93b697b5c4549a6ea15e7d2455028",
       "style": "IPY_MODEL_3136bb8a42ae487cb72ce1410f4b6010",
       "value": "<p style='font-family: IBM Plex Sans, Arial, Helvetica, sans-serif; font-size: 20px; font-weight: medium;'>Circuit Properties</p>"
      }
     },
     "babec4b263eb45ceb96e3b1354fb8dfa": {
      "model_module": "@jupyter-widgets/base",
      "model_module_version": "1.2.0",
      "model_name": "LayoutModel",
      "state": {
       "margin": "0px 0px 0px 37px",
       "width": "600px"
      }
     },
     "c9a91d9e901a4c58a4cf5ce1312cfa20": {
      "model_module": "@jupyter-widgets/base",
      "model_module_version": "1.2.0",
      "model_name": "LayoutModel",
      "state": {
       "grid_template_areas": "\n                                       \". . . . right \"\n                                        ",
       "grid_template_columns": "20% 20% 20% 20% 20%",
       "width": "100%"
      }
     },
     "d086ca88b0524c79a322966b79106854": {
      "model_module": "@jupyter-widgets/base",
      "model_module_version": "1.2.0",
      "model_name": "LayoutModel",
      "state": {
       "width": "145px"
      }
     },
     "d9a183c4f238454fa1e888821a2d9a63": {
      "model_module": "@jupyter-widgets/controls",
      "model_module_version": "1.5.0",
      "model_name": "DescriptionStyleModel",
      "state": {
       "description_width": ""
      }
     },
     "dd38fe1c56b14797a935e6aba116640f": {
      "model_module": "@jupyter-widgets/controls",
      "model_module_version": "1.5.0",
      "model_name": "DescriptionStyleModel",
      "state": {
       "description_width": ""
      }
     },
     "efa721d2178a498bba65624d3a2e1a56": {
      "model_module": "@jupyter-widgets/base",
      "model_module_version": "1.2.0",
      "model_name": "LayoutModel",
      "state": {
       "overflow_x": "scroll"
      }
     },
     "f706ac603a304a2c8b9c2751d0abfeab": {
      "model_module": "@jupyter-widgets/base",
      "model_module_version": "1.2.0",
      "model_name": "LayoutModel",
      "state": {
       "width": "95px"
      }
     },
     "faf93b697b5c4549a6ea15e7d2455028": {
      "model_module": "@jupyter-widgets/base",
      "model_module_version": "1.2.0",
      "model_name": "LayoutModel",
      "state": {
       "margin": "0px 0px 10px 0px"
      }
     }
    },
    "version_major": 2,
    "version_minor": 0
   }
  }
 },
 "nbformat": 4,
 "nbformat_minor": 4
}
